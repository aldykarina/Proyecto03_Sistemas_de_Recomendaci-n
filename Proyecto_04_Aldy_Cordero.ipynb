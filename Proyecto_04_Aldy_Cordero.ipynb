{
  "nbformat": 4,
  "nbformat_minor": 0,
  "metadata": {
    "kernelspec": {
      "display_name": "Python 3",
      "language": "python",
      "name": "python3"
    },
    "language_info": {
      "codemirror_mode": {
        "name": "ipython",
        "version": 3
      },
      "file_extension": ".py",
      "mimetype": "text/x-python",
      "name": "python",
      "nbconvert_exporter": "python",
      "pygments_lexer": "ipython3",
      "version": "3.8.2"
    },
    "colab": {
      "name": "Proyecto_04_Aldy_Cordero.ipynb",
      "provenance": [],
      "collapsed_sections": [],
      "toc_visible": true
    }
  },
  "cells": [
    {
      "cell_type": "markdown",
      "metadata": {
        "id": "gzJLet17WTzh"
      },
      "source": [
        "# Proyecto 04 - Sistemas de Recomendación para la Plataforma STEAM\n",
        "\n",
        "## Dataset: STEAM\n",
        "\n",
        "Link [aquí](https://github.com/kang205/SASRec). Son dos archivos, uno de calificaciones y otro de información sobre los juegos.\n"
      ]
    },
    {
      "cell_type": "markdown",
      "metadata": {
        "id": "S7sg8EU68It0"
      },
      "source": [
        "# **Objetivo:**\n",
        "\n",
        "Mejorar un modelo de machine learning de Filtro Colaborativo para un Sistema de Recomendación de juegos de las plataforma STEAM. \n",
        "Después de realizar la combinación de los datasets, se ampliará el análisis exploratorio de la columna \"Text\" con métodos de NPL para clasificar dicha variable en comentarios positivos o negativos y en base a ella determinar si existe la posibilidad de mejorar las predicciones. \n",
        "\n",
        "A continuación, el link al repositorio GitHub: https://github.com/aldykarina/Proyecto03_Sistemas_de_Recomendaci-n.git"
      ]
    },
    {
      "cell_type": "markdown",
      "metadata": {
        "id": "mUJEb2ks-zfB"
      },
      "source": [
        "## **Exploración de datos**"
      ]
    },
    {
      "cell_type": "markdown",
      "metadata": {
        "id": "xzN5jB-paTYM"
      },
      "source": [
        "### **Librerías**"
      ]
    },
    {
      "cell_type": "code",
      "metadata": {
        "colab": {
          "base_uri": "https://localhost:8080/"
        },
        "id": "AD7s3brCZlUQ",
        "outputId": "f8d4a8d7-a5c3-48e3-d3ca-6488d8f6ef67"
      },
      "source": [
        "from google.colab import drive \n",
        "drive.mount('/content/gdrive')"
      ],
      "execution_count": 1,
      "outputs": [
        {
          "output_type": "stream",
          "text": [
            "Drive already mounted at /content/gdrive; to attempt to forcibly remount, call drive.mount(\"/content/gdrive\", force_remount=True).\n"
          ],
          "name": "stdout"
        }
      ]
    },
    {
      "cell_type": "code",
      "metadata": {
        "id": "lWZhtUxEWTzj",
        "colab": {
          "base_uri": "https://localhost:8080/"
        },
        "outputId": "1e967e6f-bd09-4348-a394-18f879e72cec"
      },
      "source": [
        "import gzip\n",
        "import pandas as pd\n",
        "import numpy as np\n",
        "import matplotlib.pyplot as plt\n",
        "import seaborn as sns\n",
        "sns.set()\n",
        "\n",
        "from sklearn.preprocessing import LabelEncoder\n",
        "\n",
        "import itertools\n",
        "import nltk\n",
        "nltk.download('punkt')\n",
        "nltk.download('stopwords')\n",
        "\n",
        "def parse(path):\n",
        "    g = gzip.open(path, 'r')\n",
        "    for l in g:\n",
        "        yield eval(l)\n"
      ],
      "execution_count": 2,
      "outputs": [
        {
          "output_type": "stream",
          "text": [
            "[nltk_data] Downloading package punkt to /root/nltk_data...\n",
            "[nltk_data]   Package punkt is already up-to-date!\n",
            "[nltk_data] Downloading package stopwords to /root/nltk_data...\n",
            "[nltk_data]   Package stopwords is already up-to-date!\n"
          ],
          "name": "stdout"
        }
      ]
    },
    {
      "cell_type": "markdown",
      "metadata": {
        "id": "ZRu2DRcDNLQr"
      },
      "source": [
        "### **Abrir los archivos**"
      ]
    },
    {
      "cell_type": "markdown",
      "metadata": {
        "id": "UUOq450IAVGh"
      },
      "source": [
        "Abrimos el archivo json, creamos un nuevo archivo pasandolo csv y lo guardamos.\n",
        "\n"
      ]
    },
    {
      "cell_type": "markdown",
      "metadata": {
        "id": "eFsr8PkWNjsZ"
      },
      "source": [
        "**Reviews**\n",
        "\n",
        "Con este codigo solo tomamos una decima parte del dataset original para no colapsar la memoria RAM.\n",
        "Y lo guardamos como archivo csv."
      ]
    },
    {
      "cell_type": "code",
      "metadata": {
        "id": "abAXItn1WTz0"
      },
      "source": [
        "#contador = 0\n",
        "#data_reviews = []\n",
        "# Vamos a guardar una de cada 10 reviews para no llenar la memoria RAM. Si pones n = 3, \n",
        "# abrira uno de cada tres, y asi.\n",
        "\n",
        "#n = 10\n",
        "#for l in parse('/content/gdrive/MyDrive/Colab Files/steam_reviews.json.gz'):\n",
        "#    if contador%n == 0:\n",
        "#        data_reviews.append(l)\n",
        "#    else:\n",
        "#        pass\n",
        "#    contador += 1\n",
        "#data_reviews = pd.DataFrame(data_reviews)\n",
        "#data_reviews.to_csv('/content/gdrive/MyDrive/Colab Files/data_reviews.csv',index=False)"
      ],
      "execution_count": 3,
      "outputs": []
    },
    {
      "cell_type": "code",
      "metadata": {
        "id": "Z7Ll1zw5bfHR"
      },
      "source": [
        "data_reviews = pd.read_csv('/content/gdrive/MyDrive/Colab Files/data_reviews.csv')\n",
        "#data_reviews= pd.DataFrame(data_reviews, columns=['username', 'product_id', 'text'])"
      ],
      "execution_count": 4,
      "outputs": []
    },
    {
      "cell_type": "markdown",
      "metadata": {
        "id": "ztc80__FNt70"
      },
      "source": [
        "**Games**"
      ]
    },
    {
      "cell_type": "code",
      "metadata": {
        "id": "8wRb24Y5WT0U"
      },
      "source": [
        "#data_games = []\n",
        "#for l in parse('/content/gdrive/MyDrive/Colab Files/steam_games.json.gz'):\n",
        "#    data_games.append(l)\n",
        "#data_games = pd.DataFrame(data_games) \n",
        "#data_games.to_csv('/content/gdrive/MyDrive/Colab Files/data_games.csv',index=False)\n"
      ],
      "execution_count": 5,
      "outputs": []
    },
    {
      "cell_type": "code",
      "metadata": {
        "id": "9KiSQi8xw7K_"
      },
      "source": [
        "data_games = pd.read_csv('/content/gdrive/MyDrive/Colab Files/data_games.csv')"
      ],
      "execution_count": 6,
      "outputs": []
    },
    {
      "cell_type": "code",
      "metadata": {
        "id": "G2HKFJSThMXY"
      },
      "source": [
        "#data_games= pd.DataFrame(data_games, columns=['title', 'id'])"
      ],
      "execution_count": 7,
      "outputs": []
    },
    {
      "cell_type": "markdown",
      "metadata": {
        "id": "BmEM25k4WTzw"
      },
      "source": [
        "### **Reviews**"
      ]
    },
    {
      "cell_type": "code",
      "metadata": {
        "colab": {
          "base_uri": "https://localhost:8080/"
        },
        "id": "Vw09T4IwolS9",
        "outputId": "b04ba4e8-675e-49dd-9bd4-cc15c87ad22f"
      },
      "source": [
        "print(f'Nº de filas: {data_reviews.shape[0]}')\n",
        "print(f'Nº de columnas: {data_reviews.shape[1]}')"
      ],
      "execution_count": 8,
      "outputs": [
        {
          "output_type": "stream",
          "text": [
            "Nº de filas: 779307\n",
            "Nº de columnas: 12\n"
          ],
          "name": "stdout"
        }
      ]
    },
    {
      "cell_type": "code",
      "metadata": {
        "colab": {
          "base_uri": "https://localhost:8080/",
          "height": 326
        },
        "id": "rzDQAxC2A0Qs",
        "outputId": "2aff8237-02fa-43f4-89b5-2eaee107bef9"
      },
      "source": [
        "data_reviews.head()"
      ],
      "execution_count": 9,
      "outputs": [
        {
          "output_type": "execute_result",
          "data": {
            "text/html": [
              "<div>\n",
              "<style scoped>\n",
              "    .dataframe tbody tr th:only-of-type {\n",
              "        vertical-align: middle;\n",
              "    }\n",
              "\n",
              "    .dataframe tbody tr th {\n",
              "        vertical-align: top;\n",
              "    }\n",
              "\n",
              "    .dataframe thead th {\n",
              "        text-align: right;\n",
              "    }\n",
              "</style>\n",
              "<table border=\"1\" class=\"dataframe\">\n",
              "  <thead>\n",
              "    <tr style=\"text-align: right;\">\n",
              "      <th></th>\n",
              "      <th>username</th>\n",
              "      <th>hours</th>\n",
              "      <th>products</th>\n",
              "      <th>product_id</th>\n",
              "      <th>page_order</th>\n",
              "      <th>date</th>\n",
              "      <th>text</th>\n",
              "      <th>early_access</th>\n",
              "      <th>page</th>\n",
              "      <th>user_id</th>\n",
              "      <th>compensation</th>\n",
              "      <th>found_funny</th>\n",
              "    </tr>\n",
              "  </thead>\n",
              "  <tbody>\n",
              "    <tr>\n",
              "      <th>0</th>\n",
              "      <td>Chaos Syren</td>\n",
              "      <td>0.1</td>\n",
              "      <td>41.0</td>\n",
              "      <td>725280</td>\n",
              "      <td>0</td>\n",
              "      <td>2017-12-17</td>\n",
              "      <td>This would not be acceptable as an entertainme...</td>\n",
              "      <td>False</td>\n",
              "      <td>1</td>\n",
              "      <td>NaN</td>\n",
              "      <td>NaN</td>\n",
              "      <td>NaN</td>\n",
              "    </tr>\n",
              "    <tr>\n",
              "      <th>1</th>\n",
              "      <td>Ariman1</td>\n",
              "      <td>13.2</td>\n",
              "      <td>1386.0</td>\n",
              "      <td>328100</td>\n",
              "      <td>2</td>\n",
              "      <td>2017-08-02</td>\n",
              "      <td>Addictive RPG ! Works fine on linux though it ...</td>\n",
              "      <td>False</td>\n",
              "      <td>1</td>\n",
              "      <td>NaN</td>\n",
              "      <td>NaN</td>\n",
              "      <td>NaN</td>\n",
              "    </tr>\n",
              "    <tr>\n",
              "      <th>2</th>\n",
              "      <td>freakfantom</td>\n",
              "      <td>0.1</td>\n",
              "      <td>1706.0</td>\n",
              "      <td>725280</td>\n",
              "      <td>5</td>\n",
              "      <td>2017-11-12</td>\n",
              "      <td>Прикольная стрелялка. Взял дешево на распродаже.</td>\n",
              "      <td>False</td>\n",
              "      <td>1</td>\n",
              "      <td>NaN</td>\n",
              "      <td>NaN</td>\n",
              "      <td>NaN</td>\n",
              "    </tr>\n",
              "    <tr>\n",
              "      <th>3</th>\n",
              "      <td>The_Cpt_FROGGY</td>\n",
              "      <td>7.8</td>\n",
              "      <td>2217.0</td>\n",
              "      <td>631920</td>\n",
              "      <td>0</td>\n",
              "      <td>2017-12-11</td>\n",
              "      <td>Somewhere on Zibylon:\\n~~~~~~~~~~~~~~~~~~\\nZib...</td>\n",
              "      <td>False</td>\n",
              "      <td>1</td>\n",
              "      <td>7.656120e+16</td>\n",
              "      <td>Product received for free</td>\n",
              "      <td>NaN</td>\n",
              "    </tr>\n",
              "    <tr>\n",
              "      <th>4</th>\n",
              "      <td>the_maker988</td>\n",
              "      <td>8.2</td>\n",
              "      <td>18.0</td>\n",
              "      <td>35140</td>\n",
              "      <td>7</td>\n",
              "      <td>2018-01-02</td>\n",
              "      <td>This game was way to linear for me, and compar...</td>\n",
              "      <td>False</td>\n",
              "      <td>1</td>\n",
              "      <td>7.656120e+16</td>\n",
              "      <td>NaN</td>\n",
              "      <td>NaN</td>\n",
              "    </tr>\n",
              "  </tbody>\n",
              "</table>\n",
              "</div>"
            ],
            "text/plain": [
              "         username  hours  ...               compensation  found_funny\n",
              "0     Chaos Syren    0.1  ...                        NaN          NaN\n",
              "1         Ariman1   13.2  ...                        NaN          NaN\n",
              "2     freakfantom    0.1  ...                        NaN          NaN\n",
              "3  The_Cpt_FROGGY    7.8  ...  Product received for free          NaN\n",
              "4    the_maker988    8.2  ...                        NaN          NaN\n",
              "\n",
              "[5 rows x 12 columns]"
            ]
          },
          "metadata": {
            "tags": []
          },
          "execution_count": 9
        }
      ]
    },
    {
      "cell_type": "markdown",
      "metadata": {
        "id": "q8DSLmKnOgXT"
      },
      "source": [
        "**Data Reviews**: contiene información sobre las reseñas que realizaron los usuarios sobre los juegos que bajaron de la plataforma. A continuación describiremos sus principales características:\n",
        "\n",
        "\n",
        "*   **username**: nombre del usuario\n",
        "*   **hours** horas que ese usuario ha jugado ese juego\n",
        "*   **products**: cantidad de productos que el usuario compro en la plataforma\n",
        "*   **product_id**: identificacion numerica y única del juego\n",
        "*   **date**: fecha en que el usuario realizó la reseña\n",
        "*   **text**: texto con observaciones del usuario\n",
        "*   **found_funny** las reseñas que realiza el usuario pueden ser marcadas como \"funnys\" por otros usuarios. Este indicador numerico es la cantidad de \"calificaciones funny\" que su reseña obtuvo. Es importante señalar que las reseñas que el usuario realiza solo puede calificarlas con \"dedito arriba\" o \"dedito abajo\". \n",
        "\n",
        "    \n"
      ]
    },
    {
      "cell_type": "markdown",
      "metadata": {
        "id": "MIx5laE1EzyW"
      },
      "source": [
        "Evitamos que los product_id aparezcan con notación cientrífica\n"
      ]
    },
    {
      "cell_type": "code",
      "metadata": {
        "id": "E2NhtRMgE3yl"
      },
      "source": [
        "pd.options.display.float_format = '{:.1f}'.format"
      ],
      "execution_count": 10,
      "outputs": []
    },
    {
      "cell_type": "markdown",
      "metadata": {
        "id": "Re1N2M38ETs5"
      },
      "source": [
        "Miramos las principales estadísticas de las variables numéricas"
      ]
    },
    {
      "cell_type": "code",
      "metadata": {
        "colab": {
          "base_uri": "https://localhost:8080/",
          "height": 297
        },
        "id": "YRE3qO-CERBl",
        "outputId": "d931378a-fdc6-4099-ec48-83963296f5d4"
      },
      "source": [
        "data_reviews.describe()"
      ],
      "execution_count": 11,
      "outputs": [
        {
          "output_type": "execute_result",
          "data": {
            "text/html": [
              "<div>\n",
              "<style scoped>\n",
              "    .dataframe tbody tr th:only-of-type {\n",
              "        vertical-align: middle;\n",
              "    }\n",
              "\n",
              "    .dataframe tbody tr th {\n",
              "        vertical-align: top;\n",
              "    }\n",
              "\n",
              "    .dataframe thead th {\n",
              "        text-align: right;\n",
              "    }\n",
              "</style>\n",
              "<table border=\"1\" class=\"dataframe\">\n",
              "  <thead>\n",
              "    <tr style=\"text-align: right;\">\n",
              "      <th></th>\n",
              "      <th>hours</th>\n",
              "      <th>products</th>\n",
              "      <th>product_id</th>\n",
              "      <th>page_order</th>\n",
              "      <th>page</th>\n",
              "      <th>user_id</th>\n",
              "      <th>found_funny</th>\n",
              "    </tr>\n",
              "  </thead>\n",
              "  <tbody>\n",
              "    <tr>\n",
              "      <th>count</th>\n",
              "      <td>776670.0</td>\n",
              "      <td>777741.0</td>\n",
              "      <td>779307.0</td>\n",
              "      <td>779307.0</td>\n",
              "      <td>779307.0</td>\n",
              "      <td>317340.0</td>\n",
              "      <td>120164.0</td>\n",
              "    </tr>\n",
              "    <tr>\n",
              "      <th>mean</th>\n",
              "      <td>111.8</td>\n",
              "      <td>237.0</td>\n",
              "      <td>251489.8</td>\n",
              "      <td>4.4</td>\n",
              "      <td>893.6</td>\n",
              "      <td>76561198096636224.0</td>\n",
              "      <td>7.7</td>\n",
              "    </tr>\n",
              "    <tr>\n",
              "      <th>std</th>\n",
              "      <td>390.1</td>\n",
              "      <td>486.0</td>\n",
              "      <td>149975.4</td>\n",
              "      <td>2.9</td>\n",
              "      <td>1928.3</td>\n",
              "      <td>100769430.4</td>\n",
              "      <td>72.5</td>\n",
              "    </tr>\n",
              "    <tr>\n",
              "      <th>min</th>\n",
              "      <td>0.0</td>\n",
              "      <td>1.0</td>\n",
              "      <td>10.0</td>\n",
              "      <td>0.0</td>\n",
              "      <td>1.0</td>\n",
              "      <td>76561197960267616.0</td>\n",
              "      <td>1.0</td>\n",
              "    </tr>\n",
              "    <tr>\n",
              "      <th>25%</th>\n",
              "      <td>4.0</td>\n",
              "      <td>45.0</td>\n",
              "      <td>203770.0</td>\n",
              "      <td>2.0</td>\n",
              "      <td>53.0</td>\n",
              "      <td>76561198025782096.0</td>\n",
              "      <td>1.0</td>\n",
              "    </tr>\n",
              "    <tr>\n",
              "      <th>50%</th>\n",
              "      <td>15.3</td>\n",
              "      <td>110.0</td>\n",
              "      <td>252490.0</td>\n",
              "      <td>4.0</td>\n",
              "      <td>238.0</td>\n",
              "      <td>76561198071266832.0</td>\n",
              "      <td>1.0</td>\n",
              "    </tr>\n",
              "    <tr>\n",
              "      <th>75%</th>\n",
              "      <td>59.6</td>\n",
              "      <td>246.0</td>\n",
              "      <td>346110.0</td>\n",
              "      <td>7.0</td>\n",
              "      <td>829.0</td>\n",
              "      <td>76561198140805376.0</td>\n",
              "      <td>3.0</td>\n",
              "    </tr>\n",
              "    <tr>\n",
              "      <th>max</th>\n",
              "      <td>28164.0</td>\n",
              "      <td>13540.0</td>\n",
              "      <td>773900.0</td>\n",
              "      <td>9.0</td>\n",
              "      <td>18371.0</td>\n",
              "      <td>76561198803033792.0</td>\n",
              "      <td>6524.0</td>\n",
              "    </tr>\n",
              "  </tbody>\n",
              "</table>\n",
              "</div>"
            ],
            "text/plain": [
              "         hours  products  product_id  ...     page             user_id  found_funny\n",
              "count 776670.0  777741.0    779307.0  ... 779307.0            317340.0     120164.0\n",
              "mean     111.8     237.0    251489.8  ...    893.6 76561198096636224.0          7.7\n",
              "std      390.1     486.0    149975.4  ...   1928.3         100769430.4         72.5\n",
              "min        0.0       1.0        10.0  ...      1.0 76561197960267616.0          1.0\n",
              "25%        4.0      45.0    203770.0  ...     53.0 76561198025782096.0          1.0\n",
              "50%       15.3     110.0    252490.0  ...    238.0 76561198071266832.0          1.0\n",
              "75%       59.6     246.0    346110.0  ...    829.0 76561198140805376.0          3.0\n",
              "max    28164.0   13540.0    773900.0  ...  18371.0 76561198803033792.0       6524.0\n",
              "\n",
              "[8 rows x 7 columns]"
            ]
          },
          "metadata": {
            "tags": []
          },
          "execution_count": 11
        }
      ]
    },
    {
      "cell_type": "markdown",
      "metadata": {
        "id": "INoDTmWmSwgn"
      },
      "source": [
        "Las variables: \n",
        "\n",
        "*   **hours**: tiene un crecimineto exponecial en el último cuartil, las horas de juego van de 60 a 28164.\n",
        "*   **product_id**: es un valor númerico que asigna como referenica a un juego en particular, el cual hace referencia también al atributo \"id\" del archivo data_games que también le asigna la misma referencia a un solo juego en particular.\n",
        "*   **user_id**: es un valor de referencia para el usuario\n",
        "*   **found_funny**: vemos que al igual que hours, presenta un crecimiento exponencial en el último cuartil, pasando los datos de 3 a 6524.\n",
        "\n"
      ]
    },
    {
      "cell_type": "markdown",
      "metadata": {
        "id": "S3eeVUxvZhJB"
      },
      "source": [
        "#### **Valores faltantes**"
      ]
    },
    {
      "cell_type": "code",
      "metadata": {
        "id": "0nBg9UXldfbg"
      },
      "source": [
        "import warnings\n",
        "warnings.filterwarnings('ignore')"
      ],
      "execution_count": 12,
      "outputs": []
    },
    {
      "cell_type": "code",
      "metadata": {
        "colab": {
          "base_uri": "https://localhost:8080/",
          "height": 665
        },
        "id": "_cvCYFeFbuvS",
        "outputId": "9f487ecd-26f5-4080-f650-2d63d2fd8c79"
      },
      "source": [
        "#Valores faltantes\n",
        "rev_missing = data_reviews.isna().sum()/len(data_reviews)*100\n",
        "#se crea otra serie para usar como variable independiente.\n",
        "columnas=data_reviews.columns\n",
        "##Gráfico\n",
        "plt.figure(figsize = (10,6))\n",
        "sns.barplot( x = rev_missing, y=columnas)\n",
        "plt.title(\"Variables con valores Faltantes\",fontsize=20)\n",
        "plt.xlabel(\"Cantidad\",fontsize=14)\n",
        "plt.ylabel(\"variables\",fontsize=14)\n",
        "ax = plt.axes()\n",
        "plt.grid(True,color='grey', linestyle='--', linewidth=0.5)\n",
        "ax.set_axisbelow(True)\n",
        "plt.show()\n",
        "\n",
        "def missing_percentage(df):\n",
        "    total = data_reviews.isnull().sum().sort_values(ascending = False)[data_reviews.isnull().sum().sort_values(ascending = False) != 0]\n",
        "    percent = round(data_reviews.isnull().sum().sort_values(ascending = False)/len(df)*100,2)[round(data_reviews.isnull().sum().sort_values(ascending = False)/len(data_reviews)*100,2) != 0]\n",
        "    return pd.concat([total, percent], axis=1, keys=['Valores faltantes','Porcentaje'])\n",
        "missing_percentage(data_reviews)"
      ],
      "execution_count": 13,
      "outputs": [
        {
          "output_type": "display_data",
          "data": {
            "image/png": "[encoded data removed]",
            "text/plain": [
              "<Figure size 720x432 with 1 Axes>"
            ]
          },
          "metadata": {
            "tags": []
          }
        },
        {
          "output_type": "execute_result",
          "data": {
            "text/html": [
              "<div>\n",
              "<style scoped>\n",
              "    .dataframe tbody tr th:only-of-type {\n",
              "        vertical-align: middle;\n",
              "    }\n",
              "\n",
              "    .dataframe tbody tr th {\n",
              "        vertical-align: top;\n",
              "    }\n",
              "\n",
              "    .dataframe thead th {\n",
              "        text-align: right;\n",
              "    }\n",
              "</style>\n",
              "<table border=\"1\" class=\"dataframe\">\n",
              "  <thead>\n",
              "    <tr style=\"text-align: right;\">\n",
              "      <th></th>\n",
              "      <th>Valores faltantes</th>\n",
              "      <th>Porcentaje</th>\n",
              "    </tr>\n",
              "  </thead>\n",
              "  <tbody>\n",
              "    <tr>\n",
              "      <th>compensation</th>\n",
              "      <td>764719</td>\n",
              "      <td>98.1</td>\n",
              "    </tr>\n",
              "    <tr>\n",
              "      <th>found_funny</th>\n",
              "      <td>659143</td>\n",
              "      <td>84.6</td>\n",
              "    </tr>\n",
              "    <tr>\n",
              "      <th>user_id</th>\n",
              "      <td>461967</td>\n",
              "      <td>59.3</td>\n",
              "    </tr>\n",
              "    <tr>\n",
              "      <th>hours</th>\n",
              "      <td>2637</td>\n",
              "      <td>0.3</td>\n",
              "    </tr>\n",
              "    <tr>\n",
              "      <th>text</th>\n",
              "      <td>1839</td>\n",
              "      <td>0.2</td>\n",
              "    </tr>\n",
              "    <tr>\n",
              "      <th>products</th>\n",
              "      <td>1566</td>\n",
              "      <td>0.2</td>\n",
              "    </tr>\n",
              "    <tr>\n",
              "      <th>username</th>\n",
              "      <td>18</td>\n",
              "      <td>nan</td>\n",
              "    </tr>\n",
              "  </tbody>\n",
              "</table>\n",
              "</div>"
            ],
            "text/plain": [
              "              Valores faltantes  Porcentaje\n",
              "compensation             764719        98.1\n",
              "found_funny              659143        84.6\n",
              "user_id                  461967        59.3\n",
              "hours                      2637         0.3\n",
              "text                       1839         0.2\n",
              "products                   1566         0.2\n",
              "username                     18         nan"
            ]
          },
          "metadata": {
            "tags": []
          },
          "execution_count": 13
        }
      ]
    },
    {
      "cell_type": "markdown",
      "metadata": {
        "id": "RMUWPrg-b3Qy"
      },
      "source": [
        "Descartamos las variables de las columnas poco significaticas por no aportar informacion relevante para este estudio, como lo son: products, page_order, date, page, early_acces, \"found_funny\" y \"compensation\".\n",
        "\n",
        "Por otro lado \"userd_id\" contiene casi el 60% de valores faltantes y como esta variable se refiere al número unico de identificación del usuario, la eliminamos y usamos \"username\"."
      ]
    },
    {
      "cell_type": "markdown",
      "metadata": {
        "id": "z92KgTcskFDJ"
      },
      "source": [
        "Los datos nulos de *username*, *text* y *hours* serán descartados debido a que tienen un porcentaje muy pequeño respecto a la totalidad de los datos."
      ]
    },
    {
      "cell_type": "code",
      "metadata": {
        "colab": {
          "base_uri": "https://localhost:8080/"
        },
        "id": "jJaBoNwFd68A",
        "outputId": "8984565b-1a8b-45fd-fbbc-9c38562fcc6d"
      },
      "source": [
        "#se reorganiza el dataset tomando solo las columnas relevantes\n",
        "data_reviews_1 = data_reviews[['username','product_id','text','hours']].copy()\n",
        "#se eliminan los valores faltantes\n",
        "data_reviews_1.dropna(subset=['username'], how='all', inplace=True)\n",
        "data_reviews_1.dropna(subset=['text'], how='all', inplace=True)\n",
        "data_reviews_1.dropna(subset=['hours'], how='all', inplace=True)\n",
        "#impresión de tipo de datos\n",
        "data_reviews_1.dtypes"
      ],
      "execution_count": 14,
      "outputs": [
        {
          "output_type": "execute_result",
          "data": {
            "text/plain": [
              "username       object\n",
              "product_id      int64\n",
              "text           object\n",
              "hours         float64\n",
              "dtype: object"
            ]
          },
          "metadata": {
            "tags": []
          },
          "execution_count": 14
        }
      ]
    },
    {
      "cell_type": "code",
      "metadata": {
        "colab": {
          "base_uri": "https://localhost:8080/"
        },
        "id": "DUZAUMs3J-Di",
        "outputId": "5e4620df-a6f0-45f6-c8ec-87fc0798e5a4"
      },
      "source": [
        "data_reviews_1.isna().sum()"
      ],
      "execution_count": 15,
      "outputs": [
        {
          "output_type": "execute_result",
          "data": {
            "text/plain": [
              "username      0\n",
              "product_id    0\n",
              "text          0\n",
              "hours         0\n",
              "dtype: int64"
            ]
          },
          "metadata": {
            "tags": []
          },
          "execution_count": 15
        }
      ]
    },
    {
      "cell_type": "markdown",
      "metadata": {
        "id": "04ed3teRWT0T"
      },
      "source": [
        "### **Games**"
      ]
    },
    {
      "cell_type": "code",
      "metadata": {
        "colab": {
          "base_uri": "https://localhost:8080/"
        },
        "id": "AwtNWaui0X8g",
        "outputId": "71c106d4-8151-4729-a788-f1d339d35d25"
      },
      "source": [
        "print(f'Nº de filas: {data_games.shape[0]}')\n",
        "print(f'Nº de columnas: {data_games.shape[1]}')"
      ],
      "execution_count": 16,
      "outputs": [
        {
          "output_type": "stream",
          "text": [
            "Nº de filas: 32135\n",
            "Nº de columnas: 16\n"
          ],
          "name": "stdout"
        }
      ]
    },
    {
      "cell_type": "code",
      "metadata": {
        "id": "sVR0Cs6SWT0b",
        "colab": {
          "base_uri": "https://localhost:8080/",
          "height": 400
        },
        "outputId": "557e67b8-4c02-4608-fe86-dbde3c910ce3"
      },
      "source": [
        "data_games.head(3)"
      ],
      "execution_count": 17,
      "outputs": [
        {
          "output_type": "execute_result",
          "data": {
            "text/html": [
              "<div>\n",
              "<style scoped>\n",
              "    .dataframe tbody tr th:only-of-type {\n",
              "        vertical-align: middle;\n",
              "    }\n",
              "\n",
              "    .dataframe tbody tr th {\n",
              "        vertical-align: top;\n",
              "    }\n",
              "\n",
              "    .dataframe thead th {\n",
              "        text-align: right;\n",
              "    }\n",
              "</style>\n",
              "<table border=\"1\" class=\"dataframe\">\n",
              "  <thead>\n",
              "    <tr style=\"text-align: right;\">\n",
              "      <th></th>\n",
              "      <th>publisher</th>\n",
              "      <th>genres</th>\n",
              "      <th>app_name</th>\n",
              "      <th>title</th>\n",
              "      <th>url</th>\n",
              "      <th>release_date</th>\n",
              "      <th>tags</th>\n",
              "      <th>discount_price</th>\n",
              "      <th>reviews_url</th>\n",
              "      <th>specs</th>\n",
              "      <th>price</th>\n",
              "      <th>early_access</th>\n",
              "      <th>id</th>\n",
              "      <th>developer</th>\n",
              "      <th>sentiment</th>\n",
              "      <th>metascore</th>\n",
              "    </tr>\n",
              "  </thead>\n",
              "  <tbody>\n",
              "    <tr>\n",
              "      <th>0</th>\n",
              "      <td>Kotoshiro</td>\n",
              "      <td>['Action', 'Casual', 'Indie', 'Simulation', 'S...</td>\n",
              "      <td>Lost Summoner Kitty</td>\n",
              "      <td>Lost Summoner Kitty</td>\n",
              "      <td>http://store.steampowered.com/app/761140/Lost_...</td>\n",
              "      <td>2018-01-04</td>\n",
              "      <td>['Strategy', 'Action', 'Indie', 'Casual', 'Sim...</td>\n",
              "      <td>4.5</td>\n",
              "      <td>http://steamcommunity.com/app/761140/reviews/?...</td>\n",
              "      <td>['Single-player']</td>\n",
              "      <td>4.99</td>\n",
              "      <td>False</td>\n",
              "      <td>761140.0</td>\n",
              "      <td>Kotoshiro</td>\n",
              "      <td>NaN</td>\n",
              "      <td>nan</td>\n",
              "    </tr>\n",
              "    <tr>\n",
              "      <th>1</th>\n",
              "      <td>Making Fun, Inc.</td>\n",
              "      <td>['Free to Play', 'Indie', 'RPG', 'Strategy']</td>\n",
              "      <td>Ironbound</td>\n",
              "      <td>Ironbound</td>\n",
              "      <td>http://store.steampowered.com/app/643980/Ironb...</td>\n",
              "      <td>2018-01-04</td>\n",
              "      <td>['Free to Play', 'Strategy', 'Indie', 'RPG', '...</td>\n",
              "      <td>nan</td>\n",
              "      <td>http://steamcommunity.com/app/643980/reviews/?...</td>\n",
              "      <td>['Single-player', 'Multi-player', 'Online Mult...</td>\n",
              "      <td>Free To Play</td>\n",
              "      <td>False</td>\n",
              "      <td>643980.0</td>\n",
              "      <td>Secret Level SRL</td>\n",
              "      <td>Mostly Positive</td>\n",
              "      <td>nan</td>\n",
              "    </tr>\n",
              "    <tr>\n",
              "      <th>2</th>\n",
              "      <td>Poolians.com</td>\n",
              "      <td>['Casual', 'Free to Play', 'Indie', 'Simulatio...</td>\n",
              "      <td>Real Pool 3D - Poolians</td>\n",
              "      <td>Real Pool 3D - Poolians</td>\n",
              "      <td>http://store.steampowered.com/app/670290/Real_...</td>\n",
              "      <td>2017-07-24</td>\n",
              "      <td>['Free to Play', 'Simulation', 'Sports', 'Casu...</td>\n",
              "      <td>nan</td>\n",
              "      <td>http://steamcommunity.com/app/670290/reviews/?...</td>\n",
              "      <td>['Single-player', 'Multi-player', 'Online Mult...</td>\n",
              "      <td>Free to Play</td>\n",
              "      <td>False</td>\n",
              "      <td>670290.0</td>\n",
              "      <td>Poolians.com</td>\n",
              "      <td>Mostly Positive</td>\n",
              "      <td>nan</td>\n",
              "    </tr>\n",
              "  </tbody>\n",
              "</table>\n",
              "</div>"
            ],
            "text/plain": [
              "          publisher  ... metascore\n",
              "0         Kotoshiro  ...       nan\n",
              "1  Making Fun, Inc.  ...       nan\n",
              "2      Poolians.com  ...       nan\n",
              "\n",
              "[3 rows x 16 columns]"
            ]
          },
          "metadata": {
            "tags": []
          },
          "execution_count": 17
        }
      ]
    },
    {
      "cell_type": "markdown",
      "metadata": {
        "id": "4kUhrjRgla_t"
      },
      "source": [
        "**Data Games**: contiene información sobre los juegos que ofrece la plataforma. A continuación describiremos sus principales características:\n",
        "\n",
        "\n",
        "*   **publisher**: editor\n",
        "*   **genres** géneros\n",
        "*   **title / app_name**: nombre del juego\n",
        "*   **release_date**: fecha en que se comenzo a comercializar\n",
        "*   **tags**: etiquetas\n",
        "*   **specs**: características del juego\n",
        "*   **id**: identificación númerica y única del juego\n",
        "*   **developer**: desarrollador\n",
        "*   **sentiment**: asigna al juego un \"valor característico\" en función de la valoración que le pusieron los usuarios, si es más o menos valorado; también diferencia los casos en que no hay suficientes reseñas para evaluarlo.\n",
        "*   **metascore**: valoración númerica de 1 a 100, que tiene ese juego en la web www.metacritic.com "
      ]
    },
    {
      "cell_type": "markdown",
      "metadata": {
        "id": "zwLKCQKhn6Ia"
      },
      "source": [
        "Miramos las principales estadísticas de las variables numéricas"
      ]
    },
    {
      "cell_type": "code",
      "metadata": {
        "colab": {
          "base_uri": "https://localhost:8080/",
          "height": 297
        },
        "id": "eO5minZRn6Ib",
        "outputId": "12b17c8b-9b04-49c1-9272-de937a0f744e"
      },
      "source": [
        "data_games.describe()"
      ],
      "execution_count": 18,
      "outputs": [
        {
          "output_type": "execute_result",
          "data": {
            "text/html": [
              "<div>\n",
              "<style scoped>\n",
              "    .dataframe tbody tr th:only-of-type {\n",
              "        vertical-align: middle;\n",
              "    }\n",
              "\n",
              "    .dataframe tbody tr th {\n",
              "        vertical-align: top;\n",
              "    }\n",
              "\n",
              "    .dataframe thead th {\n",
              "        text-align: right;\n",
              "    }\n",
              "</style>\n",
              "<table border=\"1\" class=\"dataframe\">\n",
              "  <thead>\n",
              "    <tr style=\"text-align: right;\">\n",
              "      <th></th>\n",
              "      <th>discount_price</th>\n",
              "      <th>id</th>\n",
              "      <th>metascore</th>\n",
              "    </tr>\n",
              "  </thead>\n",
              "  <tbody>\n",
              "    <tr>\n",
              "      <th>count</th>\n",
              "      <td>225.0</td>\n",
              "      <td>32133.0</td>\n",
              "      <td>2607.0</td>\n",
              "    </tr>\n",
              "    <tr>\n",
              "      <th>mean</th>\n",
              "      <td>11.9</td>\n",
              "      <td>451757.4</td>\n",
              "      <td>72.3</td>\n",
              "    </tr>\n",
              "    <tr>\n",
              "      <th>std</th>\n",
              "      <td>17.5</td>\n",
              "      <td>182714.0</td>\n",
              "      <td>10.8</td>\n",
              "    </tr>\n",
              "    <tr>\n",
              "      <th>min</th>\n",
              "      <td>0.5</td>\n",
              "      <td>10.0</td>\n",
              "      <td>20.0</td>\n",
              "    </tr>\n",
              "    <tr>\n",
              "      <th>25%</th>\n",
              "      <td>1.4</td>\n",
              "      <td>329280.0</td>\n",
              "      <td>66.0</td>\n",
              "    </tr>\n",
              "    <tr>\n",
              "      <th>50%</th>\n",
              "      <td>4.2</td>\n",
              "      <td>452060.0</td>\n",
              "      <td>74.0</td>\n",
              "    </tr>\n",
              "    <tr>\n",
              "      <th>75%</th>\n",
              "      <td>22.7</td>\n",
              "      <td>593400.0</td>\n",
              "      <td>80.0</td>\n",
              "    </tr>\n",
              "    <tr>\n",
              "      <th>max</th>\n",
              "      <td>140.0</td>\n",
              "      <td>2028850.0</td>\n",
              "      <td>96.0</td>\n",
              "    </tr>\n",
              "  </tbody>\n",
              "</table>\n",
              "</div>"
            ],
            "text/plain": [
              "       discount_price        id  metascore\n",
              "count           225.0   32133.0     2607.0\n",
              "mean             11.9  451757.4       72.3\n",
              "std              17.5  182714.0       10.8\n",
              "min               0.5      10.0       20.0\n",
              "25%               1.4  329280.0       66.0\n",
              "50%               4.2  452060.0       74.0\n",
              "75%              22.7  593400.0       80.0\n",
              "max             140.0 2028850.0       96.0"
            ]
          },
          "metadata": {
            "tags": []
          },
          "execution_count": 18
        }
      ]
    },
    {
      "cell_type": "markdown",
      "metadata": {
        "id": "ycR7NMlVGdEw"
      },
      "source": [
        "Y sus valores nulos:"
      ]
    },
    {
      "cell_type": "code",
      "metadata": {
        "colab": {
          "base_uri": "https://localhost:8080/"
        },
        "id": "UiANCQV3X6-k",
        "outputId": "d3592c11-1fa5-4700-a629-bbc53cc1921a"
      },
      "source": [
        "data_games.isna().sum()"
      ],
      "execution_count": 19,
      "outputs": [
        {
          "output_type": "execute_result",
          "data": {
            "text/plain": [
              "publisher          8062\n",
              "genres             3283\n",
              "app_name              2\n",
              "title              2050\n",
              "url                   0\n",
              "release_date       2067\n",
              "tags                163\n",
              "discount_price    31910\n",
              "reviews_url           2\n",
              "specs               670\n",
              "price              1377\n",
              "early_access          0\n",
              "id                    2\n",
              "developer          3299\n",
              "sentiment          7182\n",
              "metascore         29528\n",
              "dtype: int64"
            ]
          },
          "metadata": {
            "tags": []
          },
          "execution_count": 19
        }
      ]
    },
    {
      "cell_type": "markdown",
      "metadata": {
        "id": "-O6L916eoXYd"
      },
      "source": [
        "* *Casi todas las Variables tienen elementos faltantes. Detallamos las principales:\n",
        "\n",
        "1.  discount_price **98%** (31.910) \n",
        "2.  metascore **98%** (29.528)  \n",
        "3.  publisher 59% c/u (8.062)  \n",
        "4.  sentiment 0,3% (7.182) \n",
        "5.  developer 0,2% (3.299)  \n",
        "6.  genres 0,2% (3.283)\n",
        "   "
      ]
    },
    {
      "cell_type": "markdown",
      "metadata": {
        "id": "yh7meS3_o7R3"
      },
      "source": [
        "El atributo **\"id\"** tiene un numero unico que representa al juego **\"title\"** o **\"app_name\"** y se corresponde con el atributo **\"product_id\"** que esta en el data_reviews donde nos representa de que juego esta haciendo la reseña el usuario.\n",
        "\n",
        "Renombramos **id**, a fin de que coincida con el dataset de Reviews donde se nombra **\"product_id\"**."
      ]
    },
    {
      "cell_type": "code",
      "metadata": {
        "id": "UNYQfO0zCwdX"
      },
      "source": [
        "data_games.rename(columns={'id':'product_id'},inplace=True)"
      ],
      "execution_count": 20,
      "outputs": []
    },
    {
      "cell_type": "markdown",
      "metadata": {
        "id": "Sv1DU0tyCf19"
      },
      "source": [
        "*¿Es mejor trabajar con app_name o con title?*"
      ]
    },
    {
      "cell_type": "code",
      "metadata": {
        "colab": {
          "base_uri": "https://localhost:8080/"
        },
        "id": "-kzZb-kjwSEI",
        "outputId": "6fd44a03-4db1-4a74-8117-af43acdab576"
      },
      "source": [
        "app_name=data_games['app_name'].value_counts()\n",
        "app_name"
      ],
      "execution_count": 21,
      "outputs": [
        {
          "output_type": "execute_result",
          "data": {
            "text/plain": [
              "Soundtrack                                                                                             3\n",
              "Hero                                                                                                   2\n",
              "Prism                                                                                                  2\n",
              "Slice&Dice                                                                                             2\n",
              "Archangel                                                                                              2\n",
              "                                                                                                      ..\n",
              "Devilian - Tempest Pack                                                                                1\n",
              "DCS: Black Shark 2                                                                                     1\n",
              "Superdimension Neptune VS Sega Hard Girls - Segami's Astral Brave| 瀬賀初美追加クラス『我が道を行く者』 | 瀨賀美的「自行其道者」    1\n",
              "Call of Duty®: Ghosts - Weapon - The Ripper                                                            1\n",
              "Yu-Gi-Oh! ARC-V Sora and Dipper                                                                        1\n",
              "Name: app_name, Length: 32094, dtype: int64"
            ]
          },
          "metadata": {
            "tags": []
          },
          "execution_count": 21
        }
      ]
    },
    {
      "cell_type": "code",
      "metadata": {
        "colab": {
          "base_uri": "https://localhost:8080/"
        },
        "id": "ZBdTGadhwdY8",
        "outputId": "7b7d919c-4e3b-4580-a84d-215542c7615c"
      },
      "source": [
        "title=data_games['title'].value_counts()\n",
        "title"
      ],
      "execution_count": 22,
      "outputs": [
        {
          "output_type": "execute_result",
          "data": {
            "text/plain": [
              "Soundtrack                                3\n",
              "Borealis                                  2\n",
              "Colony                                    2\n",
              "Goro                                      2\n",
              "The Dream Machine: Chapter 4              2\n",
              "                                         ..\n",
              "Otto the Odd Ostrich                      1\n",
              "Virtual Families                          1\n",
              "Age of Wonders II: The Wizard's Throne    1\n",
              "Get Rich or Die Gaming                    1\n",
              "Yu-Gi-Oh! ARC-V Sora and Dipper           1\n",
              "Name: title, Length: 30054, dtype: int64"
            ]
          },
          "metadata": {
            "tags": []
          },
          "execution_count": 22
        }
      ]
    },
    {
      "cell_type": "code",
      "metadata": {
        "colab": {
          "base_uri": "https://localhost:8080/"
        },
        "id": "N01j2Jfrwrer",
        "outputId": "09137e4a-2909-4e4d-cb06-67aab81f9a2b"
      },
      "source": [
        "data_games.isna().sum()"
      ],
      "execution_count": 23,
      "outputs": [
        {
          "output_type": "execute_result",
          "data": {
            "text/plain": [
              "publisher          8062\n",
              "genres             3283\n",
              "app_name              2\n",
              "title              2050\n",
              "url                   0\n",
              "release_date       2067\n",
              "tags                163\n",
              "discount_price    31910\n",
              "reviews_url           2\n",
              "specs               670\n",
              "price              1377\n",
              "early_access          0\n",
              "product_id            2\n",
              "developer          3299\n",
              "sentiment          7182\n",
              "metascore         29528\n",
              "dtype: int64"
            ]
          },
          "metadata": {
            "tags": []
          },
          "execution_count": 23
        }
      ]
    },
    {
      "cell_type": "markdown",
      "metadata": {
        "id": "_zLQy1ERwtdo"
      },
      "source": [
        "Como se puede ver para estas dos variables existen valores faltantes que serán completados.\n",
        "\n",
        "App name y title tienen la misma información, es mejor trabajar con app_name porque posee menos valores faltantes"
      ]
    },
    {
      "cell_type": "code",
      "metadata": {
        "id": "MP9fsUtDxBC1"
      },
      "source": [
        "data_games['app_name'] = data_games['app_name'].fillna(data_games['title'])\n",
        "data_games['title'] = data_games['title'].fillna(data_games['app_name'])"
      ],
      "execution_count": 24,
      "outputs": []
    },
    {
      "cell_type": "code",
      "metadata": {
        "colab": {
          "base_uri": "https://localhost:8080/"
        },
        "id": "orV-dfqVxMVT",
        "outputId": "aab77d5c-1768-4967-bf48-aceea4f30787"
      },
      "source": [
        "data_games.isna().sum()"
      ],
      "execution_count": 25,
      "outputs": [
        {
          "output_type": "execute_result",
          "data": {
            "text/plain": [
              "publisher          8062\n",
              "genres             3283\n",
              "app_name              2\n",
              "title                 2\n",
              "url                   0\n",
              "release_date       2067\n",
              "tags                163\n",
              "discount_price    31910\n",
              "reviews_url           2\n",
              "specs               670\n",
              "price              1377\n",
              "early_access          0\n",
              "product_id            2\n",
              "developer          3299\n",
              "sentiment          7182\n",
              "metascore         29528\n",
              "dtype: int64"
            ]
          },
          "metadata": {
            "tags": []
          },
          "execution_count": 25
        }
      ]
    },
    {
      "cell_type": "markdown",
      "metadata": {
        "id": "AMiHafx6pm0g"
      },
      "source": [
        "Veamos la varible **\"sentiment\"**: por cada juego, simplifica en **\"forma categorica\"** el porcentaje de calificaciones positivas (\"dedito arriba\"), en relacion con las calificaciones negativas (\"dedito abajo\"), y el total de las reseñas o calificaciones sobre ese juego en particular. \n",
        "\n",
        "Tambien nos da informacion sobre si las reseñas sobre un juego en particular son muy escasas y por lo tanto no las caracteriza (ej: 1 users reviews, etc)."
      ]
    },
    {
      "cell_type": "code",
      "metadata": {
        "colab": {
          "base_uri": "https://localhost:8080/"
        },
        "id": "UJbgQ_-4p0zD",
        "outputId": "5c66ecd9-1265-4026-d27c-285b1c7a3dfa"
      },
      "source": [
        "pd.unique(data_games['sentiment'])"
      ],
      "execution_count": 26,
      "outputs": [
        {
          "output_type": "execute_result",
          "data": {
            "text/plain": [
              "array([nan, 'Mostly Positive', 'Mixed', '1 user reviews',\n",
              "       '3 user reviews', '8 user reviews', 'Very Positive',\n",
              "       'Overwhelmingly Positive', '6 user reviews', '5 user reviews',\n",
              "       '2 user reviews', 'Very Negative', 'Positive', 'Mostly Negative',\n",
              "       '9 user reviews', 'Negative', '4 user reviews', '7 user reviews',\n",
              "       'Overwhelmingly Negative'], dtype=object)"
            ]
          },
          "metadata": {
            "tags": []
          },
          "execution_count": 26
        }
      ]
    },
    {
      "cell_type": "code",
      "metadata": {
        "colab": {
          "base_uri": "https://localhost:8080/"
        },
        "id": "1Ke31_dop81Y",
        "outputId": "ad1e54ea-68a8-40ed-f453-6ac8c17ecf3e"
      },
      "source": [
        "print(data_games['sentiment'].value_counts())"
      ],
      "execution_count": 27,
      "outputs": [
        {
          "output_type": "stream",
          "text": [
            "Mixed                      4103\n",
            "Very Positive              3868\n",
            "Positive                   3281\n",
            "Mostly Positive            2744\n",
            "1 user reviews             2496\n",
            "2 user reviews             1756\n",
            "3 user reviews             1231\n",
            "4 user reviews              964\n",
            "5 user reviews              846\n",
            "Mostly Negative             802\n",
            "6 user reviews              756\n",
            "7 user reviews              619\n",
            "8 user reviews              537\n",
            "9 user reviews              488\n",
            "Overwhelmingly Positive     303\n",
            "Negative                    123\n",
            "Very Negative                29\n",
            "Overwhelmingly Negative       7\n",
            "Name: sentiment, dtype: int64\n"
          ],
          "name": "stdout"
        }
      ]
    },
    {
      "cell_type": "code",
      "metadata": {
        "colab": {
          "base_uri": "https://localhost:8080/",
          "height": 350
        },
        "id": "jOhh34oAqUEI",
        "outputId": "c820bad5-c3ba-4051-a5f6-64ee7d462151"
      },
      "source": [
        "plt.subplots(figsize=(15, 5))\n",
        "\n",
        "sns.countplot(data = data_games, y = 'sentiment', order = data_games['sentiment'].value_counts().index)\n",
        "plt.title('Número de Calificaciones por Tipo')\n",
        "\n",
        "plt.xlabel('Cantidad de Juegos',size=14)\n",
        "plt.ylabel('Caracterizaciones sentiment',size=14)\n",
        "plt.title(\"Cantidad de juegos por tipo de caracterizacion del Atributo sentiment\" ,size=18)"
      ],
      "execution_count": 28,
      "outputs": [
        {
          "output_type": "execute_result",
          "data": {
            "text/plain": [
              "Text(0.5, 1.0, 'Cantidad de juegos por tipo de caracterizacion del Atributo sentiment')"
            ]
          },
          "metadata": {
            "tags": []
          },
          "execution_count": 28
        },
        {
          "output_type": "display_data",
          "data": {
            "image/png": "[encoded data removed]",
            "text/plain": [
              "<Figure size 1080x360 with 1 Axes>"
            ]
          },
          "metadata": {
            "tags": []
          }
        }
      ]
    },
    {
      "cell_type": "markdown",
      "metadata": {
        "id": "ecJgiw54tCXl"
      },
      "source": [
        "*  **¿Existe alguna relación entre la valoración y la cantidad horas jugadas?**"
      ]
    },
    {
      "cell_type": "code",
      "metadata": {
        "id": "oYQdx2c0yQ63",
        "colab": {
          "base_uri": "https://localhost:8080/",
          "height": 419
        },
        "outputId": "058d6414-8c3f-4579-c3e8-d3b499625746"
      },
      "source": [
        "data_reviews_1"
      ],
      "execution_count": 29,
      "outputs": [
        {
          "output_type": "execute_result",
          "data": {
            "text/html": [
              "<div>\n",
              "<style scoped>\n",
              "    .dataframe tbody tr th:only-of-type {\n",
              "        vertical-align: middle;\n",
              "    }\n",
              "\n",
              "    .dataframe tbody tr th {\n",
              "        vertical-align: top;\n",
              "    }\n",
              "\n",
              "    .dataframe thead th {\n",
              "        text-align: right;\n",
              "    }\n",
              "</style>\n",
              "<table border=\"1\" class=\"dataframe\">\n",
              "  <thead>\n",
              "    <tr style=\"text-align: right;\">\n",
              "      <th></th>\n",
              "      <th>username</th>\n",
              "      <th>product_id</th>\n",
              "      <th>text</th>\n",
              "      <th>hours</th>\n",
              "    </tr>\n",
              "  </thead>\n",
              "  <tbody>\n",
              "    <tr>\n",
              "      <th>0</th>\n",
              "      <td>Chaos Syren</td>\n",
              "      <td>725280</td>\n",
              "      <td>This would not be acceptable as an entertainme...</td>\n",
              "      <td>0.1</td>\n",
              "    </tr>\n",
              "    <tr>\n",
              "      <th>1</th>\n",
              "      <td>Ariman1</td>\n",
              "      <td>328100</td>\n",
              "      <td>Addictive RPG ! Works fine on linux though it ...</td>\n",
              "      <td>13.2</td>\n",
              "    </tr>\n",
              "    <tr>\n",
              "      <th>2</th>\n",
              "      <td>freakfantom</td>\n",
              "      <td>725280</td>\n",
              "      <td>Прикольная стрелялка. Взял дешево на распродаже.</td>\n",
              "      <td>0.1</td>\n",
              "    </tr>\n",
              "    <tr>\n",
              "      <th>3</th>\n",
              "      <td>The_Cpt_FROGGY</td>\n",
              "      <td>631920</td>\n",
              "      <td>Somewhere on Zibylon:\\n~~~~~~~~~~~~~~~~~~\\nZib...</td>\n",
              "      <td>7.8</td>\n",
              "    </tr>\n",
              "    <tr>\n",
              "      <th>4</th>\n",
              "      <td>the_maker988</td>\n",
              "      <td>35140</td>\n",
              "      <td>This game was way to linear for me, and compar...</td>\n",
              "      <td>8.2</td>\n",
              "    </tr>\n",
              "    <tr>\n",
              "      <th>...</th>\n",
              "      <td>...</td>\n",
              "      <td>...</td>\n",
              "      <td>...</td>\n",
              "      <td>...</td>\n",
              "    </tr>\n",
              "    <tr>\n",
              "      <th>779302</th>\n",
              "      <td>Vidaar</td>\n",
              "      <td>252490</td>\n",
              "      <td>Summary: Rust is a survival game created by Fa...</td>\n",
              "      <td>783.5</td>\n",
              "    </tr>\n",
              "    <tr>\n",
              "      <th>779303</th>\n",
              "      <td>Nikolai Belinski</td>\n",
              "      <td>252490</td>\n",
              "      <td>Coolest Game Eva</td>\n",
              "      <td>55.1</td>\n",
              "    </tr>\n",
              "    <tr>\n",
              "      <th>779304</th>\n",
              "      <td>RancorZealot</td>\n",
              "      <td>252490</td>\n",
              "      <td>Should you buy RUST? Uh... YES. The BEST Survi...</td>\n",
              "      <td>203.5</td>\n",
              "    </tr>\n",
              "    <tr>\n",
              "      <th>779305</th>\n",
              "      <td>Jerry</td>\n",
              "      <td>252490</td>\n",
              "      <td>Great game!</td>\n",
              "      <td>139.8</td>\n",
              "    </tr>\n",
              "    <tr>\n",
              "      <th>779306</th>\n",
              "      <td>Helk</td>\n",
              "      <td>252490</td>\n",
              "      <td>I love this game!</td>\n",
              "      <td>15375.0</td>\n",
              "    </tr>\n",
              "  </tbody>\n",
              "</table>\n",
              "<p>774825 rows × 4 columns</p>\n",
              "</div>"
            ],
            "text/plain": [
              "                username  ...   hours\n",
              "0            Chaos Syren  ...     0.1\n",
              "1                Ariman1  ...    13.2\n",
              "2            freakfantom  ...     0.1\n",
              "3         The_Cpt_FROGGY  ...     7.8\n",
              "4           the_maker988  ...     8.2\n",
              "...                  ...  ...     ...\n",
              "779302            Vidaar  ...   783.5\n",
              "779303  Nikolai Belinski  ...    55.1\n",
              "779304      RancorZealot  ...   203.5\n",
              "779305             Jerry  ...   139.8\n",
              "779306              Helk  ... 15375.0\n",
              "\n",
              "[774825 rows x 4 columns]"
            ]
          },
          "metadata": {
            "tags": []
          },
          "execution_count": 29
        }
      ]
    },
    {
      "cell_type": "code",
      "metadata": {
        "id": "AXIHdcLytOxF"
      },
      "source": [
        "data_reviews_2 = data_reviews_1.merge(data_games[['product_id','sentiment']],on='product_id')"
      ],
      "execution_count": 30,
      "outputs": []
    },
    {
      "cell_type": "code",
      "metadata": {
        "colab": {
          "base_uri": "https://localhost:8080/",
          "height": 204
        },
        "id": "cinxeCanZwVW",
        "outputId": "6d22bee8-5234-4089-de3f-4c60562867ef"
      },
      "source": [
        "data_reviews_2.head()"
      ],
      "execution_count": 31,
      "outputs": [
        {
          "output_type": "execute_result",
          "data": {
            "text/html": [
              "<div>\n",
              "<style scoped>\n",
              "    .dataframe tbody tr th:only-of-type {\n",
              "        vertical-align: middle;\n",
              "    }\n",
              "\n",
              "    .dataframe tbody tr th {\n",
              "        vertical-align: top;\n",
              "    }\n",
              "\n",
              "    .dataframe thead th {\n",
              "        text-align: right;\n",
              "    }\n",
              "</style>\n",
              "<table border=\"1\" class=\"dataframe\">\n",
              "  <thead>\n",
              "    <tr style=\"text-align: right;\">\n",
              "      <th></th>\n",
              "      <th>username</th>\n",
              "      <th>product_id</th>\n",
              "      <th>text</th>\n",
              "      <th>hours</th>\n",
              "      <th>sentiment</th>\n",
              "    </tr>\n",
              "  </thead>\n",
              "  <tbody>\n",
              "    <tr>\n",
              "      <th>0</th>\n",
              "      <td>Chaos Syren</td>\n",
              "      <td>725280</td>\n",
              "      <td>This would not be acceptable as an entertainme...</td>\n",
              "      <td>0.1</td>\n",
              "      <td>Positive</td>\n",
              "    </tr>\n",
              "    <tr>\n",
              "      <th>1</th>\n",
              "      <td>freakfantom</td>\n",
              "      <td>725280</td>\n",
              "      <td>Прикольная стрелялка. Взял дешево на распродаже.</td>\n",
              "      <td>0.1</td>\n",
              "      <td>Positive</td>\n",
              "    </tr>\n",
              "    <tr>\n",
              "      <th>2</th>\n",
              "      <td>Ariman1</td>\n",
              "      <td>328100</td>\n",
              "      <td>Addictive RPG ! Works fine on linux though it ...</td>\n",
              "      <td>13.2</td>\n",
              "      <td>Mixed</td>\n",
              "    </tr>\n",
              "    <tr>\n",
              "      <th>3</th>\n",
              "      <td>dll3z</td>\n",
              "      <td>328100</td>\n",
              "      <td>do not buy this game</td>\n",
              "      <td>0.4</td>\n",
              "      <td>Mixed</td>\n",
              "    </tr>\n",
              "    <tr>\n",
              "      <th>4</th>\n",
              "      <td>Nyazicat</td>\n",
              "      <td>328100</td>\n",
              "      <td>For some reason I entirely derped out and boug...</td>\n",
              "      <td>2.2</td>\n",
              "      <td>Mixed</td>\n",
              "    </tr>\n",
              "  </tbody>\n",
              "</table>\n",
              "</div>"
            ],
            "text/plain": [
              "      username  product_id  ... hours  sentiment\n",
              "0  Chaos Syren      725280  ...   0.1   Positive\n",
              "1  freakfantom      725280  ...   0.1   Positive\n",
              "2      Ariman1      328100  ...  13.2      Mixed\n",
              "3        dll3z      328100  ...   0.4      Mixed\n",
              "4     Nyazicat      328100  ...   2.2      Mixed\n",
              "\n",
              "[5 rows x 5 columns]"
            ]
          },
          "metadata": {
            "tags": []
          },
          "execution_count": 31
        }
      ]
    },
    {
      "cell_type": "code",
      "metadata": {
        "colab": {
          "base_uri": "https://localhost:8080/",
          "height": 974
        },
        "id": "xX_DkMMlvfH_",
        "outputId": "04313b4d-51eb-407a-fb35-d96ff422a701"
      },
      "source": [
        "data_sentiment = data_reviews_2.groupby('sentiment').mean().sort_values(('hours'),ascending=False)\n",
        "print(data_sentiment)\n",
        "\n",
        "fig=plt.figure(figsize=(15,10))\n",
        "plt.suptitle('Boxplots Horas según Sentiment', ha='center')\n",
        "ax1=fig.add_subplot(1,2,1)\n",
        "ax2=fig.add_subplot(1,2,2)\n",
        "sns.boxplot(data = data_reviews_2, x = \"hours\",y='sentiment',showfliers=True,showmeans=True,meanprops={\"marker\":\"o\",\"markerfacecolor\":\"white\", \"markeredgecolor\":\"black\"}, ax=ax1)\n",
        "\n",
        "sns.boxplot(data = data_reviews_2, x = \"hours\",y='sentiment',showfliers=False,showmeans=True,meanprops={\"marker\":\"o\",\"markerfacecolor\":\"white\", \"markeredgecolor\":\"black\"}, ax=ax2)\n",
        "ax1.set_title(\"Horas con Outliers\",fontsize=16)\n",
        "ax2.set_title(\"Horas sin Outliers\",fontsize=16)\n",
        "ax1.set_xlabel('Hours',fontsize=16)\n",
        "#ax1.set_ylabel('',fontsize=16)\n",
        "ax2.set_xlabel('Hours',fontsize=16)\n",
        "#ax2.set_ylabel('Hours',fontsize=16)\n",
        "fig.subplots_adjust(top=0.9)\n",
        "plt.show()"
      ],
      "execution_count": 32,
      "outputs": [
        {
          "output_type": "stream",
          "text": [
            "                         product_id  hours\n",
            "sentiment                                 \n",
            "Very Positive              237229.5  126.8\n",
            "Mixed                      299846.0  118.3\n",
            "Overwhelmingly Positive    207495.6   98.3\n",
            "Mostly Positive            292535.2   84.2\n",
            "Mostly Negative            295667.5   27.5\n",
            "Positive                   434483.9   12.8\n",
            "Overwhelmingly Negative    264960.2    7.9\n",
            "9 user reviews             478101.8    7.4\n",
            "7 user reviews             440315.6    6.9\n",
            "5 user reviews             479198.0    6.4\n",
            "Very Negative              310183.6    6.0\n",
            "4 user reviews             465734.2    5.8\n",
            "1 user reviews             530103.9    5.6\n",
            "6 user reviews             461011.4    5.3\n",
            "8 user reviews             421662.6    5.1\n",
            "2 user reviews             506500.7    3.7\n",
            "3 user reviews             507954.1    3.6\n",
            "Negative                   361374.2    3.1\n"
          ],
          "name": "stdout"
        },
        {
          "output_type": "display_data",
          "data": {
            "image/png": "[encoded data removed]",
            "text/plain": [
              "<Figure size 1080x720 with 2 Axes>"
            ]
          },
          "metadata": {
            "tags": []
          }
        }
      ]
    },
    {
      "cell_type": "markdown",
      "metadata": {
        "id": "_7oI6PyJwCeT"
      },
      "source": [
        "No existen diferencias significativas en cuanto a la cantidad de horas jugadas con valoraciones positivas y valoraciones negativas, por lo que la variable sentiment no será considerada. \n",
        "\n"
      ]
    },
    {
      "cell_type": "markdown",
      "metadata": {
        "id": "u6gHN_4IZE3q"
      },
      "source": [
        "- Seleccionamos aquellos features que nos seran útiles a la hora de realizar las predicciones.\n",
        "\n",
        "- Nos serán útiles las columnas de title, para poder identificar el nombre de los juegos, y del id de los juegos, para realizar el cruce de datos con Data Reviews, donde los juegos estan identificados con el id."
      ]
    },
    {
      "cell_type": "code",
      "metadata": {
        "colab": {
          "base_uri": "https://localhost:8080/",
          "height": 419
        },
        "id": "SXVHAnHtBsc7",
        "outputId": "d9840676-b16f-4499-e9e8-90922a350ba5"
      },
      "source": [
        "data_games_1 = data_games[['title','product_id']].copy()\n",
        "data_games_1 "
      ],
      "execution_count": 33,
      "outputs": [
        {
          "output_type": "execute_result",
          "data": {
            "text/html": [
              "<div>\n",
              "<style scoped>\n",
              "    .dataframe tbody tr th:only-of-type {\n",
              "        vertical-align: middle;\n",
              "    }\n",
              "\n",
              "    .dataframe tbody tr th {\n",
              "        vertical-align: top;\n",
              "    }\n",
              "\n",
              "    .dataframe thead th {\n",
              "        text-align: right;\n",
              "    }\n",
              "</style>\n",
              "<table border=\"1\" class=\"dataframe\">\n",
              "  <thead>\n",
              "    <tr style=\"text-align: right;\">\n",
              "      <th></th>\n",
              "      <th>title</th>\n",
              "      <th>product_id</th>\n",
              "    </tr>\n",
              "  </thead>\n",
              "  <tbody>\n",
              "    <tr>\n",
              "      <th>0</th>\n",
              "      <td>Lost Summoner Kitty</td>\n",
              "      <td>761140.0</td>\n",
              "    </tr>\n",
              "    <tr>\n",
              "      <th>1</th>\n",
              "      <td>Ironbound</td>\n",
              "      <td>643980.0</td>\n",
              "    </tr>\n",
              "    <tr>\n",
              "      <th>2</th>\n",
              "      <td>Real Pool 3D - Poolians</td>\n",
              "      <td>670290.0</td>\n",
              "    </tr>\n",
              "    <tr>\n",
              "      <th>3</th>\n",
              "      <td>弹炸人2222</td>\n",
              "      <td>767400.0</td>\n",
              "    </tr>\n",
              "    <tr>\n",
              "      <th>4</th>\n",
              "      <td>Log Challenge</td>\n",
              "      <td>773570.0</td>\n",
              "    </tr>\n",
              "    <tr>\n",
              "      <th>...</th>\n",
              "      <td>...</td>\n",
              "      <td>...</td>\n",
              "    </tr>\n",
              "    <tr>\n",
              "      <th>32130</th>\n",
              "      <td>Colony On Mars</td>\n",
              "      <td>773640.0</td>\n",
              "    </tr>\n",
              "    <tr>\n",
              "      <th>32131</th>\n",
              "      <td>LOGistICAL: South Africa</td>\n",
              "      <td>733530.0</td>\n",
              "    </tr>\n",
              "    <tr>\n",
              "      <th>32132</th>\n",
              "      <td>Russian Roads</td>\n",
              "      <td>610660.0</td>\n",
              "    </tr>\n",
              "    <tr>\n",
              "      <th>32133</th>\n",
              "      <td>EXIT 2 - Directions</td>\n",
              "      <td>658870.0</td>\n",
              "    </tr>\n",
              "    <tr>\n",
              "      <th>32134</th>\n",
              "      <td>Maze Run VR</td>\n",
              "      <td>681550.0</td>\n",
              "    </tr>\n",
              "  </tbody>\n",
              "</table>\n",
              "<p>32135 rows × 2 columns</p>\n",
              "</div>"
            ],
            "text/plain": [
              "                          title  product_id\n",
              "0           Lost Summoner Kitty    761140.0\n",
              "1                     Ironbound    643980.0\n",
              "2       Real Pool 3D - Poolians    670290.0\n",
              "3                       弹炸人2222    767400.0\n",
              "4                 Log Challenge    773570.0\n",
              "...                         ...         ...\n",
              "32130            Colony On Mars    773640.0\n",
              "32131  LOGistICAL: South Africa    733530.0\n",
              "32132             Russian Roads    610660.0\n",
              "32133       EXIT 2 - Directions    658870.0\n",
              "32134               Maze Run VR    681550.0\n",
              "\n",
              "[32135 rows x 2 columns]"
            ]
          },
          "metadata": {
            "tags": []
          },
          "execution_count": 33
        }
      ]
    },
    {
      "cell_type": "markdown",
      "metadata": {
        "id": "ABDO4wVnHJow"
      },
      "source": [
        "**Valores nulos**"
      ]
    },
    {
      "cell_type": "code",
      "metadata": {
        "colab": {
          "base_uri": "https://localhost:8080/"
        },
        "id": "P9-UYlRlGHMM",
        "outputId": "4e7e7f5a-6758-48c6-a6c2-93ec174be913"
      },
      "source": [
        "data_games_1.isnull().sum()"
      ],
      "execution_count": 34,
      "outputs": [
        {
          "output_type": "execute_result",
          "data": {
            "text/plain": [
              "title         2\n",
              "product_id    2\n",
              "dtype: int64"
            ]
          },
          "metadata": {
            "tags": []
          },
          "execution_count": 34
        }
      ]
    },
    {
      "cell_type": "markdown",
      "metadata": {
        "id": "euONnCzuGr1R"
      },
      "source": [
        "* *Variables con elementos faltantes:*  \n",
        "\n",
        "1. *title* **0.006%%** (2)\n",
        "2. *product_id* **0.006%** (2)\n"
      ]
    },
    {
      "cell_type": "markdown",
      "metadata": {
        "id": "QLFegQYBGM2Z"
      },
      "source": [
        "Los datos nulos serán descartados debido a que tienen un porcentaje muy pequeño respecto a la totalidad de los datos."
      ]
    },
    {
      "cell_type": "code",
      "metadata": {
        "id": "srlit9cbHcOg"
      },
      "source": [
        "data_games_1 = data_games_1.dropna()"
      ],
      "execution_count": 35,
      "outputs": []
    },
    {
      "cell_type": "code",
      "metadata": {
        "colab": {
          "base_uri": "https://localhost:8080/",
          "height": 419
        },
        "id": "gfkJkF9CHkKM",
        "outputId": "94fdba4f-0563-4a79-dcad-1bb60f9808eb"
      },
      "source": [
        "data_games_1.isnull().sum()\n",
        "data_games_1"
      ],
      "execution_count": 36,
      "outputs": [
        {
          "output_type": "execute_result",
          "data": {
            "text/html": [
              "<div>\n",
              "<style scoped>\n",
              "    .dataframe tbody tr th:only-of-type {\n",
              "        vertical-align: middle;\n",
              "    }\n",
              "\n",
              "    .dataframe tbody tr th {\n",
              "        vertical-align: top;\n",
              "    }\n",
              "\n",
              "    .dataframe thead th {\n",
              "        text-align: right;\n",
              "    }\n",
              "</style>\n",
              "<table border=\"1\" class=\"dataframe\">\n",
              "  <thead>\n",
              "    <tr style=\"text-align: right;\">\n",
              "      <th></th>\n",
              "      <th>title</th>\n",
              "      <th>product_id</th>\n",
              "    </tr>\n",
              "  </thead>\n",
              "  <tbody>\n",
              "    <tr>\n",
              "      <th>0</th>\n",
              "      <td>Lost Summoner Kitty</td>\n",
              "      <td>761140.0</td>\n",
              "    </tr>\n",
              "    <tr>\n",
              "      <th>1</th>\n",
              "      <td>Ironbound</td>\n",
              "      <td>643980.0</td>\n",
              "    </tr>\n",
              "    <tr>\n",
              "      <th>2</th>\n",
              "      <td>Real Pool 3D - Poolians</td>\n",
              "      <td>670290.0</td>\n",
              "    </tr>\n",
              "    <tr>\n",
              "      <th>3</th>\n",
              "      <td>弹炸人2222</td>\n",
              "      <td>767400.0</td>\n",
              "    </tr>\n",
              "    <tr>\n",
              "      <th>4</th>\n",
              "      <td>Log Challenge</td>\n",
              "      <td>773570.0</td>\n",
              "    </tr>\n",
              "    <tr>\n",
              "      <th>...</th>\n",
              "      <td>...</td>\n",
              "      <td>...</td>\n",
              "    </tr>\n",
              "    <tr>\n",
              "      <th>32130</th>\n",
              "      <td>Colony On Mars</td>\n",
              "      <td>773640.0</td>\n",
              "    </tr>\n",
              "    <tr>\n",
              "      <th>32131</th>\n",
              "      <td>LOGistICAL: South Africa</td>\n",
              "      <td>733530.0</td>\n",
              "    </tr>\n",
              "    <tr>\n",
              "      <th>32132</th>\n",
              "      <td>Russian Roads</td>\n",
              "      <td>610660.0</td>\n",
              "    </tr>\n",
              "    <tr>\n",
              "      <th>32133</th>\n",
              "      <td>EXIT 2 - Directions</td>\n",
              "      <td>658870.0</td>\n",
              "    </tr>\n",
              "    <tr>\n",
              "      <th>32134</th>\n",
              "      <td>Maze Run VR</td>\n",
              "      <td>681550.0</td>\n",
              "    </tr>\n",
              "  </tbody>\n",
              "</table>\n",
              "<p>32132 rows × 2 columns</p>\n",
              "</div>"
            ],
            "text/plain": [
              "                          title  product_id\n",
              "0           Lost Summoner Kitty    761140.0\n",
              "1                     Ironbound    643980.0\n",
              "2       Real Pool 3D - Poolians    670290.0\n",
              "3                       弹炸人2222    767400.0\n",
              "4                 Log Challenge    773570.0\n",
              "...                         ...         ...\n",
              "32130            Colony On Mars    773640.0\n",
              "32131  LOGistICAL: South Africa    733530.0\n",
              "32132             Russian Roads    610660.0\n",
              "32133       EXIT 2 - Directions    658870.0\n",
              "32134               Maze Run VR    681550.0\n",
              "\n",
              "[32132 rows x 2 columns]"
            ]
          },
          "metadata": {
            "tags": []
          },
          "execution_count": 36
        }
      ]
    },
    {
      "cell_type": "markdown",
      "metadata": {
        "id": "gC3Hc-PE__kP"
      },
      "source": [
        "**Indexacion**\n",
        "\n",
        "Indexamos **product_id** a fin de poder realizar un mejor cruce con el Dataset de Reviews"
      ]
    },
    {
      "cell_type": "code",
      "metadata": {
        "colab": {
          "base_uri": "https://localhost:8080/"
        },
        "id": "LuQmPiukAs8w",
        "outputId": "3a8d992f-0d92-4d16-a2b0-83a8d081185b"
      },
      "source": [
        "data_games_1.dtypes"
      ],
      "execution_count": 37,
      "outputs": [
        {
          "output_type": "execute_result",
          "data": {
            "text/plain": [
              "title          object\n",
              "product_id    float64\n",
              "dtype: object"
            ]
          },
          "metadata": {
            "tags": []
          },
          "execution_count": 37
        }
      ]
    },
    {
      "cell_type": "markdown",
      "metadata": {
        "id": "1Sj9qeP_A5yK"
      },
      "source": [
        "El tipo de dato debe ser entero para **product_id**, para poder realizar la indexación"
      ]
    },
    {
      "cell_type": "code",
      "metadata": {
        "id": "kPLZIIl-BCQu"
      },
      "source": [
        "data_games_1[('product_id')] = data_games_1['product_id'].astype(int)"
      ],
      "execution_count": 38,
      "outputs": []
    },
    {
      "cell_type": "code",
      "metadata": {
        "colab": {
          "base_uri": "https://localhost:8080/",
          "height": 450
        },
        "id": "kxR5E078Hq5g",
        "outputId": "6113df2b-fe63-458e-a265-2600bab3c9b0"
      },
      "source": [
        "data_games_modelo = data_games_1.set_index('product_id', drop=True)\n",
        "data_games_modelo"
      ],
      "execution_count": 39,
      "outputs": [
        {
          "output_type": "execute_result",
          "data": {
            "text/html": [
              "<div>\n",
              "<style scoped>\n",
              "    .dataframe tbody tr th:only-of-type {\n",
              "        vertical-align: middle;\n",
              "    }\n",
              "\n",
              "    .dataframe tbody tr th {\n",
              "        vertical-align: top;\n",
              "    }\n",
              "\n",
              "    .dataframe thead th {\n",
              "        text-align: right;\n",
              "    }\n",
              "</style>\n",
              "<table border=\"1\" class=\"dataframe\">\n",
              "  <thead>\n",
              "    <tr style=\"text-align: right;\">\n",
              "      <th></th>\n",
              "      <th>title</th>\n",
              "    </tr>\n",
              "    <tr>\n",
              "      <th>product_id</th>\n",
              "      <th></th>\n",
              "    </tr>\n",
              "  </thead>\n",
              "  <tbody>\n",
              "    <tr>\n",
              "      <th>761140</th>\n",
              "      <td>Lost Summoner Kitty</td>\n",
              "    </tr>\n",
              "    <tr>\n",
              "      <th>643980</th>\n",
              "      <td>Ironbound</td>\n",
              "    </tr>\n",
              "    <tr>\n",
              "      <th>670290</th>\n",
              "      <td>Real Pool 3D - Poolians</td>\n",
              "    </tr>\n",
              "    <tr>\n",
              "      <th>767400</th>\n",
              "      <td>弹炸人2222</td>\n",
              "    </tr>\n",
              "    <tr>\n",
              "      <th>773570</th>\n",
              "      <td>Log Challenge</td>\n",
              "    </tr>\n",
              "    <tr>\n",
              "      <th>...</th>\n",
              "      <td>...</td>\n",
              "    </tr>\n",
              "    <tr>\n",
              "      <th>773640</th>\n",
              "      <td>Colony On Mars</td>\n",
              "    </tr>\n",
              "    <tr>\n",
              "      <th>733530</th>\n",
              "      <td>LOGistICAL: South Africa</td>\n",
              "    </tr>\n",
              "    <tr>\n",
              "      <th>610660</th>\n",
              "      <td>Russian Roads</td>\n",
              "    </tr>\n",
              "    <tr>\n",
              "      <th>658870</th>\n",
              "      <td>EXIT 2 - Directions</td>\n",
              "    </tr>\n",
              "    <tr>\n",
              "      <th>681550</th>\n",
              "      <td>Maze Run VR</td>\n",
              "    </tr>\n",
              "  </tbody>\n",
              "</table>\n",
              "<p>32132 rows × 1 columns</p>\n",
              "</div>"
            ],
            "text/plain": [
              "                               title\n",
              "product_id                          \n",
              "761140           Lost Summoner Kitty\n",
              "643980                     Ironbound\n",
              "670290       Real Pool 3D - Poolians\n",
              "767400                       弹炸人2222\n",
              "773570                 Log Challenge\n",
              "...                              ...\n",
              "773640                Colony On Mars\n",
              "733530      LOGistICAL: South Africa\n",
              "610660                 Russian Roads\n",
              "658870           EXIT 2 - Directions\n",
              "681550                   Maze Run VR\n",
              "\n",
              "[32132 rows x 1 columns]"
            ]
          },
          "metadata": {
            "tags": []
          },
          "execution_count": 39
        }
      ]
    },
    {
      "cell_type": "code",
      "metadata": {
        "colab": {
          "base_uri": "https://localhost:8080/"
        },
        "id": "1CKNuLyXH3d0",
        "outputId": "79d0a93d-5368-404a-8dc5-3a0238c37351"
      },
      "source": [
        "data_games_modelo.dtypes"
      ],
      "execution_count": 40,
      "outputs": [
        {
          "output_type": "execute_result",
          "data": {
            "text/plain": [
              "title    object\n",
              "dtype: object"
            ]
          },
          "metadata": {
            "tags": []
          },
          "execution_count": 40
        }
      ]
    },
    {
      "cell_type": "markdown",
      "metadata": {
        "id": "769jqAHgH7Qp"
      },
      "source": [
        "El tipo de dato de pruduct_id y title resultan ser object, siendo acorde para llevar a cabo nuestras recomendaciones a posteriori."
      ]
    },
    {
      "cell_type": "markdown",
      "metadata": {
        "id": "F7RBZl97r5uA"
      },
      "source": [
        "### **Preguntas**"
      ]
    },
    {
      "cell_type": "markdown",
      "metadata": {
        "id": "r2B2ZqRxXCmP"
      },
      "source": [
        "*  **¿Cuántos usuarios únicos hay?**"
      ]
    },
    {
      "cell_type": "code",
      "metadata": {
        "colab": {
          "base_uri": "https://localhost:8080/"
        },
        "id": "2twPqpikXCFu",
        "outputId": "4105d891-a132-4266-c1f9-6434a0ff14ec"
      },
      "source": [
        "print(len(data_reviews_1['username'].unique()))"
      ],
      "execution_count": 41,
      "outputs": [
        {
          "output_type": "stream",
          "text": [
            "538238\n"
          ],
          "name": "stdout"
        }
      ]
    },
    {
      "cell_type": "markdown",
      "metadata": {
        "id": "0ZN0QA-UZOj5"
      },
      "source": [
        "*   **¿Cuántas calificaciones hay?**"
      ]
    },
    {
      "cell_type": "code",
      "metadata": {
        "colab": {
          "base_uri": "https://localhost:8080/"
        },
        "id": "d_TsLAqoZTBt",
        "outputId": "df6e379b-5c7d-4df5-ea77-628cc2ccc7ee"
      },
      "source": [
        "print(data_reviews_1.shape[0])"
      ],
      "execution_count": 42,
      "outputs": [
        {
          "output_type": "stream",
          "text": [
            "774825\n"
          ],
          "name": "stdout"
        }
      ]
    },
    {
      "cell_type": "markdown",
      "metadata": {
        "id": "q6Ue8SfivQRS"
      },
      "source": [
        "*  **¿Cuántos juegos hay?**"
      ]
    },
    {
      "cell_type": "code",
      "metadata": {
        "colab": {
          "base_uri": "https://localhost:8080/"
        },
        "id": "-dyudAHzvPmj",
        "outputId": "7a9ccee0-e91f-4c80-af08-af532c26cf44"
      },
      "source": [
        "print(data_games_modelo.shape[0])"
      ],
      "execution_count": 43,
      "outputs": [
        {
          "output_type": "stream",
          "text": [
            "32132\n"
          ],
          "name": "stdout"
        }
      ]
    },
    {
      "cell_type": "markdown",
      "metadata": {
        "id": "gVMPb6F2V0zm"
      },
      "source": [
        "*  **¿Cuántos juegos calificó cada usuario?**"
      ]
    },
    {
      "cell_type": "code",
      "metadata": {
        "colab": {
          "base_uri": "https://localhost:8080/"
        },
        "id": "raowCUezV8dD",
        "outputId": "16de7804-3683-4bef-8b11-525c6b8ddfb9"
      },
      "source": [
        "reviews_por_usuario = data_reviews_1.username.value_counts()\n",
        "print(reviews_por_usuario)"
      ],
      "execution_count": 44,
      "outputs": [
        {
          "output_type": "stream",
          "text": [
            "123              213\n",
            "Alex             189\n",
            "Chris            153\n",
            "Nick             142\n",
            "Matt             137\n",
            "                ... \n",
            "nice2mice          1\n",
            "Big FAt Idiot      1\n",
            "trold              1\n",
            "TheeCitra          1\n",
            "NetGeek15          1\n",
            "Name: username, Length: 538238, dtype: int64\n"
          ],
          "name": "stdout"
        }
      ]
    },
    {
      "cell_type": "markdown",
      "metadata": {
        "id": "wyYghbVzXfQ2"
      },
      "source": [
        "Veamos cómo es la distribución de las calificaciones por usuario"
      ]
    },
    {
      "cell_type": "code",
      "metadata": {
        "colab": {
          "base_uri": "https://localhost:8080/",
          "height": 301
        },
        "id": "WnJEl41_Xqqo",
        "outputId": "8a7c509e-d9c5-4b5d-f6a6-98a1492239c1"
      },
      "source": [
        "plt.hist(reviews_por_usuario, log=True)\n",
        "\n",
        "plt.xlabel('Cantidad de Calificaciones')\n",
        "plt.ylabel('Cantidad de Usuarios')\n",
        "plt.title('Cantidad de Calificaciones por Usuarios')\n",
        "plt.show()"
      ],
      "execution_count": 45,
      "outputs": [
        {
          "output_type": "display_data",
          "data": {
            "image/png": "[encoded data removed]",
            "text/plain": [
              "<Figure size 432x288 with 1 Axes>"
            ]
          },
          "metadata": {
            "tags": []
          }
        }
      ]
    },
    {
      "cell_type": "markdown",
      "metadata": {
        "id": "QCQoqHPBes2T"
      },
      "source": [
        "Observando el gráfico la mayoría de los juegos no superan los 200 usuarios. "
      ]
    },
    {
      "cell_type": "markdown",
      "metadata": {
        "id": "O1ytT75UaZEd"
      },
      "source": [
        "*  **¿Cuántos juegos fueron calificados?**"
      ]
    },
    {
      "cell_type": "code",
      "metadata": {
        "colab": {
          "base_uri": "https://localhost:8080/"
        },
        "id": "ggxOvvA_agqH",
        "outputId": "d7829f78-fa74-496f-9cca-92fba9ba3b4f"
      },
      "source": [
        "print(len(data_reviews_1['product_id'].unique()))"
      ],
      "execution_count": 46,
      "outputs": [
        {
          "output_type": "stream",
          "text": [
            "12612\n"
          ],
          "name": "stdout"
        }
      ]
    },
    {
      "cell_type": "markdown",
      "metadata": {
        "id": "vAgp1TM1a1SM"
      },
      "source": [
        "*  **¿cuáles son los juegos más populares?¿Y los menos populares?**"
      ]
    },
    {
      "cell_type": "markdown",
      "metadata": {
        "id": "5ZuJsKD8RnV_"
      },
      "source": [
        "- Se eliminan aquellos valores que se encuentran duplicados en product_id, ya que sólo puede haber 1 juego con el mismo Id."
      ]
    },
    {
      "cell_type": "code",
      "metadata": {
        "colab": {
          "base_uri": "https://localhost:8080/",
          "height": 450
        },
        "id": "1rRaZ7pRRqub",
        "outputId": "caf41273-92b0-4a04-eaf5-8ef035c67465"
      },
      "source": [
        "data_games_modelo = data_games_modelo[~data_games_modelo.index.duplicated(keep='first')]\n",
        "data_games_modelo"
      ],
      "execution_count": 47,
      "outputs": [
        {
          "output_type": "execute_result",
          "data": {
            "text/html": [
              "<div>\n",
              "<style scoped>\n",
              "    .dataframe tbody tr th:only-of-type {\n",
              "        vertical-align: middle;\n",
              "    }\n",
              "\n",
              "    .dataframe tbody tr th {\n",
              "        vertical-align: top;\n",
              "    }\n",
              "\n",
              "    .dataframe thead th {\n",
              "        text-align: right;\n",
              "    }\n",
              "</style>\n",
              "<table border=\"1\" class=\"dataframe\">\n",
              "  <thead>\n",
              "    <tr style=\"text-align: right;\">\n",
              "      <th></th>\n",
              "      <th>title</th>\n",
              "    </tr>\n",
              "    <tr>\n",
              "      <th>product_id</th>\n",
              "      <th></th>\n",
              "    </tr>\n",
              "  </thead>\n",
              "  <tbody>\n",
              "    <tr>\n",
              "      <th>761140</th>\n",
              "      <td>Lost Summoner Kitty</td>\n",
              "    </tr>\n",
              "    <tr>\n",
              "      <th>643980</th>\n",
              "      <td>Ironbound</td>\n",
              "    </tr>\n",
              "    <tr>\n",
              "      <th>670290</th>\n",
              "      <td>Real Pool 3D - Poolians</td>\n",
              "    </tr>\n",
              "    <tr>\n",
              "      <th>767400</th>\n",
              "      <td>弹炸人2222</td>\n",
              "    </tr>\n",
              "    <tr>\n",
              "      <th>773570</th>\n",
              "      <td>Log Challenge</td>\n",
              "    </tr>\n",
              "    <tr>\n",
              "      <th>...</th>\n",
              "      <td>...</td>\n",
              "    </tr>\n",
              "    <tr>\n",
              "      <th>773640</th>\n",
              "      <td>Colony On Mars</td>\n",
              "    </tr>\n",
              "    <tr>\n",
              "      <th>733530</th>\n",
              "      <td>LOGistICAL: South Africa</td>\n",
              "    </tr>\n",
              "    <tr>\n",
              "      <th>610660</th>\n",
              "      <td>Russian Roads</td>\n",
              "    </tr>\n",
              "    <tr>\n",
              "      <th>658870</th>\n",
              "      <td>EXIT 2 - Directions</td>\n",
              "    </tr>\n",
              "    <tr>\n",
              "      <th>681550</th>\n",
              "      <td>Maze Run VR</td>\n",
              "    </tr>\n",
              "  </tbody>\n",
              "</table>\n",
              "<p>32131 rows × 1 columns</p>\n",
              "</div>"
            ],
            "text/plain": [
              "                               title\n",
              "product_id                          \n",
              "761140           Lost Summoner Kitty\n",
              "643980                     Ironbound\n",
              "670290       Real Pool 3D - Poolians\n",
              "767400                       弹炸人2222\n",
              "773570                 Log Challenge\n",
              "...                              ...\n",
              "773640                Colony On Mars\n",
              "733530      LOGistICAL: South Africa\n",
              "610660                 Russian Roads\n",
              "658870           EXIT 2 - Directions\n",
              "681550                   Maze Run VR\n",
              "\n",
              "[32131 rows x 1 columns]"
            ]
          },
          "metadata": {
            "tags": []
          },
          "execution_count": 47
        }
      ]
    },
    {
      "cell_type": "code",
      "metadata": {
        "colab": {
          "base_uri": "https://localhost:8080/"
        },
        "id": "L7DCknaKQwIH",
        "outputId": "1fa11b03-83b5-4a69-d45e-400492fef1c4"
      },
      "source": [
        "games_jugados = data_reviews_1.product_id.value_counts()\n",
        "games_jugados.index = data_games_modelo.loc[games_jugados.index].title\n",
        "games_jugados"
      ],
      "execution_count": 48,
      "outputs": [
        {
          "output_type": "execute_result",
          "data": {
            "text/plain": [
              "title\n",
              "Team Fortress 2                       18334\n",
              "Rust                                  10204\n",
              "Borderlands 2                          7299\n",
              "Fallout 4                              7094\n",
              "Grand Theft Auto V                     5962\n",
              "                                      ...  \n",
              "German Fortress 3D                        1\n",
              "Singularity Roller                        1\n",
              "The Adventures of Capitano Navarro        1\n",
              "The Forgotten Forest                      1\n",
              "Navalia                                   1\n",
              "Name: product_id, Length: 12612, dtype: int64"
            ]
          },
          "metadata": {
            "tags": []
          },
          "execution_count": 48
        }
      ]
    },
    {
      "cell_type": "markdown",
      "metadata": {
        "id": "AlHQztOKSMdW"
      },
      "source": [
        "El juego con mayor cantidad de reviewa es Team Fortress con 18334 calificaciones.\n",
        "\n",
        "Algunos de los juegos con 1 sola reseña son:  \n",
        "German Fortress 3D,                        \n",
        "Singularity Roller,                       \n",
        "The Adventures of Capitano Navarro,        \n",
        "The Forgotten Forest,                      \n",
        "Navalia.                     "
      ]
    },
    {
      "cell_type": "markdown",
      "metadata": {
        "id": "6xstWP6rVlCX"
      },
      "source": [
        "*   **¿Cuántas horas jugó cada usuario al comentar?**"
      ]
    },
    {
      "cell_type": "code",
      "metadata": {
        "colab": {
          "base_uri": "https://localhost:8080/"
        },
        "id": "j6RAl-rrVpPR",
        "outputId": "a084eb63-5cb3-4111-c21e-d1fa307bbafd"
      },
      "source": [
        "data_reviews_1.hours.describe()"
      ],
      "execution_count": 49,
      "outputs": [
        {
          "output_type": "execute_result",
          "data": {
            "text/plain": [
              "count   774825.0\n",
              "mean       111.9\n",
              "std        390.2\n",
              "min          0.0\n",
              "25%          4.0\n",
              "50%         15.3\n",
              "75%         59.7\n",
              "max      28164.0\n",
              "Name: hours, dtype: float64"
            ]
          },
          "metadata": {
            "tags": []
          },
          "execution_count": 49
        }
      ]
    },
    {
      "cell_type": "code",
      "metadata": {
        "colab": {
          "base_uri": "https://localhost:8080/"
        },
        "id": "W53dMa4ufVL5",
        "outputId": "8dc22413-7542-4109-daa9-550c76629f8b"
      },
      "source": [
        "reviews_por_horas = data_reviews_1.hours.value_counts()\n",
        "print(reviews_por_horas)"
      ],
      "execution_count": 50,
      "outputs": [
        {
          "output_type": "stream",
          "text": [
            "0.2       11269\n",
            "0.3        9489\n",
            "0.1        9191\n",
            "0.4        8589\n",
            "0.5        8274\n",
            "          ...  \n",
            "1595.0        1\n",
            "2222.2        1\n",
            "3805.1        1\n",
            "3575.0        1\n",
            "5484.6        1\n",
            "Name: hours, Length: 21739, dtype: int64\n"
          ],
          "name": "stdout"
        }
      ]
    },
    {
      "cell_type": "code",
      "metadata": {
        "colab": {
          "base_uri": "https://localhost:8080/",
          "height": 377
        },
        "id": "21N7Yd6UV2_1",
        "outputId": "847f08b6-3d53-4776-d4f1-8f4a74557cc2"
      },
      "source": [
        "fig=plt.figure(figsize=(15,5))\n",
        "plt.suptitle('Horas de juego al comentar',fontsize=20, ha='center')\n",
        "ax1=fig.add_subplot(1,2,1)\n",
        "ax2=fig.add_subplot(1,2,2)\n",
        "sns.boxplot(data = data_reviews_1,x='hours',showfliers=True,showmeans=True,meanprops={\"marker\":\"o\",\"markerfacecolor\":\"white\", \"markeredgecolor\":\"black\"}, ax=ax1)\n",
        "\n",
        "sns.boxplot(data = data_reviews_1,x='hours',showfliers=False,showmeans=True,meanprops={\"marker\":\"o\",\"markerfacecolor\":\"white\", \"markeredgecolor\":\"black\"}, ax=ax2)\n",
        "ax1.set_title(\"Hours con Outliers\",fontsize=16)\n",
        "ax2.set_title(\"Hours sin Outliers\",fontsize=16)\n",
        "ax1.set_xlabel('Hours',fontsize=16)\n",
        "#ax1.set_ylabel('Rooms',fontsize=16)\n",
        "ax2.set_xlabel('Hours',fontsize=16)\n",
        "#ax2.set_ylabel('Rooms',fontsize=16)\n",
        "fig.subplots_adjust(top=0.8)\n",
        "plt.show()"
      ],
      "execution_count": 51,
      "outputs": [
        {
          "output_type": "display_data",
          "data": {
            "image/png": "[encoded data removed]",
            "text/plain": [
              "<Figure size 1080x360 with 2 Axes>"
            ]
          },
          "metadata": {
            "tags": []
          }
        }
      ]
    },
    {
      "cell_type": "markdown",
      "metadata": {
        "id": "X2lqJtSNWQY6"
      },
      "source": [
        "La mediana indica que los usuarios jugaron 15.3 horas a la hora de realizar los comentarios. Este valor puede resultar más representativo que el promedio dado que la distribución tiene una marcada cola hacia la derecha."
      ]
    },
    {
      "cell_type": "code",
      "metadata": {
        "colab": {
          "base_uri": "https://localhost:8080/",
          "height": 301
        },
        "id": "MeLhmQKYfDEf",
        "outputId": "1dd345fd-5293-4d1b-c5da-99a79b4d318f"
      },
      "source": [
        "plt.hist(reviews_por_horas, log=True, bins = 30)\n",
        "\n",
        "plt.xlabel('Cantidad de usuarios')\n",
        "plt.ylabel('Cantidad de horas ugadas')\n",
        "plt.title('Cantidad de horas jugadas por Usuarios')\n",
        "plt.show()"
      ],
      "execution_count": 52,
      "outputs": [
        {
          "output_type": "display_data",
          "data": {
            "image/png": "[encoded data removed]",
            "text/plain": [
              "<Figure size 432x288 with 1 Axes>"
            ]
          },
          "metadata": {
            "tags": []
          }
        }
      ]
    },
    {
      "cell_type": "markdown",
      "metadata": {
        "id": "GWS7Fa4igBXZ"
      },
      "source": [
        "Hay una gran cantidad de usuarios que jugaron menos de 1 hora, que se puede considerar un tiempo suficiente para categorizar al usuario como que jugo el juego."
      ]
    },
    {
      "cell_type": "markdown",
      "metadata": {
        "id": "wEH0DreTyK43"
      },
      "source": [
        "### **Dataset para el modelo**"
      ]
    },
    {
      "cell_type": "markdown",
      "metadata": {
        "id": "ZmWtH0GJ0kPb"
      },
      "source": [
        "**Análisis d la información**\n",
        " \n",
        "**En el Dataset Reviews**, solo tenemeos un atributo númerico \"hours\" el cual podemos utilizar como target, utilizandolo como indicador de satisfacción o preferencia del usuario con un juego. A mayor hs de juego, mayor seria la calificacion de ese usuario sobre ese juego.\n",
        "\n",
        "Otro indicador que podría usarse es \"text\" con la crítica del usuario sobre el juego y transformarlo en un valor númerico de satisfacción utilizando NLP: Procesamiento de Lenguaje Natural. Pero por el momento, no utilizaremos esta técnica.\n",
        "     \n",
        "Por lo tanto, asumimos que el tiempo de juego **\"hours\"** es una parte muy importante de los intereses del usuario y la utilizaremos como clasificacion (rating)."
      ]
    },
    {
      "cell_type": "markdown",
      "metadata": {
        "id": "CTHULpZn8v_M"
      },
      "source": [
        "*  **Seleccionamos las variables que nos serán útiles para realizar las predicciones**"
      ]
    },
    {
      "cell_type": "code",
      "metadata": {
        "colab": {
          "base_uri": "https://localhost:8080/",
          "height": 419
        },
        "id": "qdDivIRz8sYY",
        "outputId": "57fa7fde-e698-4d84-97a9-f4cb662f5763"
      },
      "source": [
        "data_reviews_2"
      ],
      "execution_count": 53,
      "outputs": [
        {
          "output_type": "execute_result",
          "data": {
            "text/html": [
              "<div>\n",
              "<style scoped>\n",
              "    .dataframe tbody tr th:only-of-type {\n",
              "        vertical-align: middle;\n",
              "    }\n",
              "\n",
              "    .dataframe tbody tr th {\n",
              "        vertical-align: top;\n",
              "    }\n",
              "\n",
              "    .dataframe thead th {\n",
              "        text-align: right;\n",
              "    }\n",
              "</style>\n",
              "<table border=\"1\" class=\"dataframe\">\n",
              "  <thead>\n",
              "    <tr style=\"text-align: right;\">\n",
              "      <th></th>\n",
              "      <th>username</th>\n",
              "      <th>product_id</th>\n",
              "      <th>text</th>\n",
              "      <th>hours</th>\n",
              "      <th>sentiment</th>\n",
              "    </tr>\n",
              "  </thead>\n",
              "  <tbody>\n",
              "    <tr>\n",
              "      <th>0</th>\n",
              "      <td>Chaos Syren</td>\n",
              "      <td>725280</td>\n",
              "      <td>This would not be acceptable as an entertainme...</td>\n",
              "      <td>0.1</td>\n",
              "      <td>Positive</td>\n",
              "    </tr>\n",
              "    <tr>\n",
              "      <th>1</th>\n",
              "      <td>freakfantom</td>\n",
              "      <td>725280</td>\n",
              "      <td>Прикольная стрелялка. Взял дешево на распродаже.</td>\n",
              "      <td>0.1</td>\n",
              "      <td>Positive</td>\n",
              "    </tr>\n",
              "    <tr>\n",
              "      <th>2</th>\n",
              "      <td>Ariman1</td>\n",
              "      <td>328100</td>\n",
              "      <td>Addictive RPG ! Works fine on linux though it ...</td>\n",
              "      <td>13.2</td>\n",
              "      <td>Mixed</td>\n",
              "    </tr>\n",
              "    <tr>\n",
              "      <th>3</th>\n",
              "      <td>dll3z</td>\n",
              "      <td>328100</td>\n",
              "      <td>do not buy this game</td>\n",
              "      <td>0.4</td>\n",
              "      <td>Mixed</td>\n",
              "    </tr>\n",
              "    <tr>\n",
              "      <th>4</th>\n",
              "      <td>Nyazicat</td>\n",
              "      <td>328100</td>\n",
              "      <td>For some reason I entirely derped out and boug...</td>\n",
              "      <td>2.2</td>\n",
              "      <td>Mixed</td>\n",
              "    </tr>\n",
              "    <tr>\n",
              "      <th>...</th>\n",
              "      <td>...</td>\n",
              "      <td>...</td>\n",
              "      <td>...</td>\n",
              "      <td>...</td>\n",
              "      <td>...</td>\n",
              "    </tr>\n",
              "    <tr>\n",
              "      <th>775464</th>\n",
              "      <td>rt974</td>\n",
              "      <td>518790</td>\n",
              "      <td>Hi,\\nI discovered this game yesterday on my pe...</td>\n",
              "      <td>9.4</td>\n",
              "      <td>Mostly Positive</td>\n",
              "    </tr>\n",
              "    <tr>\n",
              "      <th>775465</th>\n",
              "      <td>Fallenglory</td>\n",
              "      <td>518790</td>\n",
              "      <td>The Hunter was and is still the most realistic...</td>\n",
              "      <td>35.8</td>\n",
              "      <td>Mostly Positive</td>\n",
              "    </tr>\n",
              "    <tr>\n",
              "      <th>775466</th>\n",
              "      <td>GooseMan</td>\n",
              "      <td>518790</td>\n",
              "      <td>Very good!</td>\n",
              "      <td>32.4</td>\n",
              "      <td>Mostly Positive</td>\n",
              "    </tr>\n",
              "    <tr>\n",
              "      <th>775467</th>\n",
              "      <td>lazyboy82</td>\n",
              "      <td>518790</td>\n",
              "      <td>Update after 60+ hours:\\nI decided to quit the...</td>\n",
              "      <td>96.9</td>\n",
              "      <td>Mostly Positive</td>\n",
              "    </tr>\n",
              "    <tr>\n",
              "      <th>775468</th>\n",
              "      <td>Parad0x +x</td>\n",
              "      <td>518790</td>\n",
              "      <td>I would recommend this to any hunter loving fa...</td>\n",
              "      <td>1.3</td>\n",
              "      <td>Mostly Positive</td>\n",
              "    </tr>\n",
              "  </tbody>\n",
              "</table>\n",
              "<p>775469 rows × 5 columns</p>\n",
              "</div>"
            ],
            "text/plain": [
              "           username  product_id  ... hours        sentiment\n",
              "0       Chaos Syren      725280  ...   0.1         Positive\n",
              "1       freakfantom      725280  ...   0.1         Positive\n",
              "2           Ariman1      328100  ...  13.2            Mixed\n",
              "3             dll3z      328100  ...   0.4            Mixed\n",
              "4          Nyazicat      328100  ...   2.2            Mixed\n",
              "...             ...         ...  ...   ...              ...\n",
              "775464        rt974      518790  ...   9.4  Mostly Positive\n",
              "775465  Fallenglory      518790  ...  35.8  Mostly Positive\n",
              "775466     GooseMan      518790  ...  32.4  Mostly Positive\n",
              "775467    lazyboy82      518790  ...  96.9  Mostly Positive\n",
              "775468   Parad0x +x      518790  ...   1.3  Mostly Positive\n",
              "\n",
              "[775469 rows x 5 columns]"
            ]
          },
          "metadata": {
            "tags": []
          },
          "execution_count": 53
        }
      ]
    },
    {
      "cell_type": "code",
      "metadata": {
        "colab": {
          "base_uri": "https://localhost:8080/",
          "height": 419
        },
        "id": "TL936FICYi4X",
        "outputId": "a6479179-d5fb-41ef-960e-06e2d54b415d"
      },
      "source": [
        "data_reviews_3 = data_reviews_2.copy()\n",
        "#data_reviews_3 = data_reviews_3.loc[:, ('username', 'product_id', 'hours')]\n",
        "data_reviews_3"
      ],
      "execution_count": 54,
      "outputs": [
        {
          "output_type": "execute_result",
          "data": {
            "text/html": [
              "<div>\n",
              "<style scoped>\n",
              "    .dataframe tbody tr th:only-of-type {\n",
              "        vertical-align: middle;\n",
              "    }\n",
              "\n",
              "    .dataframe tbody tr th {\n",
              "        vertical-align: top;\n",
              "    }\n",
              "\n",
              "    .dataframe thead th {\n",
              "        text-align: right;\n",
              "    }\n",
              "</style>\n",
              "<table border=\"1\" class=\"dataframe\">\n",
              "  <thead>\n",
              "    <tr style=\"text-align: right;\">\n",
              "      <th></th>\n",
              "      <th>username</th>\n",
              "      <th>product_id</th>\n",
              "      <th>text</th>\n",
              "      <th>hours</th>\n",
              "      <th>sentiment</th>\n",
              "    </tr>\n",
              "  </thead>\n",
              "  <tbody>\n",
              "    <tr>\n",
              "      <th>0</th>\n",
              "      <td>Chaos Syren</td>\n",
              "      <td>725280</td>\n",
              "      <td>This would not be acceptable as an entertainme...</td>\n",
              "      <td>0.1</td>\n",
              "      <td>Positive</td>\n",
              "    </tr>\n",
              "    <tr>\n",
              "      <th>1</th>\n",
              "      <td>freakfantom</td>\n",
              "      <td>725280</td>\n",
              "      <td>Прикольная стрелялка. Взял дешево на распродаже.</td>\n",
              "      <td>0.1</td>\n",
              "      <td>Positive</td>\n",
              "    </tr>\n",
              "    <tr>\n",
              "      <th>2</th>\n",
              "      <td>Ariman1</td>\n",
              "      <td>328100</td>\n",
              "      <td>Addictive RPG ! Works fine on linux though it ...</td>\n",
              "      <td>13.2</td>\n",
              "      <td>Mixed</td>\n",
              "    </tr>\n",
              "    <tr>\n",
              "      <th>3</th>\n",
              "      <td>dll3z</td>\n",
              "      <td>328100</td>\n",
              "      <td>do not buy this game</td>\n",
              "      <td>0.4</td>\n",
              "      <td>Mixed</td>\n",
              "    </tr>\n",
              "    <tr>\n",
              "      <th>4</th>\n",
              "      <td>Nyazicat</td>\n",
              "      <td>328100</td>\n",
              "      <td>For some reason I entirely derped out and boug...</td>\n",
              "      <td>2.2</td>\n",
              "      <td>Mixed</td>\n",
              "    </tr>\n",
              "    <tr>\n",
              "      <th>...</th>\n",
              "      <td>...</td>\n",
              "      <td>...</td>\n",
              "      <td>...</td>\n",
              "      <td>...</td>\n",
              "      <td>...</td>\n",
              "    </tr>\n",
              "    <tr>\n",
              "      <th>775464</th>\n",
              "      <td>rt974</td>\n",
              "      <td>518790</td>\n",
              "      <td>Hi,\\nI discovered this game yesterday on my pe...</td>\n",
              "      <td>9.4</td>\n",
              "      <td>Mostly Positive</td>\n",
              "    </tr>\n",
              "    <tr>\n",
              "      <th>775465</th>\n",
              "      <td>Fallenglory</td>\n",
              "      <td>518790</td>\n",
              "      <td>The Hunter was and is still the most realistic...</td>\n",
              "      <td>35.8</td>\n",
              "      <td>Mostly Positive</td>\n",
              "    </tr>\n",
              "    <tr>\n",
              "      <th>775466</th>\n",
              "      <td>GooseMan</td>\n",
              "      <td>518790</td>\n",
              "      <td>Very good!</td>\n",
              "      <td>32.4</td>\n",
              "      <td>Mostly Positive</td>\n",
              "    </tr>\n",
              "    <tr>\n",
              "      <th>775467</th>\n",
              "      <td>lazyboy82</td>\n",
              "      <td>518790</td>\n",
              "      <td>Update after 60+ hours:\\nI decided to quit the...</td>\n",
              "      <td>96.9</td>\n",
              "      <td>Mostly Positive</td>\n",
              "    </tr>\n",
              "    <tr>\n",
              "      <th>775468</th>\n",
              "      <td>Parad0x +x</td>\n",
              "      <td>518790</td>\n",
              "      <td>I would recommend this to any hunter loving fa...</td>\n",
              "      <td>1.3</td>\n",
              "      <td>Mostly Positive</td>\n",
              "    </tr>\n",
              "  </tbody>\n",
              "</table>\n",
              "<p>775469 rows × 5 columns</p>\n",
              "</div>"
            ],
            "text/plain": [
              "           username  product_id  ... hours        sentiment\n",
              "0       Chaos Syren      725280  ...   0.1         Positive\n",
              "1       freakfantom      725280  ...   0.1         Positive\n",
              "2           Ariman1      328100  ...  13.2            Mixed\n",
              "3             dll3z      328100  ...   0.4            Mixed\n",
              "4          Nyazicat      328100  ...   2.2            Mixed\n",
              "...             ...         ...  ...   ...              ...\n",
              "775464        rt974      518790  ...   9.4  Mostly Positive\n",
              "775465  Fallenglory      518790  ...  35.8  Mostly Positive\n",
              "775466     GooseMan      518790  ...  32.4  Mostly Positive\n",
              "775467    lazyboy82      518790  ...  96.9  Mostly Positive\n",
              "775468   Parad0x +x      518790  ...   1.3  Mostly Positive\n",
              "\n",
              "[775469 rows x 5 columns]"
            ]
          },
          "metadata": {
            "tags": []
          },
          "execution_count": 54
        }
      ]
    },
    {
      "cell_type": "code",
      "metadata": {
        "colab": {
          "base_uri": "https://localhost:8080/"
        },
        "id": "b-ayA4eg-KX-",
        "outputId": "5f7925ea-3ff2-497d-d324-586b7f0e4ff9"
      },
      "source": [
        "print(data_reviews_3.isnull().sum())\n",
        "print(data_reviews_3.shape)"
      ],
      "execution_count": 55,
      "outputs": [
        {
          "output_type": "stream",
          "text": [
            "username        0\n",
            "product_id      0\n",
            "text            0\n",
            "hours           0\n",
            "sentiment     142\n",
            "dtype: int64\n",
            "(775469, 5)\n"
          ],
          "name": "stdout"
        }
      ]
    },
    {
      "cell_type": "markdown",
      "metadata": {
        "id": "tssVUaw5HdAS"
      },
      "source": [
        "#### **Deteccion de outliers**"
      ]
    },
    {
      "cell_type": "markdown",
      "metadata": {
        "id": "kSsmujm0HwOi"
      },
      "source": [
        "Aplicamos el método de IQR para eliminar los outliers de la variable \"hours\".\n"
      ]
    },
    {
      "cell_type": "code",
      "metadata": {
        "colab": {
          "base_uri": "https://localhost:8080/",
          "height": 671
        },
        "id": "CBWGzHxug1rm",
        "outputId": "a349a14e-a3c7-4f91-be1d-5d4fbf7c3817"
      },
      "source": [
        "plt.subplots(figsize=(20, 14))\n",
        "\n",
        "plt.subplot(2,1,1)\n",
        "plt.title(\"Distribucion Hours\" ,size=18)\n",
        "sns.histplot(data_reviews_3, x= \"hours\", bins=100)\n",
        "plt.xlabel('hours',size=14)\n",
        "plt.ylabel('distribucion',size=14)\n",
        "\n",
        "plt.subplot(2,1,2)\n",
        "sns.boxplot(data = data_reviews_3, x= \"hours\",palette=\"Spectral\",orient=\"h\")\n",
        "plt.xlabel('hours',size=14)\n",
        "plt.ylabel('Distribucion',size=14)\n",
        "plt.title(\"Distribucion hours\" ,size=18)\n",
        "\n",
        "plt.show()"
      ],
      "execution_count": 56,
      "outputs": [
        {
          "output_type": "display_data",
          "data": {
            "image/png": "[encoded data removed]",
            "text/plain": [
              "<Figure size 1440x1008 with 2 Axes>"
            ]
          },
          "metadata": {
            "tags": []
          }
        }
      ]
    },
    {
      "cell_type": "code",
      "metadata": {
        "colab": {
          "base_uri": "https://localhost:8080/"
        },
        "id": "6ZHR7u_EHkGK",
        "outputId": "41c3f3ca-7fbf-4fb9-f18f-e5d452573b5e"
      },
      "source": [
        "Q1 = data_reviews_3.hours.quantile(0.25)\n",
        "Q3 = data_reviews_3.hours.quantile(0.75)\n",
        "\n",
        "IQR = Q3 - Q1\n",
        "hours_min = Q1 #- (IQR*1.5)  Se toma solo el primer cuartil ya que da un número negativo\n",
        "hours_max = Q3 + (IQR*1.5)\n",
        "\n",
        "print(\"las horas maxima son {}, las horas minimas son {} y el IQR {}\" .format(hours_max,hours_min,IQR))\n",
        "print(\"\")"
      ],
      "execution_count": 57,
      "outputs": [
        {
          "output_type": "stream",
          "text": [
            "las horas maxima son 143.0, las horas minimas son 4.0 y el IQR 55.6\n",
            "\n"
          ],
          "name": "stdout"
        }
      ]
    },
    {
      "cell_type": "code",
      "metadata": {
        "id": "zQJkoL55ldqF"
      },
      "source": [
        "data_reviews_3a = data_reviews_3[(data_reviews_3.hours > hours_min)&(data_reviews_3.hours< hours_max)]"
      ],
      "execution_count": 58,
      "outputs": []
    },
    {
      "cell_type": "code",
      "metadata": {
        "colab": {
          "base_uri": "https://localhost:8080/"
        },
        "id": "NTSbBS5ymB8T",
        "outputId": "93175c8a-2ba7-4fa4-ff53-3db236776160"
      },
      "source": [
        "a=len(data_reviews_3a)\n",
        "b=len(data_reviews_3)\n",
        "c=b-a\n",
        "e=c*100/b\n",
        "print(\"La cantidad de reviews que perdemos son: \",c,\"reviews; un \",e, \" % de las reseñas.\" )"
      ],
      "execution_count": 59,
      "outputs": [
        {
          "output_type": "stream",
          "text": [
            "La cantidad de reviews que perdemos son:  305897 reviews; un  39.44670902382945  % de las reseñas.\n"
          ],
          "name": "stdout"
        }
      ]
    },
    {
      "cell_type": "code",
      "metadata": {
        "colab": {
          "base_uri": "https://localhost:8080/",
          "height": 675
        },
        "id": "EqOpzIRVj6Mu",
        "outputId": "9b933d6b-6042-4dbf-ce5e-04fb377f73de"
      },
      "source": [
        "plt.subplots(figsize=(20, 14))\n",
        "\n",
        "plt.subplot(2,1,1)\n",
        "plt.title(\"Distribucion Hours\" ,size=18)\n",
        "sns.histplot(data_reviews_3a, x= \"hours\", bins=100)\n",
        "plt.xlabel('hours',size=14)\n",
        "plt.ylabel('distribucion',size=14)\n",
        "\n",
        "plt.subplot(2,1,2)\n",
        "sns.boxplot(data = data_reviews_3a, x= \"hours\",palette=\"Spectral\",orient=\"h\")\n",
        "plt.xlabel('hours',size=14)\n",
        "plt.ylabel('Distribucion',size=14)\n",
        "plt.title(\"Distribucion hours\" ,size=18)\n",
        "\n",
        "plt.show()"
      ],
      "execution_count": 60,
      "outputs": [
        {
          "output_type": "display_data",
          "data": {
            "image/png": "[encoded data removed]",
            "text/plain": [
              "<Figure size 1440x1008 with 2 Axes>"
            ]
          },
          "metadata": {
            "tags": []
          }
        }
      ]
    },
    {
      "cell_type": "markdown",
      "metadata": {
        "id": "WQHGw-BSlCaE"
      },
      "source": [
        "Como la variable **\"hours\"** la queremos convertir un un \"ranking\" pero su distribución es muy asimetrica ya que cuentas con muy pocas reseñas con muchas horas jugadas y con una gran cantidad con pocas horas jugadas, vamos a eliminar los outliers de forma manual, tomando solo aquellos que están por encima del 3er cuartil.\n",
        "\n",
        "Cabe destacar que el concepto de ranking implica de cierta forma, que las distancias que hay entre \"punto y punto\" son iguales. Por ejemplo el puntaje 1 cabe 5 veces en el puntaje 5."
      ]
    },
    {
      "cell_type": "code",
      "metadata": {
        "colab": {
          "base_uri": "https://localhost:8080/",
          "height": 301
        },
        "id": "PimVc-hkog57",
        "outputId": "7e73240e-ba84-453b-a8a7-d2cfad26e571"
      },
      "source": [
        "reviews_por_horas_1 = data_reviews_3.hours.value_counts()\n",
        "\n",
        "plt.hist(reviews_por_horas_1, log=True, bins = 100)\n",
        "\n",
        "plt.xlabel('Cantidad de usuarios')\n",
        "plt.ylabel('Cantidad de horas jugadas')\n",
        "plt.title('Cantidad de horas jugadas por Usuarios')\n",
        "plt.show()\n",
        "\n"
      ],
      "execution_count": 61,
      "outputs": [
        {
          "output_type": "display_data",
          "data": {
            "image/png": "[encoded data removed]",
            "text/plain": [
              "<Figure size 432x288 with 1 Axes>"
            ]
          },
          "metadata": {
            "tags": []
          }
        }
      ]
    },
    {
      "cell_type": "code",
      "metadata": {
        "id": "Q73Ja68Qmnga"
      },
      "source": [
        "data_reviews_3b = data_reviews_3.loc[data_reviews_3.hours < 4000]"
      ],
      "execution_count": 62,
      "outputs": []
    },
    {
      "cell_type": "code",
      "metadata": {
        "colab": {
          "base_uri": "https://localhost:8080/"
        },
        "id": "SFIYQSNmkzHI",
        "outputId": "3673f73a-435e-4043-f2ed-1ff0622cbfc0"
      },
      "source": [
        "a=len(data_reviews_3b)\n",
        "b=len(data_reviews_3)\n",
        "c=b-a\n",
        "e=c*100/b\n",
        "print(\"La cantidad de reviews que perdemos son: \",c,\"reviews; un \",e, \" % de las reseñas.\" )"
      ],
      "execution_count": 63,
      "outputs": [
        {
          "output_type": "stream",
          "text": [
            "La cantidad de reviews que perdemos son:  1232 reviews; un  0.15887159899364126  % de las reseñas.\n"
          ],
          "name": "stdout"
        }
      ]
    },
    {
      "cell_type": "code",
      "metadata": {
        "colab": {
          "base_uri": "https://localhost:8080/",
          "height": 671
        },
        "id": "ubemd1d9pFtK",
        "outputId": "9d162c69-07d1-49f1-8940-6195ccadfa5e"
      },
      "source": [
        "plt.subplots(figsize=(20, 14))\n",
        "\n",
        "plt.subplot(2,1,1)\n",
        "plt.title(\"Distribucion Hours\" ,size=18)\n",
        "sns.histplot(data_reviews_3b, x= \"hours\", bins=100)\n",
        "plt.xlabel('hours',size=14)\n",
        "plt.ylabel('distribucion',size=14)\n",
        "\n",
        "plt.subplot(2,1,2)\n",
        "sns.boxplot(data = data_reviews_3b, x= \"hours\",palette=\"Spectral\",orient=\"h\")\n",
        "plt.xlabel('hours',size=14)\n",
        "plt.ylabel('Distribucion',size=14)\n",
        "plt.title(\"Distribucion hours\" ,size=18)\n",
        "\n",
        "plt.show()"
      ],
      "execution_count": 64,
      "outputs": [
        {
          "output_type": "display_data",
          "data": {
            "image/png": "[encoded data removed]",
            "text/plain": [
              "<Figure size 1440x1008 with 2 Axes>"
            ]
          },
          "metadata": {
            "tags": []
          }
        }
      ]
    },
    {
      "cell_type": "markdown",
      "metadata": {
        "id": "eULYIGyTrOEi"
      },
      "source": [
        "#### **Encoder**"
      ]
    },
    {
      "cell_type": "code",
      "metadata": {
        "colab": {
          "base_uri": "https://localhost:8080/",
          "height": 419
        },
        "id": "ylFfMfP7toUB",
        "outputId": "9be889c8-4dc2-474f-83b0-f0d7307f2eac"
      },
      "source": [
        "data_reviews_3b"
      ],
      "execution_count": 65,
      "outputs": [
        {
          "output_type": "execute_result",
          "data": {
            "text/html": [
              "<div>\n",
              "<style scoped>\n",
              "    .dataframe tbody tr th:only-of-type {\n",
              "        vertical-align: middle;\n",
              "    }\n",
              "\n",
              "    .dataframe tbody tr th {\n",
              "        vertical-align: top;\n",
              "    }\n",
              "\n",
              "    .dataframe thead th {\n",
              "        text-align: right;\n",
              "    }\n",
              "</style>\n",
              "<table border=\"1\" class=\"dataframe\">\n",
              "  <thead>\n",
              "    <tr style=\"text-align: right;\">\n",
              "      <th></th>\n",
              "      <th>username</th>\n",
              "      <th>product_id</th>\n",
              "      <th>text</th>\n",
              "      <th>hours</th>\n",
              "      <th>sentiment</th>\n",
              "    </tr>\n",
              "  </thead>\n",
              "  <tbody>\n",
              "    <tr>\n",
              "      <th>0</th>\n",
              "      <td>Chaos Syren</td>\n",
              "      <td>725280</td>\n",
              "      <td>This would not be acceptable as an entertainme...</td>\n",
              "      <td>0.1</td>\n",
              "      <td>Positive</td>\n",
              "    </tr>\n",
              "    <tr>\n",
              "      <th>1</th>\n",
              "      <td>freakfantom</td>\n",
              "      <td>725280</td>\n",
              "      <td>Прикольная стрелялка. Взял дешево на распродаже.</td>\n",
              "      <td>0.1</td>\n",
              "      <td>Positive</td>\n",
              "    </tr>\n",
              "    <tr>\n",
              "      <th>2</th>\n",
              "      <td>Ariman1</td>\n",
              "      <td>328100</td>\n",
              "      <td>Addictive RPG ! Works fine on linux though it ...</td>\n",
              "      <td>13.2</td>\n",
              "      <td>Mixed</td>\n",
              "    </tr>\n",
              "    <tr>\n",
              "      <th>3</th>\n",
              "      <td>dll3z</td>\n",
              "      <td>328100</td>\n",
              "      <td>do not buy this game</td>\n",
              "      <td>0.4</td>\n",
              "      <td>Mixed</td>\n",
              "    </tr>\n",
              "    <tr>\n",
              "      <th>4</th>\n",
              "      <td>Nyazicat</td>\n",
              "      <td>328100</td>\n",
              "      <td>For some reason I entirely derped out and boug...</td>\n",
              "      <td>2.2</td>\n",
              "      <td>Mixed</td>\n",
              "    </tr>\n",
              "    <tr>\n",
              "      <th>...</th>\n",
              "      <td>...</td>\n",
              "      <td>...</td>\n",
              "      <td>...</td>\n",
              "      <td>...</td>\n",
              "      <td>...</td>\n",
              "    </tr>\n",
              "    <tr>\n",
              "      <th>775464</th>\n",
              "      <td>rt974</td>\n",
              "      <td>518790</td>\n",
              "      <td>Hi,\\nI discovered this game yesterday on my pe...</td>\n",
              "      <td>9.4</td>\n",
              "      <td>Mostly Positive</td>\n",
              "    </tr>\n",
              "    <tr>\n",
              "      <th>775465</th>\n",
              "      <td>Fallenglory</td>\n",
              "      <td>518790</td>\n",
              "      <td>The Hunter was and is still the most realistic...</td>\n",
              "      <td>35.8</td>\n",
              "      <td>Mostly Positive</td>\n",
              "    </tr>\n",
              "    <tr>\n",
              "      <th>775466</th>\n",
              "      <td>GooseMan</td>\n",
              "      <td>518790</td>\n",
              "      <td>Very good!</td>\n",
              "      <td>32.4</td>\n",
              "      <td>Mostly Positive</td>\n",
              "    </tr>\n",
              "    <tr>\n",
              "      <th>775467</th>\n",
              "      <td>lazyboy82</td>\n",
              "      <td>518790</td>\n",
              "      <td>Update after 60+ hours:\\nI decided to quit the...</td>\n",
              "      <td>96.9</td>\n",
              "      <td>Mostly Positive</td>\n",
              "    </tr>\n",
              "    <tr>\n",
              "      <th>775468</th>\n",
              "      <td>Parad0x +x</td>\n",
              "      <td>518790</td>\n",
              "      <td>I would recommend this to any hunter loving fa...</td>\n",
              "      <td>1.3</td>\n",
              "      <td>Mostly Positive</td>\n",
              "    </tr>\n",
              "  </tbody>\n",
              "</table>\n",
              "<p>774237 rows × 5 columns</p>\n",
              "</div>"
            ],
            "text/plain": [
              "           username  product_id  ... hours        sentiment\n",
              "0       Chaos Syren      725280  ...   0.1         Positive\n",
              "1       freakfantom      725280  ...   0.1         Positive\n",
              "2           Ariman1      328100  ...  13.2            Mixed\n",
              "3             dll3z      328100  ...   0.4            Mixed\n",
              "4          Nyazicat      328100  ...   2.2            Mixed\n",
              "...             ...         ...  ...   ...              ...\n",
              "775464        rt974      518790  ...   9.4  Mostly Positive\n",
              "775465  Fallenglory      518790  ...  35.8  Mostly Positive\n",
              "775466     GooseMan      518790  ...  32.4  Mostly Positive\n",
              "775467    lazyboy82      518790  ...  96.9  Mostly Positive\n",
              "775468   Parad0x +x      518790  ...   1.3  Mostly Positive\n",
              "\n",
              "[774237 rows x 5 columns]"
            ]
          },
          "metadata": {
            "tags": []
          },
          "execution_count": 65
        }
      ]
    },
    {
      "cell_type": "markdown",
      "metadata": {
        "id": "dMHoMnKxr6Hp"
      },
      "source": [
        "**username** es el nombre de cada usuario y es único.\n",
        "Realizamos encoding para esta variable."
      ]
    },
    {
      "cell_type": "code",
      "metadata": {
        "id": "icXKJ25lr1ob"
      },
      "source": [
        "Labelencoder = LabelEncoder()\n",
        "data_reviews_3b[\"username\"] = Labelencoder.fit_transform(data_reviews_3b[\"username\"])"
      ],
      "execution_count": 66,
      "outputs": []
    },
    {
      "cell_type": "code",
      "metadata": {
        "colab": {
          "base_uri": "https://localhost:8080/",
          "height": 419
        },
        "id": "wEKMZg_Yww6q",
        "outputId": "98b5f2ab-4b2d-4652-da59-9b4df82c5858"
      },
      "source": [
        "data_reviews_3b"
      ],
      "execution_count": 67,
      "outputs": [
        {
          "output_type": "execute_result",
          "data": {
            "text/html": [
              "<div>\n",
              "<style scoped>\n",
              "    .dataframe tbody tr th:only-of-type {\n",
              "        vertical-align: middle;\n",
              "    }\n",
              "\n",
              "    .dataframe tbody tr th {\n",
              "        vertical-align: top;\n",
              "    }\n",
              "\n",
              "    .dataframe thead th {\n",
              "        text-align: right;\n",
              "    }\n",
              "</style>\n",
              "<table border=\"1\" class=\"dataframe\">\n",
              "  <thead>\n",
              "    <tr style=\"text-align: right;\">\n",
              "      <th></th>\n",
              "      <th>username</th>\n",
              "      <th>product_id</th>\n",
              "      <th>text</th>\n",
              "      <th>hours</th>\n",
              "      <th>sentiment</th>\n",
              "    </tr>\n",
              "  </thead>\n",
              "  <tbody>\n",
              "    <tr>\n",
              "      <th>0</th>\n",
              "      <td>62190</td>\n",
              "      <td>725280</td>\n",
              "      <td>This would not be acceptable as an entertainme...</td>\n",
              "      <td>0.1</td>\n",
              "      <td>Positive</td>\n",
              "    </tr>\n",
              "    <tr>\n",
              "      <th>1</th>\n",
              "      <td>432248</td>\n",
              "      <td>725280</td>\n",
              "      <td>Прикольная стрелялка. Взял дешево на распродаже.</td>\n",
              "      <td>0.1</td>\n",
              "      <td>Positive</td>\n",
              "    </tr>\n",
              "    <tr>\n",
              "      <th>2</th>\n",
              "      <td>26722</td>\n",
              "      <td>328100</td>\n",
              "      <td>Addictive RPG ! Works fine on linux though it ...</td>\n",
              "      <td>13.2</td>\n",
              "      <td>Mixed</td>\n",
              "    </tr>\n",
              "    <tr>\n",
              "      <th>3</th>\n",
              "      <td>423209</td>\n",
              "      <td>328100</td>\n",
              "      <td>do not buy this game</td>\n",
              "      <td>0.4</td>\n",
              "      <td>Mixed</td>\n",
              "    </tr>\n",
              "    <tr>\n",
              "      <th>4</th>\n",
              "      <td>245739</td>\n",
              "      <td>328100</td>\n",
              "      <td>For some reason I entirely derped out and boug...</td>\n",
              "      <td>2.2</td>\n",
              "      <td>Mixed</td>\n",
              "    </tr>\n",
              "    <tr>\n",
              "      <th>...</th>\n",
              "      <td>...</td>\n",
              "      <td>...</td>\n",
              "      <td>...</td>\n",
              "      <td>...</td>\n",
              "      <td>...</td>\n",
              "    </tr>\n",
              "    <tr>\n",
              "      <th>775464</th>\n",
              "      <td>485923</td>\n",
              "      <td>518790</td>\n",
              "      <td>Hi,\\nI discovered this game yesterday on my pe...</td>\n",
              "      <td>9.4</td>\n",
              "      <td>Mostly Positive</td>\n",
              "    </tr>\n",
              "    <tr>\n",
              "      <th>775465</th>\n",
              "      <td>115291</td>\n",
              "      <td>518790</td>\n",
              "      <td>The Hunter was and is still the most realistic...</td>\n",
              "      <td>35.8</td>\n",
              "      <td>Mostly Positive</td>\n",
              "    </tr>\n",
              "    <tr>\n",
              "      <th>775466</th>\n",
              "      <td>136298</td>\n",
              "      <td>518790</td>\n",
              "      <td>Very good!</td>\n",
              "      <td>32.4</td>\n",
              "      <td>Mostly Positive</td>\n",
              "    </tr>\n",
              "    <tr>\n",
              "      <th>775467</th>\n",
              "      <td>456632</td>\n",
              "      <td>518790</td>\n",
              "      <td>Update after 60+ hours:\\nI decided to quit the...</td>\n",
              "      <td>96.9</td>\n",
              "      <td>Mostly Positive</td>\n",
              "    </tr>\n",
              "    <tr>\n",
              "      <th>775468</th>\n",
              "      <td>255752</td>\n",
              "      <td>518790</td>\n",
              "      <td>I would recommend this to any hunter loving fa...</td>\n",
              "      <td>1.3</td>\n",
              "      <td>Mostly Positive</td>\n",
              "    </tr>\n",
              "  </tbody>\n",
              "</table>\n",
              "<p>774237 rows × 5 columns</p>\n",
              "</div>"
            ],
            "text/plain": [
              "        username  product_id  ... hours        sentiment\n",
              "0          62190      725280  ...   0.1         Positive\n",
              "1         432248      725280  ...   0.1         Positive\n",
              "2          26722      328100  ...  13.2            Mixed\n",
              "3         423209      328100  ...   0.4            Mixed\n",
              "4         245739      328100  ...   2.2            Mixed\n",
              "...          ...         ...  ...   ...              ...\n",
              "775464    485923      518790  ...   9.4  Mostly Positive\n",
              "775465    115291      518790  ...  35.8  Mostly Positive\n",
              "775466    136298      518790  ...  32.4  Mostly Positive\n",
              "775467    456632      518790  ...  96.9  Mostly Positive\n",
              "775468    255752      518790  ...   1.3  Mostly Positive\n",
              "\n",
              "[774237 rows x 5 columns]"
            ]
          },
          "metadata": {
            "tags": []
          },
          "execution_count": 67
        }
      ]
    },
    {
      "cell_type": "markdown",
      "metadata": {
        "id": "2VXHWi6ww9lb"
      },
      "source": [
        "#### **Rating**"
      ]
    },
    {
      "cell_type": "markdown",
      "metadata": {
        "id": "_8bESNvh2lj3"
      },
      "source": [
        "El valor de clasificacion (rating) que utilizaremos sera el de tiempo jugado (atributo \"hours\")."
      ]
    },
    {
      "cell_type": "code",
      "metadata": {
        "id": "2jJTr53nw_go"
      },
      "source": [
        "data_reviews_3b['rating'] = pd.qcut(data_reviews_3b.hours, 5, labels=['1', '2', '3', '4', '5'])"
      ],
      "execution_count": 68,
      "outputs": []
    },
    {
      "cell_type": "code",
      "metadata": {
        "colab": {
          "base_uri": "https://localhost:8080/",
          "height": 335
        },
        "id": "fwKtqZmbxqYW",
        "outputId": "9b2a8c30-0ea7-4bf4-c49c-3b8611fb6d45"
      },
      "source": [
        "fig = plt.figure()\n",
        "fig, ax = plt.subplots(figsize = (6,4))\n",
        "plt.title('Cantidad de Calificaciones por Rating')\n",
        "sns.countplot(data = data_reviews_3b, x ='rating')"
      ],
      "execution_count": 69,
      "outputs": [
        {
          "output_type": "execute_result",
          "data": {
            "text/plain": [
              "<matplotlib.axes._subplots.AxesSubplot at 0x7f7d6fe5bdd0>"
            ]
          },
          "metadata": {
            "tags": []
          },
          "execution_count": 69
        },
        {
          "output_type": "display_data",
          "data": {
            "text/plain": [
              "<Figure size 432x288 with 0 Axes>"
            ]
          },
          "metadata": {
            "tags": []
          }
        },
        {
          "output_type": "display_data",
          "data": {
            "image/png": "[encoded data removed]",
            "text/plain": [
              "<Figure size 432x288 with 1 Axes>"
            ]
          },
          "metadata": {
            "tags": []
          }
        }
      ]
    },
    {
      "cell_type": "code",
      "metadata": {
        "colab": {
          "base_uri": "https://localhost:8080/"
        },
        "id": "NoskoFUF2rJH",
        "outputId": "20ec7fad-fcf5-4df5-d614-aa43076faa33"
      },
      "source": [
        "pd.unique(data_reviews_3b['rating'])"
      ],
      "execution_count": 70,
      "outputs": [
        {
          "output_type": "execute_result",
          "data": {
            "text/plain": [
              "['1', '3', '2', '4', '5']\n",
              "Categories (5, object): ['1' < '2' < '3' < '4' < '5']"
            ]
          },
          "metadata": {
            "tags": []
          },
          "execution_count": 70
        }
      ]
    },
    {
      "cell_type": "markdown",
      "metadata": {
        "id": "FeJX-0z620rO"
      },
      "source": [
        "- Los valores resultan categóricos, ordenados de menor a mayor.\n",
        "- Los pasamos a enteros, con el fin de poder seguir explorando sus datos."
      ]
    },
    {
      "cell_type": "code",
      "metadata": {
        "id": "2pgH9GCl21Pe"
      },
      "source": [
        "data_reviews_3b['rating'] = data_reviews_3b['rating'].astype(int)"
      ],
      "execution_count": 71,
      "outputs": []
    },
    {
      "cell_type": "markdown",
      "metadata": {
        "id": "iiH7KXly3C8O"
      },
      "source": [
        "Reordenamos nuestro dataset, tomando solo las columnas necesarias para nuestro modelo"
      ]
    },
    {
      "cell_type": "code",
      "metadata": {
        "colab": {
          "base_uri": "https://localhost:8080/",
          "height": 419
        },
        "id": "yVDB8By793X7",
        "outputId": "db504f79-ae5a-4ab7-9a59-275766dd5123"
      },
      "source": [
        "data_reviews_3b"
      ],
      "execution_count": 72,
      "outputs": [
        {
          "output_type": "execute_result",
          "data": {
            "text/html": [
              "<div>\n",
              "<style scoped>\n",
              "    .dataframe tbody tr th:only-of-type {\n",
              "        vertical-align: middle;\n",
              "    }\n",
              "\n",
              "    .dataframe tbody tr th {\n",
              "        vertical-align: top;\n",
              "    }\n",
              "\n",
              "    .dataframe thead th {\n",
              "        text-align: right;\n",
              "    }\n",
              "</style>\n",
              "<table border=\"1\" class=\"dataframe\">\n",
              "  <thead>\n",
              "    <tr style=\"text-align: right;\">\n",
              "      <th></th>\n",
              "      <th>username</th>\n",
              "      <th>product_id</th>\n",
              "      <th>text</th>\n",
              "      <th>hours</th>\n",
              "      <th>sentiment</th>\n",
              "      <th>rating</th>\n",
              "    </tr>\n",
              "  </thead>\n",
              "  <tbody>\n",
              "    <tr>\n",
              "      <th>0</th>\n",
              "      <td>62190</td>\n",
              "      <td>725280</td>\n",
              "      <td>This would not be acceptable as an entertainme...</td>\n",
              "      <td>0.1</td>\n",
              "      <td>Positive</td>\n",
              "      <td>1</td>\n",
              "    </tr>\n",
              "    <tr>\n",
              "      <th>1</th>\n",
              "      <td>432248</td>\n",
              "      <td>725280</td>\n",
              "      <td>Прикольная стрелялка. Взял дешево на распродаже.</td>\n",
              "      <td>0.1</td>\n",
              "      <td>Positive</td>\n",
              "      <td>1</td>\n",
              "    </tr>\n",
              "    <tr>\n",
              "      <th>2</th>\n",
              "      <td>26722</td>\n",
              "      <td>328100</td>\n",
              "      <td>Addictive RPG ! Works fine on linux though it ...</td>\n",
              "      <td>13.2</td>\n",
              "      <td>Mixed</td>\n",
              "      <td>3</td>\n",
              "    </tr>\n",
              "    <tr>\n",
              "      <th>3</th>\n",
              "      <td>423209</td>\n",
              "      <td>328100</td>\n",
              "      <td>do not buy this game</td>\n",
              "      <td>0.4</td>\n",
              "      <td>Mixed</td>\n",
              "      <td>1</td>\n",
              "    </tr>\n",
              "    <tr>\n",
              "      <th>4</th>\n",
              "      <td>245739</td>\n",
              "      <td>328100</td>\n",
              "      <td>For some reason I entirely derped out and boug...</td>\n",
              "      <td>2.2</td>\n",
              "      <td>Mixed</td>\n",
              "      <td>1</td>\n",
              "    </tr>\n",
              "    <tr>\n",
              "      <th>...</th>\n",
              "      <td>...</td>\n",
              "      <td>...</td>\n",
              "      <td>...</td>\n",
              "      <td>...</td>\n",
              "      <td>...</td>\n",
              "      <td>...</td>\n",
              "    </tr>\n",
              "    <tr>\n",
              "      <th>775464</th>\n",
              "      <td>485923</td>\n",
              "      <td>518790</td>\n",
              "      <td>Hi,\\nI discovered this game yesterday on my pe...</td>\n",
              "      <td>9.4</td>\n",
              "      <td>Mostly Positive</td>\n",
              "      <td>2</td>\n",
              "    </tr>\n",
              "    <tr>\n",
              "      <th>775465</th>\n",
              "      <td>115291</td>\n",
              "      <td>518790</td>\n",
              "      <td>The Hunter was and is still the most realistic...</td>\n",
              "      <td>35.8</td>\n",
              "      <td>Mostly Positive</td>\n",
              "      <td>4</td>\n",
              "    </tr>\n",
              "    <tr>\n",
              "      <th>775466</th>\n",
              "      <td>136298</td>\n",
              "      <td>518790</td>\n",
              "      <td>Very good!</td>\n",
              "      <td>32.4</td>\n",
              "      <td>Mostly Positive</td>\n",
              "      <td>4</td>\n",
              "    </tr>\n",
              "    <tr>\n",
              "      <th>775467</th>\n",
              "      <td>456632</td>\n",
              "      <td>518790</td>\n",
              "      <td>Update after 60+ hours:\\nI decided to quit the...</td>\n",
              "      <td>96.9</td>\n",
              "      <td>Mostly Positive</td>\n",
              "      <td>5</td>\n",
              "    </tr>\n",
              "    <tr>\n",
              "      <th>775468</th>\n",
              "      <td>255752</td>\n",
              "      <td>518790</td>\n",
              "      <td>I would recommend this to any hunter loving fa...</td>\n",
              "      <td>1.3</td>\n",
              "      <td>Mostly Positive</td>\n",
              "      <td>1</td>\n",
              "    </tr>\n",
              "  </tbody>\n",
              "</table>\n",
              "<p>774237 rows × 6 columns</p>\n",
              "</div>"
            ],
            "text/plain": [
              "        username  product_id  ...        sentiment  rating\n",
              "0          62190      725280  ...         Positive       1\n",
              "1         432248      725280  ...         Positive       1\n",
              "2          26722      328100  ...            Mixed       3\n",
              "3         423209      328100  ...            Mixed       1\n",
              "4         245739      328100  ...            Mixed       1\n",
              "...          ...         ...  ...              ...     ...\n",
              "775464    485923      518790  ...  Mostly Positive       2\n",
              "775465    115291      518790  ...  Mostly Positive       4\n",
              "775466    136298      518790  ...  Mostly Positive       4\n",
              "775467    456632      518790  ...  Mostly Positive       5\n",
              "775468    255752      518790  ...  Mostly Positive       1\n",
              "\n",
              "[774237 rows x 6 columns]"
            ]
          },
          "metadata": {
            "tags": []
          },
          "execution_count": 72
        }
      ]
    },
    {
      "cell_type": "code",
      "metadata": {
        "colab": {
          "base_uri": "https://localhost:8080/",
          "height": 419
        },
        "id": "3VZ3A9Nb260X",
        "outputId": "7ad878b2-2c8f-4a3c-a5a5-d577759f5bb8"
      },
      "source": [
        "data_reviews_modelo = data_reviews_3b[['username','product_id','rating']]\n",
        "data_reviews_modelo"
      ],
      "execution_count": 73,
      "outputs": [
        {
          "output_type": "execute_result",
          "data": {
            "text/html": [
              "<div>\n",
              "<style scoped>\n",
              "    .dataframe tbody tr th:only-of-type {\n",
              "        vertical-align: middle;\n",
              "    }\n",
              "\n",
              "    .dataframe tbody tr th {\n",
              "        vertical-align: top;\n",
              "    }\n",
              "\n",
              "    .dataframe thead th {\n",
              "        text-align: right;\n",
              "    }\n",
              "</style>\n",
              "<table border=\"1\" class=\"dataframe\">\n",
              "  <thead>\n",
              "    <tr style=\"text-align: right;\">\n",
              "      <th></th>\n",
              "      <th>username</th>\n",
              "      <th>product_id</th>\n",
              "      <th>rating</th>\n",
              "    </tr>\n",
              "  </thead>\n",
              "  <tbody>\n",
              "    <tr>\n",
              "      <th>0</th>\n",
              "      <td>62190</td>\n",
              "      <td>725280</td>\n",
              "      <td>1</td>\n",
              "    </tr>\n",
              "    <tr>\n",
              "      <th>1</th>\n",
              "      <td>432248</td>\n",
              "      <td>725280</td>\n",
              "      <td>1</td>\n",
              "    </tr>\n",
              "    <tr>\n",
              "      <th>2</th>\n",
              "      <td>26722</td>\n",
              "      <td>328100</td>\n",
              "      <td>3</td>\n",
              "    </tr>\n",
              "    <tr>\n",
              "      <th>3</th>\n",
              "      <td>423209</td>\n",
              "      <td>328100</td>\n",
              "      <td>1</td>\n",
              "    </tr>\n",
              "    <tr>\n",
              "      <th>4</th>\n",
              "      <td>245739</td>\n",
              "      <td>328100</td>\n",
              "      <td>1</td>\n",
              "    </tr>\n",
              "    <tr>\n",
              "      <th>...</th>\n",
              "      <td>...</td>\n",
              "      <td>...</td>\n",
              "      <td>...</td>\n",
              "    </tr>\n",
              "    <tr>\n",
              "      <th>775464</th>\n",
              "      <td>485923</td>\n",
              "      <td>518790</td>\n",
              "      <td>2</td>\n",
              "    </tr>\n",
              "    <tr>\n",
              "      <th>775465</th>\n",
              "      <td>115291</td>\n",
              "      <td>518790</td>\n",
              "      <td>4</td>\n",
              "    </tr>\n",
              "    <tr>\n",
              "      <th>775466</th>\n",
              "      <td>136298</td>\n",
              "      <td>518790</td>\n",
              "      <td>4</td>\n",
              "    </tr>\n",
              "    <tr>\n",
              "      <th>775467</th>\n",
              "      <td>456632</td>\n",
              "      <td>518790</td>\n",
              "      <td>5</td>\n",
              "    </tr>\n",
              "    <tr>\n",
              "      <th>775468</th>\n",
              "      <td>255752</td>\n",
              "      <td>518790</td>\n",
              "      <td>1</td>\n",
              "    </tr>\n",
              "  </tbody>\n",
              "</table>\n",
              "<p>774237 rows × 3 columns</p>\n",
              "</div>"
            ],
            "text/plain": [
              "        username  product_id  rating\n",
              "0          62190      725280       1\n",
              "1         432248      725280       1\n",
              "2          26722      328100       3\n",
              "3         423209      328100       1\n",
              "4         245739      328100       1\n",
              "...          ...         ...     ...\n",
              "775464    485923      518790       2\n",
              "775465    115291      518790       4\n",
              "775466    136298      518790       4\n",
              "775467    456632      518790       5\n",
              "775468    255752      518790       1\n",
              "\n",
              "[774237 rows x 3 columns]"
            ]
          },
          "metadata": {
            "tags": []
          },
          "execution_count": 73
        }
      ]
    },
    {
      "cell_type": "code",
      "metadata": {
        "colab": {
          "base_uri": "https://localhost:8080/"
        },
        "id": "A12M34B13Vg-",
        "outputId": "fc38704c-b317-4c55-f8b6-3491a852fe56"
      },
      "source": [
        "data_reviews_modelo.dtypes"
      ],
      "execution_count": 74,
      "outputs": [
        {
          "output_type": "execute_result",
          "data": {
            "text/plain": [
              "username      int64\n",
              "product_id    int64\n",
              "rating        int64\n",
              "dtype: object"
            ]
          },
          "metadata": {
            "tags": []
          },
          "execution_count": 74
        }
      ]
    },
    {
      "cell_type": "markdown",
      "metadata": {
        "id": "rxcV_tmS3gvP"
      },
      "source": [
        "Optimizamos las variables"
      ]
    },
    {
      "cell_type": "code",
      "metadata": {
        "id": "XLos-Ftd3XnY"
      },
      "source": [
        "#se optimizan los datatypes\n",
        "data_reviews_modelo['username'] = data_reviews_modelo['username'].astype(np.int32)\n",
        "data_reviews_modelo['product_id'] = data_reviews_modelo['product_id'].astype(np.int32)\n",
        "data_reviews_modelo['rating'] = data_reviews_modelo['rating'].astype(np.int32)"
      ],
      "execution_count": 75,
      "outputs": []
    },
    {
      "cell_type": "code",
      "metadata": {
        "colab": {
          "base_uri": "https://localhost:8080/"
        },
        "id": "XgOFZ0yP4QAX",
        "outputId": "cb43cf8f-2c29-4e31-9a2c-c8bc1663fe5a"
      },
      "source": [
        "data_reviews_modelo.dtypes"
      ],
      "execution_count": 76,
      "outputs": [
        {
          "output_type": "execute_result",
          "data": {
            "text/plain": [
              "username      int32\n",
              "product_id    int32\n",
              "rating        int32\n",
              "dtype: object"
            ]
          },
          "metadata": {
            "tags": []
          },
          "execution_count": 76
        }
      ]
    },
    {
      "cell_type": "code",
      "metadata": {
        "colab": {
          "base_uri": "https://localhost:8080/",
          "height": 419
        },
        "id": "Qx57FF0I6m09",
        "outputId": "21ed2fe8-0562-482b-9b9f-76c9c79c4a7b"
      },
      "source": [
        "data_reviews_modelo"
      ],
      "execution_count": 77,
      "outputs": [
        {
          "output_type": "execute_result",
          "data": {
            "text/html": [
              "<div>\n",
              "<style scoped>\n",
              "    .dataframe tbody tr th:only-of-type {\n",
              "        vertical-align: middle;\n",
              "    }\n",
              "\n",
              "    .dataframe tbody tr th {\n",
              "        vertical-align: top;\n",
              "    }\n",
              "\n",
              "    .dataframe thead th {\n",
              "        text-align: right;\n",
              "    }\n",
              "</style>\n",
              "<table border=\"1\" class=\"dataframe\">\n",
              "  <thead>\n",
              "    <tr style=\"text-align: right;\">\n",
              "      <th></th>\n",
              "      <th>username</th>\n",
              "      <th>product_id</th>\n",
              "      <th>rating</th>\n",
              "    </tr>\n",
              "  </thead>\n",
              "  <tbody>\n",
              "    <tr>\n",
              "      <th>0</th>\n",
              "      <td>62190</td>\n",
              "      <td>725280</td>\n",
              "      <td>1</td>\n",
              "    </tr>\n",
              "    <tr>\n",
              "      <th>1</th>\n",
              "      <td>432248</td>\n",
              "      <td>725280</td>\n",
              "      <td>1</td>\n",
              "    </tr>\n",
              "    <tr>\n",
              "      <th>2</th>\n",
              "      <td>26722</td>\n",
              "      <td>328100</td>\n",
              "      <td>3</td>\n",
              "    </tr>\n",
              "    <tr>\n",
              "      <th>3</th>\n",
              "      <td>423209</td>\n",
              "      <td>328100</td>\n",
              "      <td>1</td>\n",
              "    </tr>\n",
              "    <tr>\n",
              "      <th>4</th>\n",
              "      <td>245739</td>\n",
              "      <td>328100</td>\n",
              "      <td>1</td>\n",
              "    </tr>\n",
              "    <tr>\n",
              "      <th>...</th>\n",
              "      <td>...</td>\n",
              "      <td>...</td>\n",
              "      <td>...</td>\n",
              "    </tr>\n",
              "    <tr>\n",
              "      <th>775464</th>\n",
              "      <td>485923</td>\n",
              "      <td>518790</td>\n",
              "      <td>2</td>\n",
              "    </tr>\n",
              "    <tr>\n",
              "      <th>775465</th>\n",
              "      <td>115291</td>\n",
              "      <td>518790</td>\n",
              "      <td>4</td>\n",
              "    </tr>\n",
              "    <tr>\n",
              "      <th>775466</th>\n",
              "      <td>136298</td>\n",
              "      <td>518790</td>\n",
              "      <td>4</td>\n",
              "    </tr>\n",
              "    <tr>\n",
              "      <th>775467</th>\n",
              "      <td>456632</td>\n",
              "      <td>518790</td>\n",
              "      <td>5</td>\n",
              "    </tr>\n",
              "    <tr>\n",
              "      <th>775468</th>\n",
              "      <td>255752</td>\n",
              "      <td>518790</td>\n",
              "      <td>1</td>\n",
              "    </tr>\n",
              "  </tbody>\n",
              "</table>\n",
              "<p>774237 rows × 3 columns</p>\n",
              "</div>"
            ],
            "text/plain": [
              "        username  product_id  rating\n",
              "0          62190      725280       1\n",
              "1         432248      725280       1\n",
              "2          26722      328100       3\n",
              "3         423209      328100       1\n",
              "4         245739      328100       1\n",
              "...          ...         ...     ...\n",
              "775464    485923      518790       2\n",
              "775465    115291      518790       4\n",
              "775466    136298      518790       4\n",
              "775467    456632      518790       5\n",
              "775468    255752      518790       1\n",
              "\n",
              "[774237 rows x 3 columns]"
            ]
          },
          "metadata": {
            "tags": []
          },
          "execution_count": 77
        }
      ]
    },
    {
      "cell_type": "markdown",
      "metadata": {
        "id": "oGbuJkn24WiC"
      },
      "source": [
        "Tenemos int32 para todos los features, lo cual nos permitirá un mejor procesamiento de datos por menor utilizacion de memoria que si fueran Dtype int64."
      ]
    },
    {
      "cell_type": "markdown",
      "metadata": {
        "id": "5Jn-S5184jPh"
      },
      "source": [
        "- Creamos dos Dataset \n",
        "\n",
        "*  data_reviews_modelo, con username, product_id y rating. \n",
        "*  data_games_modelo, con product_id y title\n",
        "\n",
        "Nos quedaran como base por si queremos hacer analisis diversos en otro notebook."
      ]
    },
    {
      "cell_type": "code",
      "metadata": {
        "id": "qXdKc6hs4kEM"
      },
      "source": [
        "#data_reviews_modelo.to_csv('/content/gdrive/MyDrive/Colab Files/data_reviews_modelo.csv', index= False) # Guardamos el Dataset modificado en un nuevo archivo\n",
        "#data_games_modelo.to_csv('/content/gdrive/MyDrive/Colab Files/data_games_modelo.csv', index= False) # Guardamos el Dataset modificado en un nuevo archivo"
      ],
      "execution_count": 78,
      "outputs": []
    },
    {
      "cell_type": "markdown",
      "metadata": {
        "id": "pTvh6NYq5Ghd"
      },
      "source": [
        "## **Filtro Colaborativo**\n",
        "\n"
      ]
    },
    {
      "cell_type": "markdown",
      "metadata": {
        "id": "0kabGe0o5OtF"
      },
      "source": [
        "Para realizar el sistema de recomendacion con el metodo de filtro colaborativo vamos a usar la libreria Surprise"
      ]
    },
    {
      "cell_type": "markdown",
      "metadata": {
        "id": "cGGiHith5gpN"
      },
      "source": [
        "\n",
        "* Los métodos de filtrado colaborativo construyen un modelo basado en el comportamiento pasado de los usuarios (artículos comprados anteriormente, películas vistas y calificadas, horas de juegos jugados etc.). Este modelo se utiliza luego para predecir elementos en los que el usuario puede estar interesado.\n",
        "- Ventajas: no necesitamos tener información acerca de los productos.\n",
        "- Desventajas: necesitamos construir la matríz de utilidad (que es muy dispersa) y llenarla es costosa en tiempo y dinero.\n",
        "* Para implementarlo, necesitamos un dataset donde cada fila represente un usuario, un juego y la calificación del usuario a ese juego."
      ]
    },
    {
      "cell_type": "markdown",
      "metadata": {
        "id": "1svtQ3Ss5pGS"
      },
      "source": [
        "### **Modelo Benchmarck**"
      ]
    },
    {
      "cell_type": "markdown",
      "metadata": {
        "id": "SCgUUd2teO6G"
      },
      "source": [
        "Crearemos un benchmark que recomiende a los usuarios los juegos basados en su popularidad.\n",
        "\n",
        "Es una recomendación muy sencilla que solo tomará aquellos juegos mas jugados, sin considerar características de ítem, usuarios, ni la interacción entre ellos."
      ]
    },
    {
      "cell_type": "code",
      "metadata": {
        "id": "zIIs4I2ytvaX",
        "colab": {
          "base_uri": "https://localhost:8080/",
          "height": 204
        },
        "outputId": "712cee15-c56a-433f-af7b-78b206d4d518"
      },
      "source": [
        "#data_reviews_modelo.describe()\n",
        "#data_games_modelo\n",
        "\n",
        "data_reviews_modelo.head()"
      ],
      "execution_count": 79,
      "outputs": [
        {
          "output_type": "execute_result",
          "data": {
            "text/html": [
              "<div>\n",
              "<style scoped>\n",
              "    .dataframe tbody tr th:only-of-type {\n",
              "        vertical-align: middle;\n",
              "    }\n",
              "\n",
              "    .dataframe tbody tr th {\n",
              "        vertical-align: top;\n",
              "    }\n",
              "\n",
              "    .dataframe thead th {\n",
              "        text-align: right;\n",
              "    }\n",
              "</style>\n",
              "<table border=\"1\" class=\"dataframe\">\n",
              "  <thead>\n",
              "    <tr style=\"text-align: right;\">\n",
              "      <th></th>\n",
              "      <th>username</th>\n",
              "      <th>product_id</th>\n",
              "      <th>rating</th>\n",
              "    </tr>\n",
              "  </thead>\n",
              "  <tbody>\n",
              "    <tr>\n",
              "      <th>0</th>\n",
              "      <td>62190</td>\n",
              "      <td>725280</td>\n",
              "      <td>1</td>\n",
              "    </tr>\n",
              "    <tr>\n",
              "      <th>1</th>\n",
              "      <td>432248</td>\n",
              "      <td>725280</td>\n",
              "      <td>1</td>\n",
              "    </tr>\n",
              "    <tr>\n",
              "      <th>2</th>\n",
              "      <td>26722</td>\n",
              "      <td>328100</td>\n",
              "      <td>3</td>\n",
              "    </tr>\n",
              "    <tr>\n",
              "      <th>3</th>\n",
              "      <td>423209</td>\n",
              "      <td>328100</td>\n",
              "      <td>1</td>\n",
              "    </tr>\n",
              "    <tr>\n",
              "      <th>4</th>\n",
              "      <td>245739</td>\n",
              "      <td>328100</td>\n",
              "      <td>1</td>\n",
              "    </tr>\n",
              "  </tbody>\n",
              "</table>\n",
              "</div>"
            ],
            "text/plain": [
              "   username  product_id  rating\n",
              "0     62190      725280       1\n",
              "1    432248      725280       1\n",
              "2     26722      328100       3\n",
              "3    423209      328100       1\n",
              "4    245739      328100       1"
            ]
          },
          "metadata": {
            "tags": []
          },
          "execution_count": 79
        }
      ]
    },
    {
      "cell_type": "code",
      "metadata": {
        "id": "1ESvnDA20Ao5"
      },
      "source": [
        "def get_popularity_recommendations(username, top=10):\n",
        "    recomendations = games_jugados[~games_jugados.index.isin(\n",
        "        data_reviews_modelo.query('username==@username').product_id)]\n",
        "    #plot_table(recomendations.head(top))\n",
        "    print(recomendations.head(top))"
      ],
      "execution_count": 80,
      "outputs": []
    },
    {
      "cell_type": "code",
      "metadata": {
        "id": "TMHShf2u1Tjz",
        "colab": {
          "base_uri": "https://localhost:8080/"
        },
        "outputId": "8c368394-f22d-4a6d-fa0c-ec49c447dbaf"
      },
      "source": [
        "get_popularity_recommendations('774237')"
      ],
      "execution_count": 81,
      "outputs": [
        {
          "output_type": "stream",
          "text": [
            "title\n",
            "Team Fortress 2       18334\n",
            "Rust                  10204\n",
            "Borderlands 2          7299\n",
            "Fallout 4              7094\n",
            "Grand Theft Auto V     5962\n",
            "Undertale              5697\n",
            "Warframe               5510\n",
            "Portal 2               5498\n",
            "DayZ                   5494\n",
            "Robocraft              5292\n",
            "Name: product_id, dtype: int64\n"
          ],
          "name": "stdout"
        }
      ]
    },
    {
      "cell_type": "code",
      "metadata": {
        "id": "7EvRxSEno9qC"
      },
      "source": [
        "#games_jugados.head(11)"
      ],
      "execution_count": 82,
      "outputs": []
    },
    {
      "cell_type": "markdown",
      "metadata": {
        "id": "sdwU9ayxXqLI"
      },
      "source": [
        "### **Filtro Colaborativo a partir de descomposición UV**"
      ]
    },
    {
      "cell_type": "code",
      "metadata": {
        "id": "cbgolsMuavxk",
        "colab": {
          "base_uri": "https://localhost:8080/"
        },
        "outputId": "3c8e0963-f531-4dc0-abcd-fc9ca3dc7eda"
      },
      "source": [
        "!pip install surprise"
      ],
      "execution_count": 83,
      "outputs": [
        {
          "output_type": "stream",
          "text": [
            "Requirement already satisfied: surprise in /usr/local/lib/python3.7/dist-packages (0.1)\n",
            "Requirement already satisfied: scikit-surprise in /usr/local/lib/python3.7/dist-packages (from surprise) (1.1.1)\n",
            "Requirement already satisfied: joblib>=0.11 in /usr/local/lib/python3.7/dist-packages (from scikit-surprise->surprise) (1.0.1)\n",
            "Requirement already satisfied: scipy>=1.0.0 in /usr/local/lib/python3.7/dist-packages (from scikit-surprise->surprise) (1.4.1)\n",
            "Requirement already satisfied: six>=1.10.0 in /usr/local/lib/python3.7/dist-packages (from scikit-surprise->surprise) (1.15.0)\n",
            "Requirement already satisfied: numpy>=1.11.2 in /usr/local/lib/python3.7/dist-packages (from scikit-surprise->surprise) (1.19.5)\n"
          ],
          "name": "stdout"
        }
      ]
    },
    {
      "cell_type": "code",
      "metadata": {
        "id": "QqDPQE6r5nRq"
      },
      "source": [
        "from surprise import Dataset\n",
        "from surprise import Reader\n",
        "from surprise.model_selection import train_test_split\n",
        "\n",
        "from surprise import SVD"
      ],
      "execution_count": 84,
      "outputs": []
    },
    {
      "cell_type": "markdown",
      "metadata": {
        "id": "ph7d3NcWqJHx"
      },
      "source": [
        "#### **1. Dataset y Train/test split**"
      ]
    },
    {
      "cell_type": "code",
      "metadata": {
        "id": "Sx1WxHOWarfU",
        "colab": {
          "base_uri": "https://localhost:8080/",
          "height": 204
        },
        "outputId": "23ef7ce4-62d5-4c92-e1e0-ee895ef49591"
      },
      "source": [
        "data_reviews_modelo.head()"
      ],
      "execution_count": 85,
      "outputs": [
        {
          "output_type": "execute_result",
          "data": {
            "text/html": [
              "<div>\n",
              "<style scoped>\n",
              "    .dataframe tbody tr th:only-of-type {\n",
              "        vertical-align: middle;\n",
              "    }\n",
              "\n",
              "    .dataframe tbody tr th {\n",
              "        vertical-align: top;\n",
              "    }\n",
              "\n",
              "    .dataframe thead th {\n",
              "        text-align: right;\n",
              "    }\n",
              "</style>\n",
              "<table border=\"1\" class=\"dataframe\">\n",
              "  <thead>\n",
              "    <tr style=\"text-align: right;\">\n",
              "      <th></th>\n",
              "      <th>username</th>\n",
              "      <th>product_id</th>\n",
              "      <th>rating</th>\n",
              "    </tr>\n",
              "  </thead>\n",
              "  <tbody>\n",
              "    <tr>\n",
              "      <th>0</th>\n",
              "      <td>62190</td>\n",
              "      <td>725280</td>\n",
              "      <td>1</td>\n",
              "    </tr>\n",
              "    <tr>\n",
              "      <th>1</th>\n",
              "      <td>432248</td>\n",
              "      <td>725280</td>\n",
              "      <td>1</td>\n",
              "    </tr>\n",
              "    <tr>\n",
              "      <th>2</th>\n",
              "      <td>26722</td>\n",
              "      <td>328100</td>\n",
              "      <td>3</td>\n",
              "    </tr>\n",
              "    <tr>\n",
              "      <th>3</th>\n",
              "      <td>423209</td>\n",
              "      <td>328100</td>\n",
              "      <td>1</td>\n",
              "    </tr>\n",
              "    <tr>\n",
              "      <th>4</th>\n",
              "      <td>245739</td>\n",
              "      <td>328100</td>\n",
              "      <td>1</td>\n",
              "    </tr>\n",
              "  </tbody>\n",
              "</table>\n",
              "</div>"
            ],
            "text/plain": [
              "   username  product_id  rating\n",
              "0     62190      725280       1\n",
              "1    432248      725280       1\n",
              "2     26722      328100       3\n",
              "3    423209      328100       1\n",
              "4    245739      328100       1"
            ]
          },
          "metadata": {
            "tags": []
          },
          "execution_count": 85
        }
      ]
    },
    {
      "cell_type": "code",
      "metadata": {
        "id": "W6axNLXybDV8",
        "colab": {
          "base_uri": "https://localhost:8080/",
          "height": 235
        },
        "outputId": "120f0cbd-ec38-495e-cd29-64a4f417861b"
      },
      "source": [
        "data_games_modelo.head()"
      ],
      "execution_count": 86,
      "outputs": [
        {
          "output_type": "execute_result",
          "data": {
            "text/html": [
              "<div>\n",
              "<style scoped>\n",
              "    .dataframe tbody tr th:only-of-type {\n",
              "        vertical-align: middle;\n",
              "    }\n",
              "\n",
              "    .dataframe tbody tr th {\n",
              "        vertical-align: top;\n",
              "    }\n",
              "\n",
              "    .dataframe thead th {\n",
              "        text-align: right;\n",
              "    }\n",
              "</style>\n",
              "<table border=\"1\" class=\"dataframe\">\n",
              "  <thead>\n",
              "    <tr style=\"text-align: right;\">\n",
              "      <th></th>\n",
              "      <th>title</th>\n",
              "    </tr>\n",
              "    <tr>\n",
              "      <th>product_id</th>\n",
              "      <th></th>\n",
              "    </tr>\n",
              "  </thead>\n",
              "  <tbody>\n",
              "    <tr>\n",
              "      <th>761140</th>\n",
              "      <td>Lost Summoner Kitty</td>\n",
              "    </tr>\n",
              "    <tr>\n",
              "      <th>643980</th>\n",
              "      <td>Ironbound</td>\n",
              "    </tr>\n",
              "    <tr>\n",
              "      <th>670290</th>\n",
              "      <td>Real Pool 3D - Poolians</td>\n",
              "    </tr>\n",
              "    <tr>\n",
              "      <th>767400</th>\n",
              "      <td>弹炸人2222</td>\n",
              "    </tr>\n",
              "    <tr>\n",
              "      <th>773570</th>\n",
              "      <td>Log Challenge</td>\n",
              "    </tr>\n",
              "  </tbody>\n",
              "</table>\n",
              "</div>"
            ],
            "text/plain": [
              "                              title\n",
              "product_id                         \n",
              "761140          Lost Summoner Kitty\n",
              "643980                    Ironbound\n",
              "670290      Real Pool 3D - Poolians\n",
              "767400                      弹炸人2222\n",
              "773570                Log Challenge"
            ]
          },
          "metadata": {
            "tags": []
          },
          "execution_count": 86
        }
      ]
    },
    {
      "cell_type": "code",
      "metadata": {
        "id": "b4mUo04jpjDm",
        "colab": {
          "base_uri": "https://localhost:8080/"
        },
        "outputId": "8eea6f86-1a24-484a-f13f-c7d5425c8109"
      },
      "source": [
        "print(data_reviews_modelo.shape)\n",
        "print(data_games_modelo.shape)"
      ],
      "execution_count": 87,
      "outputs": [
        {
          "output_type": "stream",
          "text": [
            "(774237, 3)\n",
            "(32131, 1)\n"
          ],
          "name": "stdout"
        }
      ]
    },
    {
      "cell_type": "markdown",
      "metadata": {
        "id": "EKyByvl5pLcg"
      },
      "source": [
        "Llevamos el dataset al formato que le gusta a la biblioteca"
      ]
    },
    {
      "cell_type": "code",
      "metadata": {
        "id": "Cn283ywKbGgS"
      },
      "source": [
        "  reader = Reader()"
      ],
      "execution_count": 88,
      "outputs": []
    },
    {
      "cell_type": "markdown",
      "metadata": {
        "id": "Cn4Rl3fUpTgc"
      },
      "source": [
        "Luego, creamos el Dataset de Surprise usando Dataset.load_from_df"
      ]
    },
    {
      "cell_type": "code",
      "metadata": {
        "id": "2uWpLM89pUFH"
      },
      "source": [
        "N_filas = 100000 # Limitamos el dataset a N_filas\n",
        "\n",
        "data = Dataset.load_from_df(data_reviews_modelo[['username', 'product_id', 'rating']][:N_filas], reader)"
      ],
      "execution_count": 89,
      "outputs": []
    },
    {
      "cell_type": "code",
      "metadata": {
        "id": "aWXZrtraqAlz"
      },
      "source": [
        "trainset, testset = train_test_split(data, test_size=.25)"
      ],
      "execution_count": 90,
      "outputs": []
    },
    {
      "cell_type": "markdown",
      "metadata": {
        "id": "Vm_9QoAYqQUI"
      },
      "source": [
        "####  **2. Entrenamiento**"
      ]
    },
    {
      "cell_type": "markdown",
      "metadata": {
        "id": "YT2z-IsxqZVg"
      },
      "source": [
        "Vamos a entrenar un algoritmo SVD."
      ]
    },
    {
      "cell_type": "code",
      "metadata": {
        "id": "XOsz3d2ZqBSS"
      },
      "source": [
        "algo = SVD()"
      ],
      "execution_count": 91,
      "outputs": []
    },
    {
      "cell_type": "markdown",
      "metadata": {
        "id": "vWSUt9C1qfkc"
      },
      "source": [
        "Entrenamos sobre el trainset"
      ]
    },
    {
      "cell_type": "code",
      "metadata": {
        "id": "13AvmAq8qf7r",
        "colab": {
          "base_uri": "https://localhost:8080/"
        },
        "outputId": "e953b836-b163-4b55-def4-da20305b09c5"
      },
      "source": [
        "algo.fit(trainset)"
      ],
      "execution_count": 92,
      "outputs": [
        {
          "output_type": "execute_result",
          "data": {
            "text/plain": [
              "<surprise.prediction_algorithms.matrix_factorization.SVD at 0x7f7d7162b710>"
            ]
          },
          "metadata": {
            "tags": []
          },
          "execution_count": 92
        }
      ]
    },
    {
      "cell_type": "markdown",
      "metadata": {
        "id": "vL9tQlJTqjZp"
      },
      "source": [
        "Y predecimos sobre el testset."
      ]
    },
    {
      "cell_type": "code",
      "metadata": {
        "id": "myEQoWnRqhYi"
      },
      "source": [
        "predictions = algo.test(testset)"
      ],
      "execution_count": 93,
      "outputs": []
    },
    {
      "cell_type": "markdown",
      "metadata": {
        "id": "80w0l9NoqpJU"
      },
      "source": [
        "Explorar las característica de predictions y alguno de sus elementos"
      ]
    },
    {
      "cell_type": "code",
      "metadata": {
        "id": "RqnlgKoqqnVT",
        "colab": {
          "base_uri": "https://localhost:8080/"
        },
        "outputId": "e4be2bf9-0891-45a4-f9a8-58e5466ff6f4"
      },
      "source": [
        "predictions[1]"
      ],
      "execution_count": 94,
      "outputs": [
        {
          "output_type": "execute_result",
          "data": {
            "text/plain": [
              "Prediction(uid=516467, iid=38410, r_ui=3.0, est=3.1191277544553895, details={'was_impossible': False})"
            ]
          },
          "metadata": {
            "tags": []
          },
          "execution_count": 94
        }
      ]
    },
    {
      "cell_type": "markdown",
      "metadata": {
        "id": "glKKYd2VqwUR"
      },
      "source": [
        "En cambio, si queremos predecir para un usuario y una película en particular, usamos la función predict"
      ]
    },
    {
      "cell_type": "code",
      "metadata": {
        "id": "p7BOaCfpqq_A",
        "colab": {
          "base_uri": "https://localhost:8080/"
        },
        "outputId": "30b78b25-1037-4ea1-c698-b26415913d25"
      },
      "source": [
        "algo.predict(219368\t\t, 725280)  #62203"
      ],
      "execution_count": 95,
      "outputs": [
        {
          "output_type": "execute_result",
          "data": {
            "text/plain": [
              "Prediction(uid=219368, iid=725280, r_ui=None, est=2.882611519648399, details={'was_impossible': False})"
            ]
          },
          "metadata": {
            "tags": []
          },
          "execution_count": 95
        }
      ]
    },
    {
      "cell_type": "markdown",
      "metadata": {
        "id": "iVRiggQvrGi_"
      },
      "source": [
        "Exploremos un usuario, veamos cuáles juegos le gustaron  cuáles les recomienda el sistema.\n",
        "\n",
        "Juegos que le gustaron"
      ]
    },
    {
      "cell_type": "code",
      "metadata": {
        "id": "zQusO0lTqyqL",
        "colab": {
          "base_uri": "https://localhost:8080/",
          "height": 421
        },
        "outputId": "6e2c7956-bf19-40d6-ba6a-575c098a74bc"
      },
      "source": [
        "usuario = 219368\n",
        "rating = 1   # le pedimos juegos a las que haya puesto al menos 1 en raking, porque se supone que ya lo jugó\n",
        "data_user = data_reviews_modelo[(data_reviews_modelo['username'] == usuario) & (data_reviews_modelo['rating'] >= rating)]\n",
        "data_user = data_user.reset_index(drop=True)\n",
        "data_user['title'] = data_games_modelo['title'].loc[data_user.product_id].values\n",
        "data_user"
      ],
      "execution_count": 96,
      "outputs": [
        {
          "output_type": "execute_result",
          "data": {
            "text/html": [
              "<div>\n",
              "<style scoped>\n",
              "    .dataframe tbody tr th:only-of-type {\n",
              "        vertical-align: middle;\n",
              "    }\n",
              "\n",
              "    .dataframe tbody tr th {\n",
              "        vertical-align: top;\n",
              "    }\n",
              "\n",
              "    .dataframe thead th {\n",
              "        text-align: right;\n",
              "    }\n",
              "</style>\n",
              "<table border=\"1\" class=\"dataframe\">\n",
              "  <thead>\n",
              "    <tr style=\"text-align: right;\">\n",
              "      <th></th>\n",
              "      <th>username</th>\n",
              "      <th>product_id</th>\n",
              "      <th>rating</th>\n",
              "      <th>title</th>\n",
              "    </tr>\n",
              "  </thead>\n",
              "  <tbody>\n",
              "    <tr>\n",
              "      <th>0</th>\n",
              "      <td>219368</td>\n",
              "      <td>631920</td>\n",
              "      <td>4</td>\n",
              "      <td>Somewhere on Zibylon</td>\n",
              "    </tr>\n",
              "    <tr>\n",
              "      <th>1</th>\n",
              "      <td>219368</td>\n",
              "      <td>261640</td>\n",
              "      <td>5</td>\n",
              "      <td>Borderlands: The Pre-Sequel</td>\n",
              "    </tr>\n",
              "    <tr>\n",
              "      <th>2</th>\n",
              "      <td>219368</td>\n",
              "      <td>104900</td>\n",
              "      <td>2</td>\n",
              "      <td>ORION: Prelude</td>\n",
              "    </tr>\n",
              "    <tr>\n",
              "      <th>3</th>\n",
              "      <td>219368</td>\n",
              "      <td>362810</td>\n",
              "      <td>2</td>\n",
              "      <td>Fighties</td>\n",
              "    </tr>\n",
              "    <tr>\n",
              "      <th>4</th>\n",
              "      <td>219368</td>\n",
              "      <td>207610</td>\n",
              "      <td>3</td>\n",
              "      <td>The Walking Dead</td>\n",
              "    </tr>\n",
              "    <tr>\n",
              "      <th>5</th>\n",
              "      <td>219368</td>\n",
              "      <td>245170</td>\n",
              "      <td>3</td>\n",
              "      <td>Skullgirls</td>\n",
              "    </tr>\n",
              "    <tr>\n",
              "      <th>6</th>\n",
              "      <td>219368</td>\n",
              "      <td>521330</td>\n",
              "      <td>2</td>\n",
              "      <td>Tuebor: I Will Defend</td>\n",
              "    </tr>\n",
              "    <tr>\n",
              "      <th>7</th>\n",
              "      <td>219368</td>\n",
              "      <td>250460</td>\n",
              "      <td>1</td>\n",
              "      <td>Bridge Constructor</td>\n",
              "    </tr>\n",
              "    <tr>\n",
              "      <th>8</th>\n",
              "      <td>219368</td>\n",
              "      <td>55110</td>\n",
              "      <td>2</td>\n",
              "      <td>Red Faction®: Armageddon™</td>\n",
              "    </tr>\n",
              "    <tr>\n",
              "      <th>9</th>\n",
              "      <td>219368</td>\n",
              "      <td>8190</td>\n",
              "      <td>1</td>\n",
              "      <td>Just Cause 2</td>\n",
              "    </tr>\n",
              "    <tr>\n",
              "      <th>10</th>\n",
              "      <td>219368</td>\n",
              "      <td>346140</td>\n",
              "      <td>2</td>\n",
              "      <td>Hidden Object Bundle 5 in 1</td>\n",
              "    </tr>\n",
              "    <tr>\n",
              "      <th>11</th>\n",
              "      <td>219368</td>\n",
              "      <td>208650</td>\n",
              "      <td>4</td>\n",
              "      <td>Batman™: Arkham Knight</td>\n",
              "    </tr>\n",
              "  </tbody>\n",
              "</table>\n",
              "</div>"
            ],
            "text/plain": [
              "    username  product_id  rating                        title\n",
              "0     219368      631920       4         Somewhere on Zibylon\n",
              "1     219368      261640       5  Borderlands: The Pre-Sequel\n",
              "2     219368      104900       2               ORION: Prelude\n",
              "3     219368      362810       2                     Fighties\n",
              "4     219368      207610       3             The Walking Dead\n",
              "5     219368      245170       3                   Skullgirls\n",
              "6     219368      521330       2        Tuebor: I Will Defend\n",
              "7     219368      250460       1           Bridge Constructor\n",
              "8     219368       55110       2    Red Faction®: Armageddon™\n",
              "9     219368        8190       1                 Just Cause 2\n",
              "10    219368      346140       2  Hidden Object Bundle 5 in 1\n",
              "11    219368      208650       4       Batman™: Arkham Knight"
            ]
          },
          "metadata": {
            "tags": []
          },
          "execution_count": 96
        }
      ]
    },
    {
      "cell_type": "markdown",
      "metadata": {
        "id": "PxsLks_dsaIO"
      },
      "source": [
        "Creamos donde vamos a guardar las recomendaciones"
      ]
    },
    {
      "cell_type": "code",
      "metadata": {
        "id": "69uClvG2sahM",
        "colab": {
          "base_uri": "https://localhost:8080/",
          "height": 252
        },
        "outputId": "5266f0c1-b709-40c9-f08f-9fe485bac8a3"
      },
      "source": [
        "recomendaciones_usuario = data_games_modelo.iloc[:32132].copy()\n",
        "print(recomendaciones_usuario.shape)\n",
        "recomendaciones_usuario.head()"
      ],
      "execution_count": 97,
      "outputs": [
        {
          "output_type": "stream",
          "text": [
            "(32131, 1)\n"
          ],
          "name": "stdout"
        },
        {
          "output_type": "execute_result",
          "data": {
            "text/html": [
              "<div>\n",
              "<style scoped>\n",
              "    .dataframe tbody tr th:only-of-type {\n",
              "        vertical-align: middle;\n",
              "    }\n",
              "\n",
              "    .dataframe tbody tr th {\n",
              "        vertical-align: top;\n",
              "    }\n",
              "\n",
              "    .dataframe thead th {\n",
              "        text-align: right;\n",
              "    }\n",
              "</style>\n",
              "<table border=\"1\" class=\"dataframe\">\n",
              "  <thead>\n",
              "    <tr style=\"text-align: right;\">\n",
              "      <th></th>\n",
              "      <th>title</th>\n",
              "    </tr>\n",
              "    <tr>\n",
              "      <th>product_id</th>\n",
              "      <th></th>\n",
              "    </tr>\n",
              "  </thead>\n",
              "  <tbody>\n",
              "    <tr>\n",
              "      <th>761140</th>\n",
              "      <td>Lost Summoner Kitty</td>\n",
              "    </tr>\n",
              "    <tr>\n",
              "      <th>643980</th>\n",
              "      <td>Ironbound</td>\n",
              "    </tr>\n",
              "    <tr>\n",
              "      <th>670290</th>\n",
              "      <td>Real Pool 3D - Poolians</td>\n",
              "    </tr>\n",
              "    <tr>\n",
              "      <th>767400</th>\n",
              "      <td>弹炸人2222</td>\n",
              "    </tr>\n",
              "    <tr>\n",
              "      <th>773570</th>\n",
              "      <td>Log Challenge</td>\n",
              "    </tr>\n",
              "  </tbody>\n",
              "</table>\n",
              "</div>"
            ],
            "text/plain": [
              "                              title\n",
              "product_id                         \n",
              "761140          Lost Summoner Kitty\n",
              "643980                    Ironbound\n",
              "670290      Real Pool 3D - Poolians\n",
              "767400                      弹炸人2222\n",
              "773570                Log Challenge"
            ]
          },
          "metadata": {
            "tags": []
          },
          "execution_count": 97
        }
      ]
    },
    {
      "cell_type": "markdown",
      "metadata": {
        "id": "LPk8awYns-1m"
      },
      "source": [
        "Sacamos del dataframe todos los juegos que ya sabemos que jugó"
      ]
    },
    {
      "cell_type": "code",
      "metadata": {
        "id": "eRvWVDgEs_MP",
        "colab": {
          "base_uri": "https://localhost:8080/",
          "height": 438
        },
        "outputId": "3be9a0a3-1108-436c-993f-e597ab40451d"
      },
      "source": [
        "usuario_jugados = data_reviews_modelo[data_reviews_modelo['username'] == usuario]\n",
        "print(usuario_jugados.shape)\n",
        "usuario_jugados.head(12)"
      ],
      "execution_count": 98,
      "outputs": [
        {
          "output_type": "stream",
          "text": [
            "(12, 3)\n"
          ],
          "name": "stdout"
        },
        {
          "output_type": "execute_result",
          "data": {
            "text/html": [
              "<div>\n",
              "<style scoped>\n",
              "    .dataframe tbody tr th:only-of-type {\n",
              "        vertical-align: middle;\n",
              "    }\n",
              "\n",
              "    .dataframe tbody tr th {\n",
              "        vertical-align: top;\n",
              "    }\n",
              "\n",
              "    .dataframe thead th {\n",
              "        text-align: right;\n",
              "    }\n",
              "</style>\n",
              "<table border=\"1\" class=\"dataframe\">\n",
              "  <thead>\n",
              "    <tr style=\"text-align: right;\">\n",
              "      <th></th>\n",
              "      <th>username</th>\n",
              "      <th>product_id</th>\n",
              "      <th>rating</th>\n",
              "    </tr>\n",
              "  </thead>\n",
              "  <tbody>\n",
              "    <tr>\n",
              "      <th>11</th>\n",
              "      <td>219368</td>\n",
              "      <td>631920</td>\n",
              "      <td>4</td>\n",
              "    </tr>\n",
              "    <tr>\n",
              "      <th>104065</th>\n",
              "      <td>219368</td>\n",
              "      <td>261640</td>\n",
              "      <td>5</td>\n",
              "    </tr>\n",
              "    <tr>\n",
              "      <th>112597</th>\n",
              "      <td>219368</td>\n",
              "      <td>104900</td>\n",
              "      <td>2</td>\n",
              "    </tr>\n",
              "    <tr>\n",
              "      <th>165269</th>\n",
              "      <td>219368</td>\n",
              "      <td>362810</td>\n",
              "      <td>2</td>\n",
              "    </tr>\n",
              "    <tr>\n",
              "      <th>212215</th>\n",
              "      <td>219368</td>\n",
              "      <td>207610</td>\n",
              "      <td>3</td>\n",
              "    </tr>\n",
              "    <tr>\n",
              "      <th>248342</th>\n",
              "      <td>219368</td>\n",
              "      <td>245170</td>\n",
              "      <td>3</td>\n",
              "    </tr>\n",
              "    <tr>\n",
              "      <th>253951</th>\n",
              "      <td>219368</td>\n",
              "      <td>521330</td>\n",
              "      <td>2</td>\n",
              "    </tr>\n",
              "    <tr>\n",
              "      <th>292172</th>\n",
              "      <td>219368</td>\n",
              "      <td>250460</td>\n",
              "      <td>1</td>\n",
              "    </tr>\n",
              "    <tr>\n",
              "      <th>427806</th>\n",
              "      <td>219368</td>\n",
              "      <td>55110</td>\n",
              "      <td>2</td>\n",
              "    </tr>\n",
              "    <tr>\n",
              "      <th>440180</th>\n",
              "      <td>219368</td>\n",
              "      <td>8190</td>\n",
              "      <td>1</td>\n",
              "    </tr>\n",
              "    <tr>\n",
              "      <th>520319</th>\n",
              "      <td>219368</td>\n",
              "      <td>346140</td>\n",
              "      <td>2</td>\n",
              "    </tr>\n",
              "    <tr>\n",
              "      <th>653968</th>\n",
              "      <td>219368</td>\n",
              "      <td>208650</td>\n",
              "      <td>4</td>\n",
              "    </tr>\n",
              "  </tbody>\n",
              "</table>\n",
              "</div>"
            ],
            "text/plain": [
              "        username  product_id  rating\n",
              "11        219368      631920       4\n",
              "104065    219368      261640       5\n",
              "112597    219368      104900       2\n",
              "165269    219368      362810       2\n",
              "212215    219368      207610       3\n",
              "248342    219368      245170       3\n",
              "253951    219368      521330       2\n",
              "292172    219368      250460       1\n",
              "427806    219368       55110       2\n",
              "440180    219368        8190       1\n",
              "520319    219368      346140       2\n",
              "653968    219368      208650       4"
            ]
          },
          "metadata": {
            "tags": []
          },
          "execution_count": 98
        }
      ]
    },
    {
      "cell_type": "code",
      "metadata": {
        "id": "s2aTEH37tQU7",
        "colab": {
          "base_uri": "https://localhost:8080/",
          "height": 204
        },
        "outputId": "d502c023-de2b-4d75-d9a9-f21171c7f026"
      },
      "source": [
        "recomendaciones_usuario.drop(usuario_jugados.product_id, inplace = True)\n",
        "recomendaciones_usuario = recomendaciones_usuario.reset_index()\n",
        "recomendaciones_usuario.head()"
      ],
      "execution_count": 99,
      "outputs": [
        {
          "output_type": "execute_result",
          "data": {
            "text/html": [
              "<div>\n",
              "<style scoped>\n",
              "    .dataframe tbody tr th:only-of-type {\n",
              "        vertical-align: middle;\n",
              "    }\n",
              "\n",
              "    .dataframe tbody tr th {\n",
              "        vertical-align: top;\n",
              "    }\n",
              "\n",
              "    .dataframe thead th {\n",
              "        text-align: right;\n",
              "    }\n",
              "</style>\n",
              "<table border=\"1\" class=\"dataframe\">\n",
              "  <thead>\n",
              "    <tr style=\"text-align: right;\">\n",
              "      <th></th>\n",
              "      <th>product_id</th>\n",
              "      <th>title</th>\n",
              "    </tr>\n",
              "  </thead>\n",
              "  <tbody>\n",
              "    <tr>\n",
              "      <th>0</th>\n",
              "      <td>761140</td>\n",
              "      <td>Lost Summoner Kitty</td>\n",
              "    </tr>\n",
              "    <tr>\n",
              "      <th>1</th>\n",
              "      <td>643980</td>\n",
              "      <td>Ironbound</td>\n",
              "    </tr>\n",
              "    <tr>\n",
              "      <th>2</th>\n",
              "      <td>670290</td>\n",
              "      <td>Real Pool 3D - Poolians</td>\n",
              "    </tr>\n",
              "    <tr>\n",
              "      <th>3</th>\n",
              "      <td>767400</td>\n",
              "      <td>弹炸人2222</td>\n",
              "    </tr>\n",
              "    <tr>\n",
              "      <th>4</th>\n",
              "      <td>773570</td>\n",
              "      <td>Log Challenge</td>\n",
              "    </tr>\n",
              "  </tbody>\n",
              "</table>\n",
              "</div>"
            ],
            "text/plain": [
              "   product_id                    title\n",
              "0      761140      Lost Summoner Kitty\n",
              "1      643980                Ironbound\n",
              "2      670290  Real Pool 3D - Poolians\n",
              "3      767400                  弹炸人2222\n",
              "4      773570            Log Challenge"
            ]
          },
          "metadata": {
            "tags": []
          },
          "execution_count": 99
        }
      ]
    },
    {
      "cell_type": "markdown",
      "metadata": {
        "id": "vH8ufLR8ti2z"
      },
      "source": [
        "Y hacemos las recomendaciones"
      ]
    },
    {
      "cell_type": "code",
      "metadata": {
        "id": "te96g4zXtgXF"
      },
      "source": [
        "recomendaciones_usuario['Estimate_Score'] = recomendaciones_usuario['product_id'].apply(lambda x: algo.predict(usuario, x).est)"
      ],
      "execution_count": 100,
      "outputs": []
    },
    {
      "cell_type": "code",
      "metadata": {
        "id": "qDWxpzZ8tsvQ",
        "colab": {
          "base_uri": "https://localhost:8080/"
        },
        "outputId": "645274d8-b746-496c-b8dd-a4c928a10299"
      },
      "source": [
        "recomendaciones_usuario = recomendaciones_usuario.sort_values('Estimate_Score', ascending=False)\n",
        "print(recomendaciones_usuario.head(10))"
      ],
      "execution_count": 101,
      "outputs": [
        {
          "output_type": "stream",
          "text": [
            "       product_id                                       title  Estimate_Score\n",
            "26947      271590                          Grand Theft Auto V             4.9\n",
            "387         48700                  Mount &amp; Blade: Warband             4.9\n",
            "841          9900                            Star Trek Online             4.6\n",
            "23226      281990                                   Stellaris             4.5\n",
            "4939       342200                         MechWarrior Online™             4.5\n",
            "28190      314980                      Supreme Ruler Ultimate             4.2\n",
            "20599      415200                          Motorsport Manager             4.2\n",
            "29194      251060                         Wargame: Red Dragon             4.2\n",
            "29062      228180  Action! - Gameplay Recording and Streaming             4.2\n",
            "24121      224500                                    Gnomoria             4.1\n"
          ],
          "name": "stdout"
        }
      ]
    },
    {
      "cell_type": "markdown",
      "metadata": {
        "id": "PHBbC2pUoahS"
      },
      "source": [
        "Como se puede observar la lista de recomendación no coincide con el benchmark anteriormente como era de esperarse, ya que nuestro benchmark solo iba a recomendar los juegos mas populares a todos los usuarios, sin tomar ningún otro factor en cuenta."
      ]
    },
    {
      "cell_type": "markdown",
      "metadata": {
        "id": "QwAUEqGtt9eO"
      },
      "source": [
        "####  **3. Evaluación**"
      ]
    },
    {
      "cell_type": "markdown",
      "metadata": {
        "id": "qy8ZwBn2t6WW"
      },
      "source": [
        "Para el conjunto de testset, evaluamos el error RMSE entre las predicciones y las verdaderas calificaciones que le habían dado a los juegos. "
      ]
    },
    {
      "cell_type": "code",
      "metadata": {
        "id": "PrylwZD3uFHD",
        "colab": {
          "base_uri": "https://localhost:8080/"
        },
        "outputId": "54dfcc68-928d-4708-e7d9-cad5a304f69c"
      },
      "source": [
        "from surprise import accuracy\n",
        "\n",
        "accuracy.rmse(predictions)"
      ],
      "execution_count": 102,
      "outputs": [
        {
          "output_type": "stream",
          "text": [
            "RMSE: 1.1253\n"
          ],
          "name": "stdout"
        },
        {
          "output_type": "execute_result",
          "data": {
            "text/plain": [
              "1.1253370383205987"
            ]
          },
          "metadata": {
            "tags": []
          },
          "execution_count": 102
        }
      ]
    },
    {
      "cell_type": "markdown",
      "metadata": {
        "id": "27ysRRe8ufRn"
      },
      "source": [
        "####  **4. Optimización**"
      ]
    },
    {
      "cell_type": "markdown",
      "metadata": {
        "id": "F5_6PV90unAW"
      },
      "source": [
        "Ejercicio: hacer un gráfico del desempeño del modelo en función del número de factores del SVD"
      ]
    },
    {
      "cell_type": "code",
      "metadata": {
        "colab": {
          "base_uri": "https://localhost:8080/"
        },
        "id": "2-y0xWBouHbf",
        "outputId": "55768d90-026b-4dde-c09d-5dcfe6b83b86"
      },
      "source": [
        "from surprise.model_selection import cross_validate\n",
        "\n",
        "rmse_test_means = []\n",
        "factores = [1,2,4,8,16,32,64,128,256]\n",
        "\n",
        "for factor in factores:\n",
        "    print(f'\\nNúmero de Factores: {factor}')\n",
        "    algo = SVD(n_factors=factor)\n",
        "    cv = cross_validate(algo, data, measures=['RMSE'], cv = 3, verbose=True)\n",
        "    rmse_test_means.append(np.mean(cv['test_rmse']))"
      ],
      "execution_count": 103,
      "outputs": [
        {
          "output_type": "stream",
          "text": [
            "\n",
            "Número de Factores: 1\n",
            "Evaluating RMSE of algorithm SVD on 3 split(s).\n",
            "\n",
            "                  Fold 1  Fold 2  Fold 3  Mean    Std     \n",
            "RMSE (testset)    1.1243  1.1265  1.1233  1.1247  0.0013  \n",
            "Fit time          1.32    1.25    1.27    1.28    0.03    \n",
            "Test time         0.38    0.34    0.25    0.32    0.05    \n",
            "\n",
            "Número de Factores: 2\n",
            "Evaluating RMSE of algorithm SVD on 3 split(s).\n",
            "\n",
            "                  Fold 1  Fold 2  Fold 3  Mean    Std     \n",
            "RMSE (testset)    1.1316  1.1231  1.1221  1.1256  0.0043  \n",
            "Fit time          1.35    1.31    1.32    1.33    0.02    \n",
            "Test time         0.41    0.22    0.38    0.33    0.08    \n",
            "\n",
            "Número de Factores: 4\n",
            "Evaluating RMSE of algorithm SVD on 3 split(s).\n",
            "\n",
            "                  Fold 1  Fold 2  Fold 3  Mean    Std     \n",
            "RMSE (testset)    1.1235  1.1314  1.1201  1.1250  0.0048  \n",
            "Fit time          1.38    1.30    1.32    1.33    0.04    \n",
            "Test time         0.22    0.21    0.21    0.21    0.01    \n",
            "\n",
            "Número de Factores: 8\n",
            "Evaluating RMSE of algorithm SVD on 3 split(s).\n",
            "\n",
            "                  Fold 1  Fold 2  Fold 3  Mean    Std     \n",
            "RMSE (testset)    1.1264  1.1256  1.1238  1.1253  0.0011  \n",
            "Fit time          1.42    1.37    1.39    1.39    0.02    \n",
            "Test time         0.21    0.20    0.25    0.22    0.02    \n",
            "\n",
            "Número de Factores: 16\n",
            "Evaluating RMSE of algorithm SVD on 3 split(s).\n",
            "\n",
            "                  Fold 1  Fold 2  Fold 3  Mean    Std     \n",
            "RMSE (testset)    1.1248  1.1247  1.1246  1.1247  0.0001  \n",
            "Fit time          1.71    1.68    1.70    1.70    0.01    \n",
            "Test time         0.23    0.37    0.38    0.32    0.07    \n",
            "\n",
            "Número de Factores: 32\n",
            "Evaluating RMSE of algorithm SVD on 3 split(s).\n",
            "\n",
            "                  Fold 1  Fold 2  Fold 3  Mean    Std     \n",
            "RMSE (testset)    1.1219  1.1259  1.1254  1.1244  0.0018  \n",
            "Fit time          2.20    2.14    2.17    2.17    0.02    \n",
            "Test time         0.45    0.43    0.42    0.43    0.01    \n",
            "\n",
            "Número de Factores: 64\n",
            "Evaluating RMSE of algorithm SVD on 3 split(s).\n",
            "\n",
            "                  Fold 1  Fold 2  Fold 3  Mean    Std     \n",
            "RMSE (testset)    1.1250  1.1235  1.1277  1.1254  0.0017  \n",
            "Fit time          3.08    3.00    3.00    3.03    0.04    \n",
            "Test time         0.40    0.47    0.38    0.42    0.04    \n",
            "\n",
            "Número de Factores: 128\n",
            "Evaluating RMSE of algorithm SVD on 3 split(s).\n",
            "\n",
            "                  Fold 1  Fold 2  Fold 3  Mean    Std     \n",
            "RMSE (testset)    1.1252  1.1262  1.1306  1.1274  0.0023  \n",
            "Fit time          4.61    4.65    4.86    4.71    0.11    \n",
            "Test time         0.28    0.23    0.27    0.26    0.02    \n",
            "\n",
            "Número de Factores: 256\n",
            "Evaluating RMSE of algorithm SVD on 3 split(s).\n",
            "\n",
            "                  Fold 1  Fold 2  Fold 3  Mean    Std     \n",
            "RMSE (testset)    1.1333  1.1253  1.1273  1.1286  0.0034  \n",
            "Fit time          8.20    8.37    8.04    8.20    0.14    \n",
            "Test time         0.30    0.25    0.23    0.26    0.03    \n"
          ],
          "name": "stdout"
        }
      ]
    },
    {
      "cell_type": "code",
      "metadata": {
        "id": "pKVhulWVuzUO",
        "colab": {
          "base_uri": "https://localhost:8080/",
          "height": 285
        },
        "outputId": "a620fc5c-4cdd-46bd-aa61-9aa9e8d46d73"
      },
      "source": [
        "plt.scatter(factores, rmse_test_means)\n",
        "plt.xlabel('Numero de factores')\n",
        "plt.ylabel('Error RMSE')\n",
        "plt.show()"
      ],
      "execution_count": 104,
      "outputs": [
        {
          "output_type": "display_data",
          "data": {
            "image/png": "[encoded data removed]",
            "text/plain": [
              "<Figure size 432x288 with 1 Axes>"
            ]
          },
          "metadata": {
            "tags": []
          }
        }
      ]
    },
    {
      "cell_type": "markdown",
      "metadata": {
        "id": "Tf4ittCxAmS-"
      },
      "source": [
        "**Parámetros a optimizar:**\n",
        "\n",
        "n_factors : el número de factores.\n",
        "\n",
        "n_epochs : el número de iteraciones del descenso por gradiente estocástico.\n",
        "\n",
        "lr_all : la tasa de aprendizaje de todos los parámetros.\n",
        "\n",
        "reg_all : término de regularización para todos los parámetros."
      ]
    },
    {
      "cell_type": "code",
      "metadata": {
        "id": "vIU3jSVKu9Ap"
      },
      "source": [
        "#from surprise.model_selection import GridSearchCV\n",
        "\n",
        "#param_grid = {'n_factors': [5,50,100],'n_epochs': [5, 10,20], 'lr_all': [0.001, 0.002, 0.005],\n",
        "#              'reg_all': [0.002, 0.02, 0.2]}\n",
        "#gs = GridSearchCV(SVD, param_grid, measures=['rmse'], cv=3, n_jobs = -1)\n",
        "#gs.fit(data)"
      ],
      "execution_count": 105,
      "outputs": []
    },
    {
      "cell_type": "code",
      "metadata": {
        "id": "gGTvrvCFvHVK"
      },
      "source": [
        "#print(gs.best_score['rmse'])\n",
        "#print(gs.best_params['rmse'])"
      ],
      "execution_count": 106,
      "outputs": []
    },
    {
      "cell_type": "markdown",
      "metadata": {
        "id": "lhiuU31Az74l"
      },
      "source": [
        "1.1245104642094061\n",
        "\n",
        "\n",
        "{'n_factors': 5, 'n_epochs': 20, 'lr_all': 0.005, 'reg_all': 0.02}"
      ]
    },
    {
      "cell_type": "code",
      "metadata": {
        "id": "mtnZgPg9z4ob",
        "colab": {
          "base_uri": "https://localhost:8080/"
        },
        "outputId": "dd2e675a-c520-46cd-85db-75ed120122a6"
      },
      "source": [
        "algo_2 = SVD(n_factors=5, n_epochs=20, lr_all=0.005, reg_all= 0.02)\n",
        "algo_2.fit(trainset)\n",
        "predictions_2 = algo_2.test(testset)\n",
        "accuracy.rmse(predictions_2)"
      ],
      "execution_count": 107,
      "outputs": [
        {
          "output_type": "stream",
          "text": [
            "RMSE: 1.1242\n"
          ],
          "name": "stdout"
        },
        {
          "output_type": "execute_result",
          "data": {
            "text/plain": [
              "1.124169539843268"
            ]
          },
          "metadata": {
            "tags": []
          },
          "execution_count": 107
        }
      ]
    },
    {
      "cell_type": "markdown",
      "metadata": {
        "id": "C1S6RAskbCTJ"
      },
      "source": [
        "Comparando las métricas, se observa que se obtiene una variación muy mínima al optimizar los datos.\n",
        "\n",
        "*  RMSE:            1.1151\n",
        "*  RMSE Optimizado: 1.1126"
      ]
    },
    {
      "cell_type": "markdown",
      "metadata": {
        "id": "YyOYcKRyAwNS"
      },
      "source": [
        "**Conclusion**"
      ]
    },
    {
      "cell_type": "markdown",
      "metadata": {
        "id": "Gqdhj8XtDQZl"
      },
      "source": [
        "Se puede considerar un RMSE de 1.1126 un buen resultado para un sistema de recomendacion, sin embargo puede que en la práctica no tenga muy buen resultado recomendando. Se debe emprolijar la variables horas para poder tener una mayor confianza, por ejemplo,  tener en cuenta la fecha que compro el juego cada persona con respecto a las horas jugadas, ya que no es lo mismo: un jugador que compró el juego hace un mes que hace un año."
      ]
    },
    {
      "cell_type": "markdown",
      "metadata": {
        "id": "R_WGVpF3XP_F"
      },
      "source": [
        "## **Para pensar e investigar**"
      ]
    },
    {
      "cell_type": "markdown",
      "metadata": {
        "id": "TfSPCf7NOWKw"
      },
      "source": [
        "- Objetivo y Metodología \n",
        "\n",
        "\n",
        "\n",
        "> Trabajar con la variable **text**, la cual contiene la review de cada usuario, haciendo uso de Procesamiento de Lenguaje Natural **(NLP)** \n",
        "\n",
        "\n",
        "> Utilizando la librería **NLTK** de Python, con el objetivo de pasar los datos de texto a una matriz de sentimiento: clasificando los comentario en dos tipos positivos o negativos. Observando las palabras más frecuentes y cuales pueden relacionarse con la satisfacción del juego.\n",
        "\n",
        "\n",
        "- Resultados esperados\n",
        "\n",
        "\n",
        "> Validar la relación entre las horas jugadas y el texto de review, si efectivamente mientras más horas jugadas se tenga es más probable obtener un comentario positivo.\n",
        "\n",
        "\n",
        "> Mejorar el sistema de recomendación y su adaptabildad al trabajar con el review de cada usuario.\n",
        "\n",
        "\n",
        "\n",
        "\n"
      ]
    },
    {
      "cell_type": "markdown",
      "metadata": {
        "id": "XBKGVhWGfnVe"
      },
      "source": [
        "### **Análisis exploratorio utilizando NLP**"
      ]
    },
    {
      "cell_type": "markdown",
      "metadata": {
        "id": "CvgRfmvrcPXM"
      },
      "source": [
        "En este punto se explorará el tipo de comentario de la columna \"text\" y se fundamentará en el Sistema de Recomendación realizado en el Poyecto 03, donde recomendaba aquellos juegos que fueron comentados por usuarios que realizaron su review, basandose en un rating de la cantidad de horas jugadas, mientra mayor es la cantidad de horas jugadas mayor es el número de rating asigando (1 al 5).\n",
        "\n",
        "Sin embargo, al realizar esta diferenciación, se corre el riesgo de cometer dos tipos de errores: incorporar juegos con comentarios positivos con pocas horas de juego y juegos con comentarios negativos con muchas horas de juego. Para realizar la exploración se tratará de tomar los comentarios negativos a partir de las categorías provistas por el dataset games y extrapolarlas al dataset reviews a fin de saber cuáles son las palabras más frecuentes en cada uno de ellos."
      ]
    },
    {
      "cell_type": "code",
      "metadata": {
        "colab": {
          "base_uri": "https://localhost:8080/",
          "height": 346
        },
        "id": "i95gimBFbgBL",
        "outputId": "93d50c7a-bad3-43d6-ea7b-41688329ab0f"
      },
      "source": [
        "data_nlp = data_reviews_3b\n",
        "plt.subplots(figsize=(15, 5))\n",
        "\n",
        "sns.countplot(data = data_nlp, y = 'sentiment', order = data_nlp['sentiment'].value_counts().index)\n",
        "plt.title('Número de Calificaciones por Tipo')\n",
        "\n",
        "plt.xlabel('Cantidad de Juegos',size=14)\n",
        "plt.ylabel('Caracterizaciones sentiment',size=14)\n",
        "plt.title(\"Cantidad de juegos por tipo de caracterizacion del Atributo sentiment\" ,size=18)"
      ],
      "execution_count": 108,
      "outputs": [
        {
          "output_type": "execute_result",
          "data": {
            "text/plain": [
              "Text(0.5, 1.0, 'Cantidad de juegos por tipo de caracterizacion del Atributo sentiment')"
            ]
          },
          "metadata": {
            "tags": []
          },
          "execution_count": 108
        },
        {
          "output_type": "display_data",
          "data": {
            "image/png": "[encoded data removed]",
            "text/plain": [
              "<Figure size 1080x360 with 1 Axes>"
            ]
          },
          "metadata": {
            "tags": []
          }
        }
      ]
    },
    {
      "cell_type": "code",
      "metadata": {
        "colab": {
          "base_uri": "https://localhost:8080/",
          "height": 974
        },
        "id": "LREuII0bbgBO",
        "outputId": "d521b221-6353-412c-beb3-451fafa5a8d7"
      },
      "source": [
        "data_sentiment = data_nlp.groupby('sentiment').mean().sort_values(('hours'),ascending=False)\n",
        "print(data_sentiment)\n",
        "\n",
        "fig=plt.figure(figsize=(15,10))\n",
        "plt.suptitle('Boxplots Horas según Sentiment', ha='center')\n",
        "ax1=fig.add_subplot(1,2,1)\n",
        "ax2=fig.add_subplot(1,2,2)\n",
        "sns.boxplot(data = data_nlp, x = \"hours\",y='sentiment',showfliers=True,showmeans=True,meanprops={\"marker\":\"o\",\"markerfacecolor\":\"white\", \"markeredgecolor\":\"black\"}, ax=ax1)\n",
        "\n",
        "sns.boxplot(data = data_nlp, x = \"hours\",y='sentiment',showfliers=False,showmeans=True,meanprops={\"marker\":\"o\",\"markerfacecolor\":\"white\", \"markeredgecolor\":\"black\"}, ax=ax2)\n",
        "ax1.set_title(\"Horas con Outliers\",fontsize=16)\n",
        "ax2.set_title(\"Horas sin Outliers\",fontsize=16)\n",
        "ax1.set_xlabel('Hours',fontsize=16)\n",
        "#ax1.set_ylabel('',fontsize=16)\n",
        "ax2.set_xlabel('Hours',fontsize=16)\n",
        "#ax2.set_ylabel('Hours',fontsize=16)\n",
        "fig.subplots_adjust(top=0.9)\n",
        "plt.show()"
      ],
      "execution_count": 109,
      "outputs": [
        {
          "output_type": "stream",
          "text": [
            "                         username  product_id  hours  rating\n",
            "sentiment                                                   \n",
            "Very Positive            261053.7    237459.1  115.9     3.0\n",
            "Mixed                    262571.3    299885.4  110.1     2.9\n",
            "Overwhelmingly Positive  261796.2    207715.6   90.6     3.2\n",
            "Mostly Positive          263386.9    292625.5   77.3     2.8\n",
            "Mostly Negative          266762.2    295677.8   23.6     1.9\n",
            "Positive                 277081.9    434483.9   12.8     1.8\n",
            "Overwhelmingly Negative  266301.8    264960.2    7.9     1.8\n",
            "9 user reviews           270503.6    478101.8    7.4     1.6\n",
            "7 user reviews           268239.5    440315.6    6.9     1.5\n",
            "5 user reviews           269249.3    479198.0    6.4     1.5\n",
            "Very Negative            281122.3    310183.6    6.0     1.5\n",
            "4 user reviews           258131.9    465734.2    5.8     1.6\n",
            "1 user reviews           274820.7    530103.9    5.6     1.5\n",
            "6 user reviews           277143.7    461011.4    5.3     1.5\n",
            "8 user reviews           271239.9    421662.6    5.1     1.5\n",
            "2 user reviews           287670.2    506500.7    3.7     1.4\n",
            "3 user reviews           263621.0    507954.1    3.6     1.4\n",
            "Negative                 271256.2    361374.2    3.1     1.3\n"
          ],
          "name": "stdout"
        },
        {
          "output_type": "display_data",
          "data": {
            "image/png": "[encoded data removed]",
            "text/plain": [
              "<Figure size 1080x720 with 2 Axes>"
            ]
          },
          "metadata": {
            "tags": []
          }
        }
      ]
    },
    {
      "cell_type": "markdown",
      "metadata": {
        "id": "ROydn3w9hjSy"
      },
      "source": [
        "En el primer gráfico podemos ver que existe muy pocos juegos con \"sentiment\" negativo. Por lo que podemos concluir que el dataset está muy desbalanceado.\n",
        "\n",
        "Por otro lado, en el segundo gráfico, observamos que no existen diferencias significativas como vimos anteriormente en cuanto a la cantidad de horas jugadas con valoraciones positivas y valoraciones negativas.\n",
        "\n",
        "Por lo que, descartamos el uso de la variable \"text\" para la mejora del sistema de recomendación. De todas formas, se realizará el análisis exploratorio de la variable."
      ]
    },
    {
      "cell_type": "markdown",
      "metadata": {
        "id": "_8EfTwLrZ6xX"
      },
      "source": [
        "**Análisis exploratorio con NPL**"
      ]
    },
    {
      "cell_type": "code",
      "metadata": {
        "id": "I5afFnakZ7Pm"
      },
      "source": [
        "data_nlp=data_nlp[(data_nlp.sentiment=='Positive')|\n",
        "                        (data_nlp.sentiment=='Mostly Negative')|\n",
        "                        (data_nlp.sentiment=='Overwhelmingly Negative')|\n",
        "                        (data_nlp.sentiment=='Very Negative')|\n",
        "                        (data_nlp.sentiment=='Negative')]"
      ],
      "execution_count": 110,
      "outputs": []
    },
    {
      "cell_type": "code",
      "metadata": {
        "colab": {
          "base_uri": "https://localhost:8080/",
          "height": 204
        },
        "id": "TW3JRWvSv-hn",
        "outputId": "25a30bfe-b536-4530-c06d-988ce160e5a3"
      },
      "source": [
        "data_nlp.head()"
      ],
      "execution_count": 111,
      "outputs": [
        {
          "output_type": "execute_result",
          "data": {
            "text/html": [
              "<div>\n",
              "<style scoped>\n",
              "    .dataframe tbody tr th:only-of-type {\n",
              "        vertical-align: middle;\n",
              "    }\n",
              "\n",
              "    .dataframe tbody tr th {\n",
              "        vertical-align: top;\n",
              "    }\n",
              "\n",
              "    .dataframe thead th {\n",
              "        text-align: right;\n",
              "    }\n",
              "</style>\n",
              "<table border=\"1\" class=\"dataframe\">\n",
              "  <thead>\n",
              "    <tr style=\"text-align: right;\">\n",
              "      <th></th>\n",
              "      <th>username</th>\n",
              "      <th>product_id</th>\n",
              "      <th>text</th>\n",
              "      <th>hours</th>\n",
              "      <th>sentiment</th>\n",
              "      <th>rating</th>\n",
              "    </tr>\n",
              "  </thead>\n",
              "  <tbody>\n",
              "    <tr>\n",
              "      <th>0</th>\n",
              "      <td>62190</td>\n",
              "      <td>725280</td>\n",
              "      <td>This would not be acceptable as an entertainme...</td>\n",
              "      <td>0.1</td>\n",
              "      <td>Positive</td>\n",
              "      <td>1</td>\n",
              "    </tr>\n",
              "    <tr>\n",
              "      <th>1</th>\n",
              "      <td>432248</td>\n",
              "      <td>725280</td>\n",
              "      <td>Прикольная стрелялка. Взял дешево на распродаже.</td>\n",
              "      <td>0.1</td>\n",
              "      <td>Positive</td>\n",
              "      <td>1</td>\n",
              "    </tr>\n",
              "    <tr>\n",
              "      <th>9</th>\n",
              "      <td>346039</td>\n",
              "      <td>631920</td>\n",
              "      <td>Somewhere on Zibylon:\\n~~~~~~~~~~~~~~~~~~\\nZib...</td>\n",
              "      <td>7.8</td>\n",
              "      <td>Positive</td>\n",
              "      <td>2</td>\n",
              "    </tr>\n",
              "    <tr>\n",
              "      <th>10</th>\n",
              "      <td>200357</td>\n",
              "      <td>631920</td>\n",
              "      <td>Hmm...., what can I say? The game is good.\\nIt...</td>\n",
              "      <td>7.0</td>\n",
              "      <td>Positive</td>\n",
              "      <td>2</td>\n",
              "    </tr>\n",
              "    <tr>\n",
              "      <th>11</th>\n",
              "      <td>219368</td>\n",
              "      <td>631920</td>\n",
              "      <td>What a cute little game! The puzzles are actua...</td>\n",
              "      <td>31.4</td>\n",
              "      <td>Positive</td>\n",
              "      <td>4</td>\n",
              "    </tr>\n",
              "  </tbody>\n",
              "</table>\n",
              "</div>"
            ],
            "text/plain": [
              "    username  product_id  ... sentiment  rating\n",
              "0      62190      725280  ...  Positive       1\n",
              "1     432248      725280  ...  Positive       1\n",
              "9     346039      631920  ...  Positive       2\n",
              "10    200357      631920  ...  Positive       2\n",
              "11    219368      631920  ...  Positive       4\n",
              "\n",
              "[5 rows x 6 columns]"
            ]
          },
          "metadata": {
            "tags": []
          },
          "execution_count": 111
        }
      ]
    },
    {
      "cell_type": "code",
      "metadata": {
        "ExecuteTime": {
          "end_time": "2021-02-03T15:11:44.383088Z",
          "start_time": "2021-02-03T15:11:33.275343Z"
        },
        "id": "QzQA2a6GSHRD",
        "colab": {
          "base_uri": "https://localhost:8080/",
          "height": 392
        },
        "outputId": "242fd18d-d604-42d9-b40b-1843e9fd2953"
      },
      "source": [
        "fig=plt.figure(figsize=(15,5))\n",
        "plt.suptitle('Cantidad de Productos al comentar',fontsize=20, ha='center')\n",
        "sns.countplot(data_nlp.sentiment)\n",
        "fig.subplots_adjust(top=0.8)\n",
        "plt.show()\n",
        "\n",
        "\n",
        "#breve exploración a través de un ejemplo aleatorio\n",
        "index_random = np.random.randint(0,high = data_nlp.shape[0])\n",
        "texto = data_nlp.iloc[index_random].text\n",
        "print(index_random, texto, data_nlp.iloc[index_random].sentiment)"
      ],
      "execution_count": 112,
      "outputs": [
        {
          "output_type": "display_data",
          "data": {
            "image/png": "[encoded data removed]",
            "text/plain": [
              "<Figure size 1080x360 with 1 Axes>"
            ]
          },
          "metadata": {
            "tags": []
          }
        },
        {
          "output_type": "stream",
          "text": [
            "29 Litteratly garbage. Mostly Negative\n"
          ],
          "name": "stdout"
        }
      ]
    },
    {
      "cell_type": "markdown",
      "metadata": {
        "id": "75z0gQfvSHRE"
      },
      "source": [
        "En el Gráfico se muestran las categorías de comentarios que serán incorporadas al análisis. "
      ]
    },
    {
      "cell_type": "markdown",
      "metadata": {
        "id": "7S5soL9qSHRF"
      },
      "source": [
        "**Tokenización, StopWords y Rarewords**"
      ]
    },
    {
      "cell_type": "code",
      "metadata": {
        "ExecuteTime": {
          "end_time": "2021-02-03T15:11:44.428934Z",
          "start_time": "2021-02-03T15:11:44.385050Z"
        },
        "id": "47b4HCt0SHRF"
      },
      "source": [
        "#data_nlp\n",
        "filtrar = [] \n",
        "if True:\n",
        "    filtrar.append(\"game\")\n",
        "    filtrar.append(\"I\")\n",
        "    filtrar.append(\"The\")\n",
        "    filtrar.append(\"It\")\n",
        "    filtrar.append(\"This\")\n",
        "    filtrar.append(\"one\")\n",
        "    filtrar.append(\"not\")\n",
        "    filtrar.append(\"get\")\n",
        "    filtrar.append(\"really\")\n",
        "    filtrar.append(\"games\")\n",
        "    filtrar.append(\"like\")\n",
        "    filtrar.append(\"play\")\n",
        "    filtrar.append(\"time\")\n",
        "    filtrar.append(\"would\")\n",
        "    filtrar.append(\"even\")\n",
        "    filtrar.append(\"good\")\n",
        "    filtrar.append(\"much\")\n",
        "    filtrar.append(\"You\")\n",
        "    filtrar.append(\"first\")\n",
        "    filtrar.append(\"make\")\n",
        "    filtrar.append(\"playing\")\n",
        "    filtrar.append(\"If\")\n",
        "    filtrar.append(\"played\")\n",
        "    filtrar.append(\"A\")\n",
        "    filtrar.append(\"There\")\n",
        "\n",
        "#TOKENIZACIÓN CON NLTK\n",
        "titular_st = nltk.tokenize.sent_tokenize(texto)\n",
        "titular_wt = nltk.tokenize.word_tokenize(texto)\n",
        "    \n",
        "#NORMALIZACIÓN \n",
        "stopwords = nltk.corpus.stopwords.words('english')\n",
        "stopwords = [palabra for palabra in stopwords if 'not' not in palabra]\n",
        "\n",
        "titular_wt_sin_sw = [word for word in titular_wt if word not in stopwords]\n",
        "\n",
        "#FRECUENCIA DE PALABRAS\n",
        "freq =  nltk.FreqDist(titular_wt_sin_sw)"
      ],
      "execution_count": 113,
      "outputs": []
    },
    {
      "cell_type": "markdown",
      "metadata": {
        "id": "PvT0_G8m6AEn"
      },
      "source": [
        "### Aplicamos a todo el dataset\n"
      ]
    },
    {
      "cell_type": "code",
      "metadata": {
        "id": "E_NI-Ydb6Ez6"
      },
      "source": [
        "# data_nlp Completo\n",
        "\n",
        "data_nlp_text = []\n",
        "for i in range(data_nlp.shape[0]):\n",
        "    texto = data_nlp.iloc[i].text\n",
        "    texto = nltk.tokenize.RegexpTokenizer(\"[\\w]+\").tokenize(texto)\n",
        "    texto = [word for word in texto if word not in stopwords]\n",
        "    texto = [word for word in texto if word not in filtrar]\n",
        "\n",
        "    data_nlp_text.append(texto)"
      ],
      "execution_count": 114,
      "outputs": []
    },
    {
      "cell_type": "code",
      "metadata": {
        "colab": {
          "base_uri": "https://localhost:8080/"
        },
        "id": "9qfFLQ3j7Ke-",
        "outputId": "44e3f482-df85-4b1b-dcd0-1270ebad3693"
      },
      "source": [
        "data_nlp_text[0]"
      ],
      "execution_count": 115,
      "outputs": [
        {
          "output_type": "execute_result",
          "data": {
            "text/plain": [
              "['acceptable',\n",
              " 'entertainment',\n",
              " 'back',\n",
              " 'day',\n",
              " 'graphics',\n",
              " 'No',\n",
              " 'effort',\n",
              " 'made',\n",
              " 'bring',\n",
              " 'player',\n",
              " 'story',\n",
              " 'entertain']"
            ]
          },
          "metadata": {
            "tags": []
          },
          "execution_count": 115
        }
      ]
    },
    {
      "cell_type": "code",
      "metadata": {
        "id": "GGtMesfg7mg5"
      },
      "source": [
        "import itertools   \n",
        "#list(itertools.chain('ABC', 'DEF'))"
      ],
      "execution_count": 116,
      "outputs": []
    },
    {
      "cell_type": "code",
      "metadata": {
        "colab": {
          "base_uri": "https://localhost:8080/"
        },
        "id": "-nYvUOSY7xZx",
        "outputId": "6668a02b-734c-4608-9a62-17a3862bfac1"
      },
      "source": [
        "#Unimos todos en una misma lista\n",
        "data_nlp_text = list(itertools.chain(*data_nlp_text))\n",
        "data_nlp_text[0:10]"
      ],
      "execution_count": 117,
      "outputs": [
        {
          "output_type": "execute_result",
          "data": {
            "text/plain": [
              "['acceptable',\n",
              " 'entertainment',\n",
              " 'back',\n",
              " 'day',\n",
              " 'graphics',\n",
              " 'No',\n",
              " 'effort',\n",
              " 'made',\n",
              " 'bring',\n",
              " 'player']"
            ]
          },
          "metadata": {
            "tags": []
          },
          "execution_count": 117
        }
      ]
    },
    {
      "cell_type": "code",
      "metadata": {
        "id": "VjZWU55y8jRY",
        "colab": {
          "base_uri": "https://localhost:8080/"
        },
        "outputId": "c2620ad1-ba05-408c-9986-d2d3b907cade"
      },
      "source": [
        "#Frecuencia de las palabras\n",
        "freq_data_nlp_text = nltk.FreqDist(data_nlp_text)\n",
        "freq_data_nlp_text"
      ],
      "execution_count": 118,
      "outputs": [
        {
          "output_type": "execute_result",
          "data": {
            "text/plain": [
              "FreqDist({'acceptable': 39,\n",
              "          'entertainment': 40,\n",
              "          'back': 1107,\n",
              "          'day': 395,\n",
              "          'graphics': 1184,\n",
              "          'No': 788,\n",
              "          'effort': 157,\n",
              "          'made': 1152,\n",
              "          'bring': 124,\n",
              "          'player': 743,\n",
              "          'story': 1763,\n",
              "          'entertain': 13,\n",
              "          'Прикольная': 1,\n",
              "          'стрелялка': 1,\n",
              "          'Взял': 1,\n",
              "          'дешево': 1,\n",
              "          'на': 29,\n",
              "          'распродаже': 1,\n",
              "          'Somewhere': 5,\n",
              "          'Zibylon': 9,\n",
              "          'command': 52,\n",
              "          'centre': 21,\n",
              "          'read': 338,\n",
              "          'repeat': 72,\n",
              "          'Oh': 198,\n",
              "          'boy': 56,\n",
              "          'lost': 175,\n",
              "          'contact': 26,\n",
              "          'resourceful': 1,\n",
              "          'planets': 175,\n",
              "          'colonized': 1,\n",
              "          'space': 708,\n",
              "          'We': 146,\n",
              "          'need': 951,\n",
              "          'something': 1085,\n",
              "          'somewhere': 90,\n",
              "          'option': 262,\n",
              "          'think': 1331,\n",
              "          'send': 66,\n",
              "          'drones': 23,\n",
              "          'check': 174,\n",
              "          'third': 110,\n",
              "          'person': 259,\n",
              "          'drone': 23,\n",
              "          'actually': 966,\n",
              "          'exploration': 198,\n",
              "          'puzzle': 613,\n",
              "          'take': 754,\n",
              "          'control': 420,\n",
              "          'smallish': 3,\n",
              "          'goal': 119,\n",
              "          'recapturing': 1,\n",
              "          'stations': 149,\n",
              "          'mines': 21,\n",
              "          'planet': 227,\n",
              "          'several': 249,\n",
              "          'phases': 9,\n",
              "          'start': 868,\n",
              "          'In': 705,\n",
              "          'nutshell': 8,\n",
              "          'see': 1489,\n",
              "          'rather': 485,\n",
              "          'dark': 133,\n",
              "          'able': 507,\n",
              "          'fly': 171,\n",
              "          'equipped': 20,\n",
              "          'light': 198,\n",
              "          'underneath': 9,\n",
              "          'As': 644,\n",
              "          'around': 1076,\n",
              "          'sphere': 6,\n",
              "          'orange': 6,\n",
              "          'balls': 42,\n",
              "          'appear': 98,\n",
              "          'These': 124,\n",
              "          'represent': 19,\n",
              "          'places': 140,\n",
              "          'mine': 79,\n",
              "          'easily': 203,\n",
              "          'After': 370,\n",
              "          'collecting': 68,\n",
              "          'resources': 159,\n",
              "          'go': 1290,\n",
              "          'main': 482,\n",
              "          'base': 297,\n",
              "          'started': 286,\n",
              "          'craft': 59,\n",
              "          'new': 1308,\n",
              "          'equipment': 91,\n",
              "          'weapons': 373,\n",
              "          'upgrade': 190,\n",
              "          'hull': 12,\n",
              "          'options': 368,\n",
              "          'also': 1597,\n",
              "          'dismantle': 5,\n",
              "          'objects': 165,\n",
              "          'extract': 7,\n",
              "          'important': 144,\n",
              "          'components': 25,\n",
              "          'cannot': 288,\n",
              "          'dig': 37,\n",
              "          'ground': 137,\n",
              "          'point': 923,\n",
              "          'must': 371,\n",
              "          'admit': 76,\n",
              "          'stuck': 316,\n",
              "          'My': 421,\n",
              "          'small': 447,\n",
              "          'tip': 17,\n",
              "          'gather': 53,\n",
              "          'lots': 241,\n",
              "          'debris': 9,\n",
              "          'recapture': 2,\n",
              "          'lead': 88,\n",
              "          'next': 553,\n",
              "          'phase': 19,\n",
              "          'puzzles': 657,\n",
              "          'Another': 122,\n",
              "          'quick': 205,\n",
              "          'enemies': 625,\n",
              "          'lasers': 24,\n",
              "          'canons': 2,\n",
              "          'rockets': 17,\n",
              "          'placed': 56,\n",
              "          'sure': 583,\n",
              "          'equip': 23,\n",
              "          'upgrades': 175,\n",
              "          'order': 239,\n",
              "          'defeat': 43,\n",
              "          'another': 600,\n",
              "          'view': 122,\n",
              "          'Your': 145,\n",
              "          'figure': 263,\n",
              "          'find': 1181,\n",
              "          'exit': 77,\n",
              "          'doors': 63,\n",
              "          'clear': 239,\n",
              "          'stage': 191,\n",
              "          'dozen': 33,\n",
              "          'levels': 899,\n",
              "          'writing': 198,\n",
              "          'review': 898,\n",
              "          'half': 336,\n",
              "          'way': 1742,\n",
              "          'pretty': 1297,\n",
              "          'environmental': 21,\n",
              "          'enters': 7,\n",
              "          'room': 213,\n",
              "          'put': 576,\n",
              "          'push': 70,\n",
              "          'mechanisms': 3,\n",
              "          'door': 98,\n",
              "          'careful': 33,\n",
              "          'enemy': 342,\n",
              "          'let': 421,\n",
              "          'tell': 355,\n",
              "          'radar': 13,\n",
              "          'gone': 117,\n",
              "          'flash': 92,\n",
              "          'Then': 216,\n",
              "          'restart': 119,\n",
              "          'level': 1193,\n",
              "          'occasions': 8,\n",
              "          'saved': 46,\n",
              "          'depending': 92,\n",
              "          'size': 100,\n",
              "          'Make': 47,\n",
              "          'look': 912,\n",
              "          'everywhere': 61,\n",
              "          'might': 660,\n",
              "          'say': 1227,\n",
              "          'occasion': 9,\n",
              "          'What': 454,\n",
              "          'supposed': 172,\n",
              "          'Every': 90,\n",
              "          'detail': 108,\n",
              "          'needs': 398,\n",
              "          'looked': 158,\n",
              "          'frustrating': 239,\n",
              "          'times': 708,\n",
              "          'pick': 333,\n",
              "          'square': 34,\n",
              "          'boxes': 58,\n",
              "          'use': 852,\n",
              "          'lure': 6,\n",
              "          'different': 1025,\n",
              "          'locations': 79,\n",
              "          'stealth': 60,\n",
              "          'nearly': 151,\n",
              "          'forgot': 30,\n",
              "          'turn': 400,\n",
              "          'Graphically': 21,\n",
              "          'could': 1425,\n",
              "          'bit': 1193,\n",
              "          'polished': 100,\n",
              "          'looks': 551,\n",
              "          'ok': 243,\n",
              "          'terms': 91,\n",
              "          'controls': 842,\n",
              "          'works': 347,\n",
              "          'well': 1725,\n",
              "          'enjoy': 599,\n",
              "          'combination': 50,\n",
              "          'refreshing': 29,\n",
              "          'especially': 342,\n",
              "          'English': 85,\n",
              "          'translations': 14,\n",
              "          'better': 1501,\n",
              "          'Positives': 18,\n",
              "          'Challenging': 17,\n",
              "          'Mining': 9,\n",
              "          'items': 335,\n",
              "          'Achievements': 47,\n",
              "          'trading': 206,\n",
              "          'cards': 373,\n",
              "          'Negatives': 20,\n",
              "          'Needs': 29,\n",
              "          'Some': 303,\n",
              "          'translation': 55,\n",
              "          'enjoyed': 409,\n",
              "          'challenging': 315,\n",
              "          'mining': 51,\n",
              "          '7': 357,\n",
              "          '10': 2207,\n",
              "          'Key': 25,\n",
              "          'provided': 79,\n",
              "          'developer': 434,\n",
              "          'publisher': 37,\n",
              "          'purposes': 25,\n",
              "          'Any': 40,\n",
              "          'opinions': 25,\n",
              "          'expressed': 12,\n",
              "          'entirely': 106,\n",
              "          'Hmm': 7,\n",
              "          'makes': 803,\n",
              "          'lot': 1480,\n",
              "          'buttons': 123,\n",
              "          'sequence': 37,\n",
              "          'smaller': 37,\n",
              "          'found': 586,\n",
              "          'fight': 244,\n",
              "          'Picture': 3,\n",
              "          'textures': 100,\n",
              "          'bitting': 1,\n",
              "          'still': 1960,\n",
              "          'liked': 293,\n",
              "          'ship': 545,\n",
              "          'easy': 781,\n",
              "          'want': 1437,\n",
              "          'Also': 452,\n",
              "          'crafting': 89,\n",
              "          'system': 696,\n",
              "          'Pros': 235,\n",
              "          'picture': 45,\n",
              "          'possibility': 20,\n",
              "          'Cons': 244,\n",
              "          'achievements': 290,\n",
              "          'mb': 5,\n",
              "          'added': 295,\n",
              "          'Game': 591,\n",
              "          'everyone': 322,\n",
              "          'long': 803,\n",
              "          'spend': 281,\n",
              "          'hours': 1124,\n",
              "          'solving': 65,\n",
              "          '8': 383,\n",
              "          'Have': 68,\n",
              "          'nice': 986,\n",
              "          'sessions': 18,\n",
              "          'cute': 171,\n",
              "          'little': 1364,\n",
              "          'quite': 813,\n",
              "          'fun': 2689,\n",
              "          'though': 1013,\n",
              "          'feel': 1076,\n",
              "          'stupid': 144,\n",
              "          'pure': 65,\n",
              "          'logic': 48,\n",
              "          'ones': 212,\n",
              "          'involving': 21,\n",
              "          'levers': 2,\n",
              "          'weights': 3,\n",
              "          'timing': 35,\n",
              "          'forth': 46,\n",
              "          'fair': 152,\n",
              "          'amount': 350,\n",
              "          'others': 269,\n",
              "          'figuring': 33,\n",
              "          'geometry': 11,\n",
              "          'beautiful': 232,\n",
              "          'feels': 585,\n",
              "          'yet': 563,\n",
              "          'going': 1001,\n",
              "          'many': 1199,\n",
              "          'sandbox': 94,\n",
              "          'elements': 251,\n",
              "          'choices': 169,\n",
              "          'relaxing': 138,\n",
              "          'Just': 402,\n",
              "          'video': 299,\n",
              "          'hope': 403,\n",
              "          'ordinary': 9,\n",
              "          'random': 280,\n",
              "          'released': 376,\n",
              "          'flurry': 3,\n",
              "          'Steam': 683,\n",
              "          'true': 167,\n",
              "          'making': 539,\n",
              "          'worth': 1391,\n",
              "          'bother': 145,\n",
              "          'recommend': 1259,\n",
              "          'click': 479,\n",
              "          'piece': 207,\n",
              "          'history': 74,\n",
              "          'Microids': 1,\n",
              "          'fan': 413,\n",
              "          'bug': 195,\n",
              "          'never': 868,\n",
              "          'fix': 316,\n",
              "          'cuts': 15,\n",
              "          'major': 158,\n",
              "          'cutscene': 41,\n",
              "          'AND': 152,\n",
              "          'locks': 24,\n",
              "          'final': 173,\n",
              "          'part': 598,\n",
              "          'causes': 27,\n",
              "          'menu': 389,\n",
              "          'alchemy': 9,\n",
              "          'kit': 17,\n",
              "          'grayed': 2,\n",
              "          'Without': 31,\n",
              "          'key': 262,\n",
              "          'finish': 296,\n",
              "          'save': 389,\n",
              "          'file': 40,\n",
              "          'lets': 108,\n",
              "          'later': 361,\n",
              "          'issue': 226,\n",
              "          'former': 29,\n",
              "          'remains': 38,\n",
              "          'unaddressed': 1,\n",
              "          'Best': 105,\n",
              "          'ways': 170,\n",
              "          'Be': 46,\n",
              "          'afraid': 30,\n",
              "          'Why': 191,\n",
              "          'Well': 302,\n",
              "          'certainly': 163,\n",
              "          'links': 4,\n",
              "          'master': 72,\n",
              "          'horror': 163,\n",
              "          'HP': 21,\n",
              "          'Lovecraft': 14,\n",
              "          'IS': 166,\n",
              "          'vain': 8,\n",
              "          'REAL': 23,\n",
              "          'CASH': 2,\n",
              "          'inflict': 5,\n",
              "          'upon': 129,\n",
              "          'shall': 20,\n",
              "          'inevitably': 14,\n",
              "          'therefore': 24,\n",
              "          'waste': 405,\n",
              "          'TIME': 33,\n",
              "          'masochistic': 4,\n",
              "          'attempt': 125,\n",
              "          'justify': 35,\n",
              "          'purchase': 222,\n",
              "          'Yes': 217,\n",
              "          'felt': 297,\n",
              "          'Dawning': 1,\n",
              "          'Darkness': 11,\n",
              "          'began': 23,\n",
              "          'Take': 39,\n",
              "          'heed': 4,\n",
              "          'Save': 75,\n",
              "          'pity': 13,\n",
              "          'sake': 29,\n",
              "          'people': 1206,\n",
              "          'baaaddddddd': 1,\n",
              "          'right': 951,\n",
              "          'CD': 20,\n",
              "          'version': 513,\n",
              "          'familiar': 61,\n",
              "          'unfinished': 184,\n",
              "          'definitely': 459,\n",
              "          'great': 1662,\n",
              "          'kind': 519,\n",
              "          'flaw': 27,\n",
              "          'Other': 100,\n",
              "          'give': 1005,\n",
              "          'high': 384,\n",
              "          'mark': 33,\n",
              "          'move': 419,\n",
              "          'matches': 52,\n",
              "          'For': 562,\n",
              "          'hardcore': 68,\n",
              "          'gamers': 99,\n",
              "          'however': 334,\n",
              "          'Little': 33,\n",
              "          'action': 281,\n",
              "          'happens': 144,\n",
              "          'walking': 186,\n",
              "          'talking': 103,\n",
              "          'sometimes': 380,\n",
              "          'novel': 138,\n",
              "          'mean': 265,\n",
              "          'bad': 1693,\n",
              "          'atmosphere': 167,\n",
              "          'powerful': 70,\n",
              "          'nervous': 4,\n",
              "          'scary': 58,\n",
              "          'But': 1185,\n",
              "          'expect': 330,\n",
              "          'scaring': 4,\n",
              "          'jump': 305,\n",
              "          'scenes': 183,\n",
              "          'Thai': 2,\n",
              "          'movies': 39,\n",
              "          'Graphic': 18,\n",
              "          'PS1': 20,\n",
              "          'standard': 98,\n",
              "          'Resident': 29,\n",
              "          'Evil': 43,\n",
              "          '1': 1238,\n",
              "          'camera': 165,\n",
              "          'cursor': 46,\n",
              "          'terrible': 459,\n",
              "          'carefully': 38,\n",
              "          'progress': 280,\n",
              "          'Thanks': 72,\n",
              "          'goodness': 16,\n",
              "          'linear': 94,\n",
              "          'worry': 40,\n",
              "          'missed': 77,\n",
              "          'UPDATE': 35,\n",
              "          'gotten': 104,\n",
              "          'link': 27,\n",
              "          'Meridian4': 2,\n",
              "          'support': 358,\n",
              "          'team': 262,\n",
              "          'download': 101,\n",
              "          'fixes': 70,\n",
              "          'brief': 28,\n",
              "          'case': 158,\n",
              "          'last': 423,\n",
              "          'access': 407,\n",
              "          'said': 514,\n",
              "          'portion': 32,\n",
              "          'relevant': 8,\n",
              "          'written': 125,\n",
              "          'Thats': 32,\n",
              "          'strongly': 38,\n",
              "          'DO': 208,\n",
              "          'NOT': 354,\n",
              "          'BUY': 177,\n",
              "          'THIS': 277,\n",
              "          'GAME': 298,\n",
              "          'YOU': 167,\n",
              "          'WILL': 26,\n",
              "          'BE': 22,\n",
              "          'ABLE': 2,\n",
              "          'TO': 129,\n",
              "          'FINISH': 7,\n",
              "          'IT': 261,\n",
              "          '2': 1495,\n",
              "          'cut': 135,\n",
              "          'plot': 250,\n",
              "          'acutally': 5,\n",
              "          'worked': 136,\n",
              "          '3': 1381,\n",
              "          'meaningful': 22,\n",
              "          'clues': 39,\n",
              "          '4': 691,\n",
              "          'COULD': 13,\n",
              "          'ACTUALLY': 9,\n",
              "          'know': 1091,\n",
              "          'Buy': 130,\n",
              "          'called': 171,\n",
              "          'Within': 10,\n",
              "          'Pursuit': 2,\n",
              "          'Loath': 1,\n",
              "          'Nolder': 1,\n",
              "          'theres': 68,\n",
              "          'exactly': 192,\n",
              "          'adventure': 284,\n",
              "          'RIP': 17,\n",
              "          'OFF': 22,\n",
              "          'Whats': 5,\n",
              "          'seen': 347,\n",
              "          'videos': 76,\n",
              "          'youtube': 48,\n",
              "          'decent': 357,\n",
              "          'thats': 169,\n",
              "          'showing': 50,\n",
              "          'Playstation': 8,\n",
              "          'veteran': 12,\n",
              "          'genre': 287,\n",
              "          'obscure': 31,\n",
              "          'thinking': 208,\n",
              "          'UHS': 1,\n",
              "          'walkthrough': 25,\n",
              "          'eventually': 122,\n",
              "          'uh': 9,\n",
              "          'CAN': 29,\n",
              "          'T': 134,\n",
              "          'So': 827,\n",
              "          'money': 1286,\n",
              "          'Its': 349,\n",
              "          'b': 25,\n",
              "          'c': 29,\n",
              "          'real': 586,\n",
              "          'potential': 441,\n",
              "          'cutscenes': 64,\n",
              "          'helps': 53,\n",
              "          'buggy': 245,\n",
              "          'mess': 171,\n",
              "          'impossible': 180,\n",
              "          'complete': 488,\n",
              "          'due': 283,\n",
              "          'lack': 334,\n",
              "          'incredibly': 129,\n",
              "          'near': 144,\n",
              "          'endgame': 13,\n",
              "          'fact': 400,\n",
              "          'completely': 310,\n",
              "          'lose': 135,\n",
              "          'briefcase': 1,\n",
              "          'depriving': 1,\n",
              "          'solve': 123,\n",
              "          'friends': 363,\n",
              "          'filled': 68,\n",
              "          'worst': 414,\n",
              "          'life': 427,\n",
              "          'wherein': 1,\n",
              "          'search': 59,\n",
              "          'entire': 211,\n",
              "          'storage': 20,\n",
              "          'urns': 2,\n",
              "          'ashes': 5,\n",
              "          'someone': 310,\n",
              "          'hinted': 9,\n",
              "          'whatsoever': 62,\n",
              "          'revive': 11,\n",
              "          'soul': 28,\n",
              "          'using': 363,\n",
              "          'spirit': 20,\n",
              "          'To': 287,\n",
              "          'follow': 152,\n",
              "          'needed': 188,\n",
              "          'library': 91,\n",
              "          'books': 50,\n",
              "          'specific': 109,\n",
              "          'old': 665,\n",
              "          'mystery': 88,\n",
              "          'type': 315,\n",
              "          'Lovecraftian': 8,\n",
              "          'themes': 45,\n",
              "          'far': 913,\n",
              "          'problem': 369,\n",
              "          'dialogue': 138,\n",
              "          'subtitles': 21,\n",
              "          'accents': 4,\n",
              "          'seriously': 127,\n",
              "          'hard': 863,\n",
              "          'understand': 346,\n",
              "          'hearing': 20,\n",
              "          'slurred': 1,\n",
              "          'American': 22,\n",
              "          'advised': 3,\n",
              "          'talk': 94,\n",
              "          'anybody': 29,\n",
              "          'SAVE': 8,\n",
              "          'things': 1196,\n",
              "          'clicking': 121,\n",
              "          'hints': 43,\n",
              "          'practirse': 1,\n",
              "          'anyway': 107,\n",
              "          'multiple': 182,\n",
              "          'files': 33,\n",
              "          'PS': 28,\n",
              "          'loved': 210,\n",
              "          'guy': 155,\n",
              "          'gets': 462,\n",
              "          'angry': 45,\n",
              "          'ringing': 5,\n",
              "          'doorbell': 1,\n",
              "          'Naturally': 3,\n",
              "          'kept': 122,\n",
              "          'bashed': 2,\n",
              "          'death': 155,\n",
              "          'haha': 16,\n",
              "          'probably': 511,\n",
              "          'expected': 167,\n",
              "          'relatively': 56,\n",
              "          'unknown': 39,\n",
              "          'Not': 670,\n",
              "          'font': 19,\n",
              "          'knowledge': 43,\n",
              "          'devs': 367,\n",
              "          'Anuman': 1,\n",
              "          'Seems': 31,\n",
              "          'France': 4,\n",
              "          'Never': 71,\n",
              "          'heard': 123,\n",
              "          'downloaded': 25,\n",
              "          'Even': 343,\n",
              "          'Alice': 4,\n",
              "          'wonderland': 1,\n",
              "          'strange': 77,\n",
              "          'surprise': 39,\n",
              "          'design': 473,\n",
              "          'art': 461,\n",
              "          'music': 825,\n",
              "          'wonderful': 91,\n",
              "          'try': 841,\n",
              "          'classic': 182,\n",
              "          'Wonderland': 2,\n",
              "          'manga': 7,\n",
              "          'style': 576,\n",
              "          'format': 18,\n",
              "          'Six': 15,\n",
              "          'languages': 12,\n",
              "          'used': 413,\n",
              "          'chance': 236,\n",
              "          'tale': 34,\n",
              "          'figured': 62,\n",
              "          'avail': 7,\n",
              "          'method': 25,\n",
              "          'Seemed': 2,\n",
              "          'price': 959,\n",
              "          'less': 484,\n",
              "          'sell': 123,\n",
              "          'nowadays': 21,\n",
              "          'Relax': 1,\n",
              "          'sit': 56,\n",
              "          'bed': 22,\n",
              "          'sleep': 35,\n",
              "          'dreams': 21,\n",
              "          'full': 645,\n",
              "          'voice': 343,\n",
              "          'japanese': 14,\n",
              "          'language': 71,\n",
              "          'Full': 66,\n",
              "          'disclosure': 8,\n",
              "          'honour': 3,\n",
              "          'getting': 639,\n",
              "          'GDC': 2,\n",
              "          '2016': 99,\n",
              "          'big': 445,\n",
              "          'eagerly': 5,\n",
              "          'awaiting': 5,\n",
              "          'release': 576,\n",
              "          'always': 478,\n",
              "          'impressed': 46,\n",
              "          'gem': 85,\n",
              "          'example': 211,\n",
              "          'difficult': 418,\n",
              "          'soundtrack': 288,\n",
              "          'perfect': 250,\n",
              "          'unique': 348,\n",
              "          'recognize': 16,\n",
              "          'semispheres': 1,\n",
              "          'workout': 3,\n",
              "          'brain': 59,\n",
              "          'mechanic': 180,\n",
              "          'love': 834,\n",
              "          'guards': 26,\n",
              "          'Now': 293,\n",
              "          'indie': 181,\n",
              "          'trade': 91,\n",
              "          'strong': 83,\n",
              "          'believer': 2,\n",
              "          'scene': 118,\n",
              "          'realistically': 5,\n",
              "          'buy': 1362,\n",
              "          'cash': 144,\n",
              "          'super': 213,\n",
              "          'cool': 405,\n",
              "          'E': 57,\n",
              "          'title': 359,\n",
              "          '0': 378,\n",
              "          'didnt': 98,\n",
              "          'years': 415,\n",
              "          'ugly': 78,\n",
              "          'refund': 249,\n",
              "          'please': 200,\n",
              "          'valve': 6,\n",
              "          'reading': 143,\n",
              "          'eliminate': 10,\n",
              "          'steam': 536,\n",
              "          'Couldn': 22,\n",
              "          'tutorial': 348,\n",
              "          'described': 25,\n",
              "          'castle': 40,\n",
              "          'tower': 95,\n",
              "          'Don': 411,\n",
              "          'absolutely': 246,\n",
              "          'reason': 420,\n",
              "          'precious': 18,\n",
              "          'second': 312,\n",
              "          'Value': 14,\n",
              "          'Heed': 2,\n",
              "          'warning': 65,\n",
              "          'Flee': 2,\n",
              "          'Played': 75,\n",
              "          'truly': 140,\n",
              "          'outdated': 21,\n",
              "          'RTS': 67,\n",
              "          'RPG': 233,\n",
              "          'Story': 127,\n",
              "          'Empty': 2,\n",
              "          'Characters': 25,\n",
              "          'Average': 7,\n",
              "          'Gameplay': 200,\n",
              "          'Excellent': 34,\n",
              "          'Immersion': 5,\n",
              "          'Fair': 5,\n",
              "          'Environment': 3,\n",
              "          'Neat': 13,\n",
              "          'Graphics': 182,\n",
              "          'Simple': 76,\n",
              "          'Sound': 61,\n",
              "          'Good': 332,\n",
              "          'Music': 108,\n",
              "          'Great': 393,\n",
              "          'Overall': 352,\n",
              "          'Fun': 152,\n",
              "          'shoot': 280,\n",
              "          'Got': 91,\n",
              "          'free': 809,\n",
              "          'Worst': 79,\n",
              "          'CAPCOM': 4,\n",
              "          'ever': 925,\n",
              "          'past': 261,\n",
              "          '30': 313,\n",
              "          'Were': 10,\n",
              "          'masterbating': 1,\n",
              "          'came': 301,\n",
              "          'crap': 245,\n",
              "          'Bring': 4,\n",
              "          'Hd': 1,\n",
              "          'Remaster': 2,\n",
              "          'Hope': 26,\n",
              "          'dont': 510,\n",
              "          'Absolutely': 45,\n",
              "          'brutal': 24,\n",
              "          'menues': 9,\n",
              "          'enter': 93,\n",
              "          'multiplayer': 398,\n",
              "          'annoying': 306,\n",
              "          'Should': 30,\n",
              "          'chat': 34,\n",
              "          'zoomed': 13,\n",
              "          'adjust': 44,\n",
              "          'field': 48,\n",
              "          'sequences': 15,\n",
              "          'garbage': 187,\n",
              "          'looking': 714,\n",
              "          'text': 165,\n",
              "          'saying': 191,\n",
              "          'dead': 207,\n",
              "          'come': 545,\n",
              "          'across': 134,\n",
              "          'Looks': 55,\n",
              "          'plays': 225,\n",
              "          'Multiplayer': 63,\n",
              "          'unfortunate': 26,\n",
              "          'pay': 294,\n",
              "          'spin': 32,\n",
              "          'got': 1365,\n",
              "          'premium': 10,\n",
              "          'dollar': 80,\n",
              "          'tbh': 19,\n",
              "          'Trash': 13,\n",
              "          'Camera': 12,\n",
              "          'position': 65,\n",
              "          'VERY': 65,\n",
              "          'Too': 77,\n",
              "          'close': 222,\n",
              "          'character': 698,\n",
              "          'Had': 64,\n",
              "          'problems': 307,\n",
              "          'installation': 8,\n",
              "          'launch': 245,\n",
              "          'boring': 514,\n",
              "          'Bad': 145,\n",
              "          'sounds': 246,\n",
              "          'overall': 312,\n",
              "          'Android': 22,\n",
              "          'RE6': 1,\n",
              "          'RE': 31,\n",
              "          'Mercenaries': 1,\n",
              "          'Raid': 1,\n",
              "          'mode': 681,\n",
              "          'players': 466,\n",
              "          'Worth': 60,\n",
              "          '5': 953,\n",
              "          'euros': 27,\n",
              "          'Litteratly': 1,\n",
              "          'Hehehehe': 1,\n",
              "          '1usd': 1,\n",
              "          'humble': 42,\n",
              "          'bundle': 218,\n",
              "          'scammed': 10,\n",
              "          'wont': 87,\n",
              "          'capcoms': 1,\n",
              "          'guide': 80,\n",
              "          'work': 1098,\n",
              "          'Gl': 1,\n",
              "          'esports': 1,\n",
              "          'DipS': 1,\n",
              "          'ts': 4,\n",
              "          'Less': 13,\n",
              "          'redneck': 1,\n",
              "          'betrayed': 7,\n",
              "          'managed': 123,\n",
              "          'snatch': 2,\n",
              "          'following': 87,\n",
              "          'capcom': 3,\n",
              "          'enough': 890,\n",
              "          'provide': 71,\n",
              "          'Recommended': 65,\n",
              "          'ing': 184,\n",
              "          'sucks': 181,\n",
              "          'black': 100,\n",
              "          'bars': 24,\n",
              "          'bottom': 79,\n",
              "          'top': 270,\n",
              "          'screen': 607,\n",
              "          'They': 525,\n",
              "          'headaches': 3,\n",
              "          'sounded': 20,\n",
              "          'guns': 112,\n",
              "          'nothing': 786,\n",
              "          'area': 227,\n",
              "          'aiming': 44,\n",
              "          'odd': 83,\n",
              "          'change': 447,\n",
              "          '3rd': 48,\n",
              "          'perspective': 49,\n",
              "          'scopes': 2,\n",
              "          'mostly': 249,\n",
              "          'pickaxe': 2,\n",
              "          'thing': 1027,\n",
              "          'speaking': 23,\n",
              "          'animation': 115,\n",
              "          'freeze': 30,\n",
              "          'kill': 373,\n",
              "          'takes': 365,\n",
              "          'seconds': 156,\n",
              "          'Only': 174,\n",
              "          'almost': 424,\n",
              "          'lacks': 106,\n",
              "          'modes': 202,\n",
              "          'mini': 84,\n",
              "          'gamemodes': 18,\n",
              "          'within': 225,\n",
              "          'Playing': 47,\n",
              "          'H': 19,\n",
              "          'U': 41,\n",
              "          'N': 27,\n",
              "          'K': 20,\n",
              "          'Pathetic': 3,\n",
              "          'How': 136,\n",
              "          'knock': 24,\n",
              "          'mindless': 23,\n",
              "          'gameplay': 1422,\n",
              "          'negatively': 4,\n",
              "          'Im': 61,\n",
              "          'dollars': 114,\n",
              "          'solo': 43,\n",
              "          'missions': 278,\n",
              "          'online': 269,\n",
              "          'downside': 48,\n",
              "          'playerbase': 17,\n",
              "          'boggles': 2,\n",
              "          'mind': 313,\n",
              "          'leaderboards': 33,\n",
              "          'constantly': 147,\n",
              "          'crazy': 93,\n",
              "          'Resevil': 1,\n",
              "          'dot': 11,\n",
              "          'nets': 4,\n",
              "          'site': 26,\n",
              "          'hardly': 67,\n",
              "          'anyones': 5,\n",
              "          'low': 296,\n",
              "          'deal': 156,\n",
              "          'ranked': 8,\n",
              "          'gripe': 28,\n",
              "          'bugs': 732,\n",
              "          'TTK': 2,\n",
              "          'seems': 633,\n",
              "          'matter': 196,\n",
              "          'weapoin': 1,\n",
              "          'end': 707,\n",
              "          'unloading': 3,\n",
              "          'clip': 11,\n",
              "          'someones': 3,\n",
              "          'head': 155,\n",
              "          'chest': 17,\n",
              "          'survive': 84,\n",
              "          'im': 160,\n",
              "          'dies': 31,\n",
              "          'Can': 184,\n",
              "          'wrong': 313,\n",
              "          'Bundle': 38,\n",
              "          'absolute': 68,\n",
              "          'garbo': 1,\n",
              "          'Nobody': 10,\n",
              "          'servers': 59,\n",
              "          'bought': 570,\n",
              "          '29': 16,\n",
              "          '99': 224,\n",
              "          'simply': 330,\n",
              "          'studio': 51,\n",
              "          'WORST': 18,\n",
              "          'EVER': 39,\n",
              "          'DONT': 47,\n",
              "          'drags': 8,\n",
              "          'name': 201,\n",
              "          'dirt': 19,\n",
              "          'Lucky': 4,\n",
              "          'cheap': 219,\n",
              "          'Hi': 20,\n",
              "          'cant': 311,\n",
              "          'nope': 40,\n",
              "          'may': 621,\n",
              "          'activity': 16,\n",
              "          'despite': 176,\n",
              "          'given': 260,\n",
              "          'strive': 4,\n",
              "          'competitive': 35,\n",
              "          'survivors': 46,\n",
              "          'plus': 114,\n",
              "          'mission': 264,\n",
              "          'collect': 137,\n",
              "          'certain': 269,\n",
              "          'win': 165,\n",
              "          'round': 67,\n",
              "          'requires': 97,\n",
              "          'unlocks': 25,\n",
              "          'noticed': 86,\n",
              "          'ton': 80,\n",
              "          'maps': 238,\n",
              "          'keep': 613,\n",
              "          'interesting': 700,\n",
              "          'easier': 150,\n",
              "          'match': 162,\n",
              "          'That': 512,\n",
              "          'else': 396,\n",
              "          'opinion': 238,\n",
              "          'effect': 100,\n",
              "          'Wow': 53,\n",
              "          'generally': 85,\n",
              "          'cover': 99,\n",
              "          'shooter': 223,\n",
              "          'clumsy': 17,\n",
              "          'Humble': 34,\n",
              "          'exist': 61,\n",
              "          'SPOILER': 4,\n",
              "          'Huh': 5,\n",
              "          'shoulder': 17,\n",
              "          'kinda': 155,\n",
              "          'mercinaries': 2,\n",
              "          'RE4': 2,\n",
              "          'RE5': 1,\n",
              "          'shot': 171,\n",
              "          'favor': 49,\n",
              "          'single': 409,\n",
              "          'tied': 23,\n",
              "          'resident': 8,\n",
              "          'evil': 63,\n",
              "          'finding': 125,\n",
              "          'watching': 111,\n",
              "          'grass': 24,\n",
              "          'grow': 60,\n",
              "          'handles': 12,\n",
              "          'trash': 110,\n",
              "          'funny': 233,\n",
              "          'range': 82,\n",
              "          'scope': 20,\n",
              "          'pistol': 20,\n",
              "          'Shame': 20,\n",
              "          'wernt': 2,\n",
              "          'lazy': 62,\n",
              "          'sunk': 9,\n",
              "          'muliplayer': 1,\n",
              "          'repetivite': 1,\n",
              "          'butifull': 1,\n",
              "          'combat': 395,\n",
              "          'content': 540,\n",
              "          'bord': 2,\n",
              "          'concept': 316,\n",
              "          'Beside': 5,\n",
              "          'FOV': 15,\n",
              "          'impressive': 63,\n",
              "          'body': 45,\n",
              "          ...})"
            ]
          },
          "metadata": {
            "tags": []
          },
          "execution_count": 118
        }
      ]
    },
    {
      "cell_type": "code",
      "metadata": {
        "colab": {
          "base_uri": "https://localhost:8080/",
          "height": 204
        },
        "id": "tPgmD6bd85Mq",
        "outputId": "613d8f8a-9d9c-44ae-8397-2649d513ba20"
      },
      "source": [
        "#Convertir en dataframe\n",
        "df_freq_data_nlp_text = pd.DataFrame(list(freq_data_nlp_text.items()), columns = [\"Word\",\"Frequency\"])\n",
        "df_freq_data_nlp_text.head()"
      ],
      "execution_count": 119,
      "outputs": [
        {
          "output_type": "execute_result",
          "data": {
            "text/html": [
              "<div>\n",
              "<style scoped>\n",
              "    .dataframe tbody tr th:only-of-type {\n",
              "        vertical-align: middle;\n",
              "    }\n",
              "\n",
              "    .dataframe tbody tr th {\n",
              "        vertical-align: top;\n",
              "    }\n",
              "\n",
              "    .dataframe thead th {\n",
              "        text-align: right;\n",
              "    }\n",
              "</style>\n",
              "<table border=\"1\" class=\"dataframe\">\n",
              "  <thead>\n",
              "    <tr style=\"text-align: right;\">\n",
              "      <th></th>\n",
              "      <th>Word</th>\n",
              "      <th>Frequency</th>\n",
              "    </tr>\n",
              "  </thead>\n",
              "  <tbody>\n",
              "    <tr>\n",
              "      <th>0</th>\n",
              "      <td>acceptable</td>\n",
              "      <td>39</td>\n",
              "    </tr>\n",
              "    <tr>\n",
              "      <th>1</th>\n",
              "      <td>entertainment</td>\n",
              "      <td>40</td>\n",
              "    </tr>\n",
              "    <tr>\n",
              "      <th>2</th>\n",
              "      <td>back</td>\n",
              "      <td>1107</td>\n",
              "    </tr>\n",
              "    <tr>\n",
              "      <th>3</th>\n",
              "      <td>day</td>\n",
              "      <td>395</td>\n",
              "    </tr>\n",
              "    <tr>\n",
              "      <th>4</th>\n",
              "      <td>graphics</td>\n",
              "      <td>1184</td>\n",
              "    </tr>\n",
              "  </tbody>\n",
              "</table>\n",
              "</div>"
            ],
            "text/plain": [
              "            Word  Frequency\n",
              "0     acceptable         39\n",
              "1  entertainment         40\n",
              "2           back       1107\n",
              "3            day        395\n",
              "4       graphics       1184"
            ]
          },
          "metadata": {
            "tags": []
          },
          "execution_count": 119
        }
      ]
    },
    {
      "cell_type": "code",
      "metadata": {
        "colab": {
          "base_uri": "https://localhost:8080/",
          "height": 204
        },
        "id": "gFYZc0FX-cmH",
        "outputId": "8b4aab09-1f27-4022-e821-69152b08620e"
      },
      "source": [
        "#organizar por frecuencia\n",
        "df_freq_data_nlp_text.sort_values('Frequency',ascending=False, inplace = True) #implace true hace el reemplazo, sino solo muestra pero no reemplaza\n",
        "df_freq_data_nlp_text.head()"
      ],
      "execution_count": 120,
      "outputs": [
        {
          "output_type": "execute_result",
          "data": {
            "text/html": [
              "<div>\n",
              "<style scoped>\n",
              "    .dataframe tbody tr th:only-of-type {\n",
              "        vertical-align: middle;\n",
              "    }\n",
              "\n",
              "    .dataframe tbody tr th {\n",
              "        vertical-align: top;\n",
              "    }\n",
              "\n",
              "    .dataframe thead th {\n",
              "        text-align: right;\n",
              "    }\n",
              "</style>\n",
              "<table border=\"1\" class=\"dataframe\">\n",
              "  <thead>\n",
              "    <tr style=\"text-align: right;\">\n",
              "      <th></th>\n",
              "      <th>Word</th>\n",
              "      <th>Frequency</th>\n",
              "    </tr>\n",
              "  </thead>\n",
              "  <tbody>\n",
              "    <tr>\n",
              "      <th>272</th>\n",
              "      <td>fun</td>\n",
              "      <td>2689</td>\n",
              "    </tr>\n",
              "    <tr>\n",
              "      <th>223</th>\n",
              "      <td>10</td>\n",
              "      <td>2207</td>\n",
              "    </tr>\n",
              "    <tr>\n",
              "      <th>244</th>\n",
              "      <td>still</td>\n",
              "      <td>1960</td>\n",
              "    </tr>\n",
              "    <tr>\n",
              "      <th>10</th>\n",
              "      <td>story</td>\n",
              "      <td>1763</td>\n",
              "    </tr>\n",
              "    <tr>\n",
              "      <th>143</th>\n",
              "      <td>way</td>\n",
              "      <td>1742</td>\n",
              "    </tr>\n",
              "  </tbody>\n",
              "</table>\n",
              "</div>"
            ],
            "text/plain": [
              "      Word  Frequency\n",
              "272    fun       2689\n",
              "223     10       2207\n",
              "244  still       1960\n",
              "10   story       1763\n",
              "143    way       1742"
            ]
          },
          "metadata": {
            "tags": []
          },
          "execution_count": 120
        }
      ]
    },
    {
      "cell_type": "code",
      "metadata": {
        "colab": {
          "base_uri": "https://localhost:8080/",
          "height": 204
        },
        "id": "wB89ERc1-pWv",
        "outputId": "d25f849f-fbf4-4981-8550-be9b1d4ba9a4"
      },
      "source": [
        "#Reset index\n",
        "df_freq_data_nlp_text.reset_index(drop = True, inplace=True)\n",
        "df_freq_data_nlp_text.head()"
      ],
      "execution_count": 121,
      "outputs": [
        {
          "output_type": "execute_result",
          "data": {
            "text/html": [
              "<div>\n",
              "<style scoped>\n",
              "    .dataframe tbody tr th:only-of-type {\n",
              "        vertical-align: middle;\n",
              "    }\n",
              "\n",
              "    .dataframe tbody tr th {\n",
              "        vertical-align: top;\n",
              "    }\n",
              "\n",
              "    .dataframe thead th {\n",
              "        text-align: right;\n",
              "    }\n",
              "</style>\n",
              "<table border=\"1\" class=\"dataframe\">\n",
              "  <thead>\n",
              "    <tr style=\"text-align: right;\">\n",
              "      <th></th>\n",
              "      <th>Word</th>\n",
              "      <th>Frequency</th>\n",
              "    </tr>\n",
              "  </thead>\n",
              "  <tbody>\n",
              "    <tr>\n",
              "      <th>0</th>\n",
              "      <td>fun</td>\n",
              "      <td>2689</td>\n",
              "    </tr>\n",
              "    <tr>\n",
              "      <th>1</th>\n",
              "      <td>10</td>\n",
              "      <td>2207</td>\n",
              "    </tr>\n",
              "    <tr>\n",
              "      <th>2</th>\n",
              "      <td>still</td>\n",
              "      <td>1960</td>\n",
              "    </tr>\n",
              "    <tr>\n",
              "      <th>3</th>\n",
              "      <td>story</td>\n",
              "      <td>1763</td>\n",
              "    </tr>\n",
              "    <tr>\n",
              "      <th>4</th>\n",
              "      <td>way</td>\n",
              "      <td>1742</td>\n",
              "    </tr>\n",
              "  </tbody>\n",
              "</table>\n",
              "</div>"
            ],
            "text/plain": [
              "    Word  Frequency\n",
              "0    fun       2689\n",
              "1     10       2207\n",
              "2  still       1960\n",
              "3  story       1763\n",
              "4    way       1742"
            ]
          },
          "metadata": {
            "tags": []
          },
          "execution_count": 121
        }
      ]
    },
    {
      "cell_type": "code",
      "metadata": {
        "ExecuteTime": {
          "end_time": "2021-02-03T15:11:55.807203Z",
          "start_time": "2021-02-03T15:11:44.431927Z"
        },
        "id": "DGSE3lmBSHRG",
        "colab": {
          "base_uri": "https://localhost:8080/",
          "height": 559
        },
        "outputId": "e8017b2d-8c61-4e18-d1c9-6e7652efaf42"
      },
      "source": [
        "plt.figure(figsize = (15,8))\n",
        "plot = sns.barplot(x  = df_freq_data_nlp_text.iloc[:30].Word, y = df_freq_data_nlp_text.iloc[:30].Frequency)\n",
        "for item in plot.get_xticklabels():\n",
        "    item.set_rotation(90)\n",
        "plt.show()"
      ],
      "execution_count": 122,
      "outputs": [
        {
          "output_type": "display_data",
          "data": {
            "image/png": "[encoded data removed]",
            "text/plain": [
              "<Figure size 1080x576 with 1 Axes>"
            ]
          },
          "metadata": {
            "tags": []
          }
        }
      ]
    },
    {
      "cell_type": "markdown",
      "metadata": {
        "id": "4VqzsT4n_jbL"
      },
      "source": [
        "Las tres palabras más frecuentes en los textos fueron fun, 10 y still."
      ]
    },
    {
      "cell_type": "markdown",
      "metadata": {
        "id": "v9VxSfaeSHRI"
      },
      "source": [
        "**Lematización**"
      ]
    },
    {
      "cell_type": "code",
      "metadata": {
        "ExecuteTime": {
          "end_time": "2021-02-03T15:12:06.128282Z",
          "start_time": "2021-02-03T15:12:06.064121Z"
        },
        "id": "R3q3-21XSHRJ"
      },
      "source": [
        "# Importamos esta libreria que nos permite reemplazar caracteres\n",
        "import re\n",
        "\n",
        "# Importamos el lemmatizar de NLTK, y creamos el objeto // Importamos la función que nos permite Stemmizar de nltk y definimos el stemmer\n",
        "from nltk.stem import WordNetLemmatizer\n",
        "wordnet_lemmatizer = WordNetLemmatizer()\n",
        "\n",
        "# Traemos nuevamente las stopwords\n",
        "stopwords = nltk.corpus.stopwords.words('english')\n"
      ],
      "execution_count": 123,
      "outputs": []
    },
    {
      "cell_type": "code",
      "metadata": {
        "ExecuteTime": {
          "end_time": "2021-02-03T15:12:06.136227Z",
          "start_time": "2021-02-03T15:12:06.129245Z"
        },
        "id": "_nR_xQjjSHRJ"
      },
      "source": [
        "#from nltk.corpus import wordnet\n",
        "\n",
        "#def get_wordnet_pos(word):\n",
        " #   \"\"\"Map POS tag to first character lemmatize() accepts\"\"\"\n",
        "  #  tag = nltk.pos_tag([word])[0][1][0].upper()\n",
        "   # tag_dict = {\"J\": wordnet.ADJ,\n",
        "    #            \"N\": wordnet.NOUN,\n",
        "     #           \"V\": wordnet.VERB,\n",
        "      #          \"R\": wordnet.ADV}\n",
        "\n",
        "  #  return tag_dict.get(tag, wordnet.NOUN)\n"
      ],
      "execution_count": 124,
      "outputs": []
    },
    {
      "cell_type": "code",
      "metadata": {
        "id": "ERnLeKG6F-Ex"
      },
      "source": [
        "import nltk.stem as stemmer\n",
        "from nltk.stem.porter import *\n",
        "stemmer = PorterStemmer()"
      ],
      "execution_count": 125,
      "outputs": []
    },
    {
      "cell_type": "code",
      "metadata": {
        "ExecuteTime": {
          "end_time": "2021-02-03T15:48:06.384839Z",
          "start_time": "2021-02-03T15:12:06.145202Z"
        },
        "id": "8JjgWaEoSHRK"
      },
      "source": [
        "# Recorremos todos los titulos y le vamos aplicando la Normalizacion y luega el Stemming a cada uno\n",
        "\n",
        "titular_list=[]\n",
        "for titular in  data_nlp.text:\n",
        "    # Vamos a reemplzar los caracteres que no sean letras por espacios\n",
        "    titular=re.sub(\"[^a-zA-Z]\",\" \",str(titular))\n",
        "    # Pasamos todo a minúsculas\n",
        "    titular=titular.lower()\n",
        "    # Tokenizamos para separar las palabras\n",
        "    titular=nltk.word_tokenize(titular)\n",
        "    # Eliminamos las palabras demenos de 3 letras\n",
        "    titular = [palabra for palabra in titular if len(palabra)>3]\n",
        "    # Sacamos las Stopwords\n",
        "    titular = [palabra for palabra in titular if not palabra in stopwords]\n",
        "    \n",
        "    ## Hasta acá Normalizamos, ahora a stemmizar\n",
        "\n",
        "    # Aplicamos la funcion para buscar la raiz de las palabras\n",
        "    titular = [stemmer.stem(palabra) for palabra in titular]\n",
        "    # Por ultimo volvemos a unir el titular\n",
        "    titular =\" \".join(titular)\n",
        "    \n",
        "    # Vamos armando una lista con todos los reviewes\n",
        "    titular_list.append(titular)"
      ],
      "execution_count": 126,
      "outputs": []
    },
    {
      "cell_type": "code",
      "metadata": {
        "colab": {
          "base_uri": "https://localhost:8080/",
          "height": 289
        },
        "id": "l1wRmPLbJBnp",
        "outputId": "d679b523-e969-4721-8cab-638c27dd7722"
      },
      "source": [
        "data_nlp[\"review_stem\"] = titular_list\n",
        "data_nlp.tail()"
      ],
      "execution_count": 127,
      "outputs": [
        {
          "output_type": "execute_result",
          "data": {
            "text/html": [
              "<div>\n",
              "<style scoped>\n",
              "    .dataframe tbody tr th:only-of-type {\n",
              "        vertical-align: middle;\n",
              "    }\n",
              "\n",
              "    .dataframe tbody tr th {\n",
              "        vertical-align: top;\n",
              "    }\n",
              "\n",
              "    .dataframe thead th {\n",
              "        text-align: right;\n",
              "    }\n",
              "</style>\n",
              "<table border=\"1\" class=\"dataframe\">\n",
              "  <thead>\n",
              "    <tr style=\"text-align: right;\">\n",
              "      <th></th>\n",
              "      <th>username</th>\n",
              "      <th>product_id</th>\n",
              "      <th>text</th>\n",
              "      <th>hours</th>\n",
              "      <th>sentiment</th>\n",
              "      <th>rating</th>\n",
              "      <th>review_stem</th>\n",
              "    </tr>\n",
              "  </thead>\n",
              "  <tbody>\n",
              "    <tr>\n",
              "      <th>768349</th>\n",
              "      <td>184215</td>\n",
              "      <td>50820</td>\n",
              "      <td>Very nice artistic, drawn style. The marker is...</td>\n",
              "      <td>1.6</td>\n",
              "      <td>Positive</td>\n",
              "      <td>1</td>\n",
              "      <td>nice artist drawn style marker block sight gam...</td>\n",
              "    </tr>\n",
              "    <tr>\n",
              "      <th>768594</th>\n",
              "      <td>536484</td>\n",
              "      <td>358410</td>\n",
              "      <td>Constantly getting stuck looking at the ground...</td>\n",
              "      <td>0.1</td>\n",
              "      <td>Positive</td>\n",
              "      <td>1</td>\n",
              "      <td>constantli get stuck look ground despit enemi ...</td>\n",
              "    </tr>\n",
              "    <tr>\n",
              "      <th>768595</th>\n",
              "      <td>363535</td>\n",
              "      <td>358410</td>\n",
              "      <td>An often overlooked and under-rated DOS game.\\...</td>\n",
              "      <td>2.1</td>\n",
              "      <td>Positive</td>\n",
              "      <td>1</td>\n",
              "      <td>often overlook rate game remak tri still match...</td>\n",
              "    </tr>\n",
              "    <tr>\n",
              "      <th>775059</th>\n",
              "      <td>259201</td>\n",
              "      <td>673760</td>\n",
              "      <td>Old school arcade in which you play as a space...</td>\n",
              "      <td>2.0</td>\n",
              "      <td>Positive</td>\n",
              "      <td>1</td>\n",
              "      <td>school arcad play spaceship pilot collect bonu...</td>\n",
              "    </tr>\n",
              "    <tr>\n",
              "      <th>775060</th>\n",
              "      <td>394755</td>\n",
              "      <td>673760</td>\n",
              "      <td>Hardcore space shooter with upgradable ship an...</td>\n",
              "      <td>1.2</td>\n",
              "      <td>Positive</td>\n",
              "      <td>1</td>\n",
              "      <td>hardcor space shooter upgrad ship hundr enemi ...</td>\n",
              "    </tr>\n",
              "  </tbody>\n",
              "</table>\n",
              "</div>"
            ],
            "text/plain": [
              "        username  ...                                        review_stem\n",
              "768349    184215  ...  nice artist drawn style marker block sight gam...\n",
              "768594    536484  ...  constantli get stuck look ground despit enemi ...\n",
              "768595    363535  ...  often overlook rate game remak tri still match...\n",
              "775059    259201  ...  school arcad play spaceship pilot collect bonu...\n",
              "775060    394755  ...  hardcor space shooter upgrad ship hundr enemi ...\n",
              "\n",
              "[5 rows x 7 columns]"
            ]
          },
          "metadata": {
            "tags": []
          },
          "execution_count": 127
        }
      ]
    },
    {
      "cell_type": "markdown",
      "metadata": {
        "id": "_hlbkNLSai5U"
      },
      "source": [
        "### **Dataset con review_steam y rating**\n",
        "\n",
        "Armamos un nuevo dataset llamado dataset_stem que contenga solo las columnas review_steam y rating"
      ]
    },
    {
      "cell_type": "code",
      "metadata": {
        "colab": {
          "base_uri": "https://localhost:8080/",
          "height": 204
        },
        "id": "5cdHLHygai5V",
        "outputId": "cf74a14c-3bff-4f37-f1c8-7a92075a31b7"
      },
      "source": [
        "data_nlp_stem= pd.concat([data_nlp.review_stem, data_nlp.rating],axis=1)\n",
        "#data_nlp_stem.dropna(axis=0,inplace=True)  # Por si quedaron titulares vacios\n",
        "data_nlp_stem.head()"
      ],
      "execution_count": 128,
      "outputs": [
        {
          "output_type": "execute_result",
          "data": {
            "text/html": [
              "<div>\n",
              "<style scoped>\n",
              "    .dataframe tbody tr th:only-of-type {\n",
              "        vertical-align: middle;\n",
              "    }\n",
              "\n",
              "    .dataframe tbody tr th {\n",
              "        vertical-align: top;\n",
              "    }\n",
              "\n",
              "    .dataframe thead th {\n",
              "        text-align: right;\n",
              "    }\n",
              "</style>\n",
              "<table border=\"1\" class=\"dataframe\">\n",
              "  <thead>\n",
              "    <tr style=\"text-align: right;\">\n",
              "      <th></th>\n",
              "      <th>review_stem</th>\n",
              "      <th>rating</th>\n",
              "    </tr>\n",
              "  </thead>\n",
              "  <tbody>\n",
              "    <tr>\n",
              "      <th>0</th>\n",
              "      <td>would accept entertain even back graphic effor...</td>\n",
              "      <td>1</td>\n",
              "    </tr>\n",
              "    <tr>\n",
              "      <th>1</th>\n",
              "      <td></td>\n",
              "      <td>1</td>\n",
              "    </tr>\n",
              "    <tr>\n",
              "      <th>9</th>\n",
              "      <td>somewher zibylon zibylon command centr read re...</td>\n",
              "      <td>2</td>\n",
              "    </tr>\n",
              "    <tr>\n",
              "      <th>10</th>\n",
              "      <td>game good make think need think push button se...</td>\n",
              "      <td>2</td>\n",
              "    </tr>\n",
              "    <tr>\n",
              "      <th>11</th>\n",
              "      <td>cute littl game puzzl actual quit though make ...</td>\n",
              "      <td>4</td>\n",
              "    </tr>\n",
              "  </tbody>\n",
              "</table>\n",
              "</div>"
            ],
            "text/plain": [
              "                                          review_stem  rating\n",
              "0   would accept entertain even back graphic effor...       1\n",
              "1                                                           1\n",
              "9   somewher zibylon zibylon command centr read re...       2\n",
              "10  game good make think need think push button se...       2\n",
              "11  cute littl game puzzl actual quit though make ...       4"
            ]
          },
          "metadata": {
            "tags": []
          },
          "execution_count": 128
        }
      ]
    },
    {
      "cell_type": "code",
      "metadata": {
        "colab": {
          "base_uri": "https://localhost:8080/",
          "height": 285
        },
        "id": "P38mxrRfai5X",
        "outputId": "8c4b9f83-26f4-4500-fca6-e68fcd0eb4aa"
      },
      "source": [
        "sns.countplot(data_nlp_stem.rating)\n",
        "plt.show()"
      ],
      "execution_count": 129,
      "outputs": [
        {
          "output_type": "display_data",
          "data": {
            "image/png": "[encoded data removed]",
            "text/plain": [
              "<Figure size 432x288 with 1 Axes>"
            ]
          },
          "metadata": {
            "tags": []
          }
        }
      ]
    },
    {
      "cell_type": "markdown",
      "metadata": {
        "id": "GcSn0Dh4ai5Y"
      },
      "source": [
        "**Vectorizamos**\n"
      ]
    },
    {
      "cell_type": "code",
      "metadata": {
        "ExecuteTime": {
          "end_time": "2021-02-03T15:48:08.622433Z",
          "start_time": "2021-02-03T15:48:06.462605Z"
        },
        "colab": {
          "base_uri": "https://localhost:8080/"
        },
        "id": "OzT4dG5jai5Y",
        "outputId": "e9a5c3b1-7e61-44f6-cbf7-ae223a58075a"
      },
      "source": [
        "# Tomamos la lista de palabras y el vector que nos dice que valor de rating tiene el review\n",
        "\n",
        "list_reviews = list(data_nlp_stem['review_stem'].values)\n",
        "rating = data_nlp_stem['rating'].values\n",
        "\n",
        "from sklearn.feature_extraction.text import CountVectorizer\n",
        "\n",
        "# Usaremos solo las 1000 palabras con mas frecuencia en todo el corpus para generar los vectores\n",
        "max_features=1000\n",
        "\n",
        "# Es decir que cada instancia tendrá 1000 features\n",
        "cou_vec=CountVectorizer(max_features=max_features) # stop_words=\"english\" , ngram_range=(1, 2)\n",
        "\n",
        "matriz_reviews = cou_vec.fit_transform(list_reviews)\n",
        "\n",
        "# Tomamos las palabras\n",
        "all_words = cou_vec.get_feature_names()\n",
        "\n",
        "# Vizualizamos las 50 palabras mas usadas\n",
        "print(\"50 palabras mas usadas: \",all_words[0:50])"
      ],
      "execution_count": 130,
      "outputs": [
        {
          "output_type": "stream",
          "text": [
            "50 palabras mas usadas:  ['abandon', 'abil', 'abl', 'absolut', 'access', 'account', 'achiev', 'across', 'act', 'action', 'activ', 'actual', 'ad', 'add', 'addict', 'addit', 'advanc', 'adventur', 'advertis', 'aesthet', 'ahead', 'alien', 'allow', 'almost', 'alon', 'along', 'alot', 'alpha', 'alreadi', 'also', 'although', 'alway', 'amaz', 'amount', 'anim', 'annoy', 'anoth', 'answer', 'anymor', 'anyon', 'anyth', 'anyway', 'anywher', 'apart', 'appar', 'appear', 'appreci', 'arcad', 'area', 'arena']\n"
          ],
          "name": "stdout"
        }
      ]
    },
    {
      "cell_type": "markdown",
      "metadata": {
        "id": "hWmn0FYgai5Z"
      },
      "source": [
        "**Modelamos**"
      ]
    },
    {
      "cell_type": "code",
      "metadata": {
        "colab": {
          "base_uri": "https://localhost:8080/"
        },
        "id": "Ky5iBWQPai5Z",
        "outputId": "81ee8001-abb6-4d9d-a5c3-2f71c4abae55"
      },
      "source": [
        "X = matriz_reviews.toarray()\n",
        "y = rating\n",
        "\n",
        "print(len(X))\n",
        "print(len(y))"
      ],
      "execution_count": 131,
      "outputs": [
        {
          "output_type": "stream",
          "text": [
            "14109\n",
            "14109\n"
          ],
          "name": "stdout"
        }
      ]
    },
    {
      "cell_type": "code",
      "metadata": {
        "id": "mH02nCEoai5Z"
      },
      "source": [
        "from sklearn.model_selection import train_test_split\n",
        "xtrain, xtest, ytrain, ytest = train_test_split(X,y,test_size=0.2,random_state=42,stratify=y)"
      ],
      "execution_count": 132,
      "outputs": []
    },
    {
      "cell_type": "code",
      "metadata": {
        "colab": {
          "base_uri": "https://localhost:8080/"
        },
        "id": "QPna579dowfn",
        "outputId": "1445d2d1-280e-4605-80f4-a5ab24a6ee2b"
      },
      "source": [
        "xtrain"
      ],
      "execution_count": 133,
      "outputs": [
        {
          "output_type": "execute_result",
          "data": {
            "text/plain": [
              "array([[0, 0, 0, ..., 0, 0, 0],\n",
              "       [0, 0, 0, ..., 0, 0, 0],\n",
              "       [0, 0, 0, ..., 0, 0, 0],\n",
              "       ...,\n",
              "       [0, 0, 0, ..., 0, 0, 0],\n",
              "       [0, 0, 1, ..., 0, 0, 0],\n",
              "       [0, 0, 0, ..., 0, 0, 0]])"
            ]
          },
          "metadata": {
            "tags": []
          },
          "execution_count": 133
        }
      ]
    },
    {
      "cell_type": "code",
      "metadata": {
        "colab": {
          "base_uri": "https://localhost:8080/"
        },
        "id": "j232-pTIpIvj",
        "outputId": "bf397748-192f-4e7d-9ea5-b35d5957b0b6"
      },
      "source": [
        "ytrain"
      ],
      "execution_count": 134,
      "outputs": [
        {
          "output_type": "execute_result",
          "data": {
            "text/plain": [
              "array([3, 1, 1, ..., 2, 2, 3])"
            ]
          },
          "metadata": {
            "tags": []
          },
          "execution_count": 134
        }
      ]
    },
    {
      "cell_type": "code",
      "metadata": {
        "ExecuteTime": {
          "end_time": "2021-02-03T15:51:16.734658Z",
          "start_time": "2021-02-03T15:48:11.549247Z"
        },
        "colab": {
          "base_uri": "https://localhost:8080/"
        },
        "id": "IhL_uQYZai5a",
        "outputId": "af530ac7-562c-4be1-9f7f-b16625bf1b42"
      },
      "source": [
        "from sklearn.ensemble import RandomForestRegressor\n",
        "from sklearn.metrics import mean_squared_error #MEDIDA RMSE\n",
        "\n",
        "rf = RandomForestRegressor(n_jobs=-1, random_state=10)\n",
        "rf.fit(xtrain,ytrain)\n",
        "\n",
        "y_train_pred = rf.predict(xtrain)\n",
        "y_test_pred =  rf.predict(xtest)\n",
        "   \n",
        "### CALCULAMOS EL ERROR\n",
        "rmse_train = np.sqrt(mean_squared_error(ytrain, y_train_pred))\n",
        "rmse_test = np.sqrt(mean_squared_error(ytest, y_test_pred))\n",
        "\n",
        "print(\"ERROR  TRAIN     TEST    \")\n",
        "print(\"------ --------  --------\")\n",
        "print(\"%-6s %-9.2f %.2f \"%('RMSE:',rmse_train.round(2),rmse_test.round(2)))\n"
      ],
      "execution_count": 135,
      "outputs": [
        {
          "output_type": "stream",
          "text": [
            "ERROR  TRAIN     TEST    \n",
            "------ --------  --------\n",
            "RMSE:  0.49      1.10 \n"
          ],
          "name": "stdout"
        }
      ]
    },
    {
      "cell_type": "markdown",
      "metadata": {
        "id": "PObKBtYz29_j"
      },
      "source": [
        "El RMSE en test es muy distinto del RMSE en train por lo que el modelo no tiene un buen rendimiento, se nota un overfitting al clasficar los comentarios."
      ]
    },
    {
      "cell_type": "markdown",
      "metadata": {
        "id": "rLLde3khai5b"
      },
      "source": [
        "#### **Conclusión NLP**:\n",
        "\n",
        "Se intentó incorporar los juegos con comentarios positivos pero con poco tiempo de juego al sistema de recomendación, sin embargo, al realizar el análisis se concluye que no es factible realizar mejoras relevantes al incorporar NLP.\n",
        "\n",
        "Esto se debe a que:\n",
        "- A pesar de que no se cuenta con un feautre que defina a cada review como positivo o negativo, se cuenta con una aproximación a través de la columna \"sentiment\" del dataset games. Sin embargo, existe un fuerte desbalance que dificulta caracterizar a los reviews negativos por ser una pequeña minoría del dataset total.\n",
        "-  Las categorías de juegos con comentarios negativos tienen muchas palabras en común con las categorías con comentarios positivos.\n",
        "-  Al evaluar el rendimiento de los modelos entrenados se obtuvo una métrica de RMSE que muestra overfiting en los datos.\n",
        "    \n",
        "\n",
        "\n",
        "**Por estas razónes, se recomienda continuar trabajando con el modelo presentado en el Proyecto 03.**"
      ]
    }
  ]
}